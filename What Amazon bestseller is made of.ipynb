{
 "cells": [
  {
   "cell_type": "markdown",
   "metadata": {
    "cell_id": "241ceb72d36443178e31614e7baa2a7b",
    "deepnote_cell_type": "text-cell-h1",
    "formattedRanges": []
   },
   "source": [
    "# What Amazon Bestseller Is Made Of"
   ]
  },
  {
   "cell_type": "markdown",
   "metadata": {
    "cell_id": "8be026a3ac0b4986be7e09ae3453602b",
    "deepnote_app_block_visible": false,
    "deepnote_cell_type": "text-cell-h3",
    "formattedRanges": [],
    "is_collapsed": false
   },
   "source": [
    "### Analyzing key features of top-selling books"
   ]
  },
  {
   "cell_type": "markdown",
   "metadata": {
    "cell_id": "957fbcbebbfd4a86b8a619f3d6102469",
    "deepnote_cell_type": "text-cell-h3",
    "formattedRanges": []
   },
   "source": [
    "#### Importing main libraries"
   ]
  },
  {
   "cell_type": "code",
   "execution_count": 76,
   "metadata": {
    "cell_id": "e6c994715208425e9e6d2c8bc59574f7",
    "deepnote_cell_type": "code",
    "deepnote_to_be_reexecuted": false,
    "execution_millis": 1299,
    "execution_start": 1718026977568,
    "source_hash": "491be286"
   },
   "outputs": [],
   "source": [
    "import numpy as np\n",
    "import pandas as pd\n",
    "import seaborn as sns\n",
    "import matplotlib.pyplot as plt\n",
    "import plotly.express as px\n",
    "from pandasql import sqldf\n",
    "import circlify"
   ]
  },
  {
   "cell_type": "markdown",
   "metadata": {
    "cell_id": "1c3efd8665234a26b782c9680d329955",
    "deepnote_cell_type": "text-cell-h3",
    "formattedRanges": []
   },
   "source": [
    "#### Importing data"
   ]
  },
  {
   "cell_type": "code",
   "execution_count": 77,
   "metadata": {
    "cell_id": "484f4e144aa540b8a6e06b3e6201a779",
    "deepnote_cell_type": "code",
    "deepnote_table_loading": false,
    "deepnote_table_state": {
     "filters": [],
     "pageIndex": 0,
     "pageSize": 10,
     "sortBy": []
    },
    "deepnote_to_be_reexecuted": false,
    "execution_millis": 241,
    "execution_start": 1718026981040,
    "source_hash": "8cb3abee"
   },
   "outputs": [
    {
     "data": {
      "text/html": [
       "<div>\n",
       "<style scoped>\n",
       "    .dataframe tbody tr th:only-of-type {\n",
       "        vertical-align: middle;\n",
       "    }\n",
       "\n",
       "    .dataframe tbody tr th {\n",
       "        vertical-align: top;\n",
       "    }\n",
       "\n",
       "    .dataframe thead th {\n",
       "        text-align: right;\n",
       "    }\n",
       "</style>\n",
       "<table border=\"1\" class=\"dataframe\">\n",
       "  <thead>\n",
       "    <tr style=\"text-align: right;\">\n",
       "      <th></th>\n",
       "      <th>Name</th>\n",
       "      <th>Author</th>\n",
       "      <th>User Rating</th>\n",
       "      <th>Reviews</th>\n",
       "      <th>Price</th>\n",
       "      <th>Year</th>\n",
       "      <th>Genre</th>\n",
       "    </tr>\n",
       "  </thead>\n",
       "  <tbody>\n",
       "    <tr>\n",
       "      <th>0</th>\n",
       "      <td>Act Like a Lady, Think Like a Man: What Men Re...</td>\n",
       "      <td>Steve Harvey</td>\n",
       "      <td>4.6</td>\n",
       "      <td>5013</td>\n",
       "      <td>17</td>\n",
       "      <td>2009</td>\n",
       "      <td>Non Fiction</td>\n",
       "    </tr>\n",
       "    <tr>\n",
       "      <th>1</th>\n",
       "      <td>Arguing with Idiots: How to Stop Small Minds a...</td>\n",
       "      <td>Glenn Beck</td>\n",
       "      <td>4.6</td>\n",
       "      <td>798</td>\n",
       "      <td>5</td>\n",
       "      <td>2009</td>\n",
       "      <td>Non Fiction</td>\n",
       "    </tr>\n",
       "    <tr>\n",
       "      <th>2</th>\n",
       "      <td>Breaking Dawn (The Twilight Saga, Book 4)</td>\n",
       "      <td>Stephenie Meyer</td>\n",
       "      <td>4.6</td>\n",
       "      <td>9769</td>\n",
       "      <td>13</td>\n",
       "      <td>2009</td>\n",
       "      <td>Fiction</td>\n",
       "    </tr>\n",
       "    <tr>\n",
       "      <th>3</th>\n",
       "      <td>Crazy Love: Overwhelmed by a Relentless God</td>\n",
       "      <td>Francis Chan</td>\n",
       "      <td>4.7</td>\n",
       "      <td>1542</td>\n",
       "      <td>14</td>\n",
       "      <td>2009</td>\n",
       "      <td>Non Fiction</td>\n",
       "    </tr>\n",
       "    <tr>\n",
       "      <th>4</th>\n",
       "      <td>Dead And Gone: A Sookie Stackhouse Novel (Sook...</td>\n",
       "      <td>Charlaine Harris</td>\n",
       "      <td>4.6</td>\n",
       "      <td>1541</td>\n",
       "      <td>4</td>\n",
       "      <td>2009</td>\n",
       "      <td>Fiction</td>\n",
       "    </tr>\n",
       "    <tr>\n",
       "      <th>5</th>\n",
       "      <td>Diary of a Wimpy Kid: The Last Straw (Book 3)</td>\n",
       "      <td>Jeff Kinney</td>\n",
       "      <td>4.8</td>\n",
       "      <td>3837</td>\n",
       "      <td>15</td>\n",
       "      <td>2009</td>\n",
       "      <td>Fiction</td>\n",
       "    </tr>\n",
       "    <tr>\n",
       "      <th>6</th>\n",
       "      <td>Divine Soul Mind Body Healing and Transmission...</td>\n",
       "      <td>Zhi Gang Sha</td>\n",
       "      <td>4.6</td>\n",
       "      <td>37</td>\n",
       "      <td>6</td>\n",
       "      <td>2009</td>\n",
       "      <td>Non Fiction</td>\n",
       "    </tr>\n",
       "    <tr>\n",
       "      <th>7</th>\n",
       "      <td>Dog Days (Diary of a Wimpy Kid, Book 4) (Volum...</td>\n",
       "      <td>Jeff Kinney</td>\n",
       "      <td>4.8</td>\n",
       "      <td>3181</td>\n",
       "      <td>12</td>\n",
       "      <td>2009</td>\n",
       "      <td>Fiction</td>\n",
       "    </tr>\n",
       "    <tr>\n",
       "      <th>8</th>\n",
       "      <td>Eat This Not That! Supermarket Survival Guide:...</td>\n",
       "      <td>David Zinczenko</td>\n",
       "      <td>4.5</td>\n",
       "      <td>720</td>\n",
       "      <td>1</td>\n",
       "      <td>2009</td>\n",
       "      <td>Non Fiction</td>\n",
       "    </tr>\n",
       "    <tr>\n",
       "      <th>9</th>\n",
       "      <td>Eat This, Not That! Thousands of Simple Food S...</td>\n",
       "      <td>David Zinczenko</td>\n",
       "      <td>4.3</td>\n",
       "      <td>956</td>\n",
       "      <td>14</td>\n",
       "      <td>2009</td>\n",
       "      <td>Non Fiction</td>\n",
       "    </tr>\n",
       "  </tbody>\n",
       "</table>\n",
       "</div>"
      ],
      "text/plain": [
       "                                                Name            Author  \\\n",
       "0  Act Like a Lady, Think Like a Man: What Men Re...      Steve Harvey   \n",
       "1  Arguing with Idiots: How to Stop Small Minds a...        Glenn Beck   \n",
       "2          Breaking Dawn (The Twilight Saga, Book 4)   Stephenie Meyer   \n",
       "3        Crazy Love: Overwhelmed by a Relentless God      Francis Chan   \n",
       "4  Dead And Gone: A Sookie Stackhouse Novel (Sook...  Charlaine Harris   \n",
       "5      Diary of a Wimpy Kid: The Last Straw (Book 3)       Jeff Kinney   \n",
       "6  Divine Soul Mind Body Healing and Transmission...      Zhi Gang Sha   \n",
       "7  Dog Days (Diary of a Wimpy Kid, Book 4) (Volum...       Jeff Kinney   \n",
       "8  Eat This Not That! Supermarket Survival Guide:...   David Zinczenko   \n",
       "9  Eat This, Not That! Thousands of Simple Food S...   David Zinczenko   \n",
       "\n",
       "   User Rating  Reviews  Price  Year        Genre  \n",
       "0          4.6     5013     17  2009  Non Fiction  \n",
       "1          4.6      798      5  2009  Non Fiction  \n",
       "2          4.6     9769     13  2009      Fiction  \n",
       "3          4.7     1542     14  2009  Non Fiction  \n",
       "4          4.6     1541      4  2009      Fiction  \n",
       "5          4.8     3837     15  2009      Fiction  \n",
       "6          4.6       37      6  2009  Non Fiction  \n",
       "7          4.8     3181     12  2009      Fiction  \n",
       "8          4.5      720      1  2009  Non Fiction  \n",
       "9          4.3      956     14  2009  Non Fiction  "
      ]
     },
     "execution_count": 77,
     "metadata": {},
     "output_type": "execute_result"
    }
   ],
   "source": [
    "df_1 = pd.read_csv('Amazon_Top_50_Bestselling_Books.csv')\n",
    "df_1.head(10)"
   ]
  },
  {
   "cell_type": "markdown",
   "metadata": {
    "cell_id": "8062e32c67934903b232733a98fabe12",
    "deepnote_cell_type": "text-cell-h3",
    "formattedRanges": []
   },
   "source": [
    "### Data preparation and cleaning"
   ]
  },
  {
   "cell_type": "markdown",
   "metadata": {
    "cell_id": "78d3c9c793ef499fb3c279982132aa1e",
    "deepnote_cell_type": "text-cell-p",
    "formattedRanges": []
   },
   "source": [
    "First of all, we need to understand the data we are going to work with."
   ]
  },
  {
   "cell_type": "code",
   "execution_count": 78,
   "metadata": {
    "cell_id": "e5a98e45396e4e809f488f3301d68547",
    "deepnote_cell_type": "code",
    "deepnote_to_be_reexecuted": false,
    "execution_millis": 245,
    "execution_start": 1718026981204,
    "source_hash": "1fe1ce02"
   },
   "outputs": [
    {
     "name": "stdout",
     "output_type": "stream",
     "text": [
      "<class 'pandas.core.frame.DataFrame'>\n",
      "RangeIndex: 700 entries, 0 to 699\n",
      "Data columns (total 7 columns):\n",
      " #   Column       Non-Null Count  Dtype  \n",
      "---  ------       --------------  -----  \n",
      " 0   Name         700 non-null    object \n",
      " 1   Author       700 non-null    object \n",
      " 2   User Rating  700 non-null    float64\n",
      " 3   Reviews      700 non-null    int64  \n",
      " 4   Price        700 non-null    int64  \n",
      " 5   Year         700 non-null    int64  \n",
      " 6   Genre        700 non-null    object \n",
      "dtypes: float64(1), int64(3), object(3)\n",
      "memory usage: 38.4+ KB\n"
     ]
    }
   ],
   "source": [
    "df_1.info()"
   ]
  },
  {
   "cell_type": "markdown",
   "metadata": {
    "cell_id": "8c6346e61ea14f0b82622ba54391df3c",
    "deepnote_cell_type": "text-cell-p",
    "formattedRanges": []
   },
   "source": [
    "We can see that there are no missing values in the dataset. "
   ]
  },
  {
   "cell_type": "markdown",
   "metadata": {
    "cell_id": "106aa7081be24f0c85d425ac0df1c310",
    "deepnote_cell_type": "text-cell-p",
    "formattedRanges": []
   },
   "source": [
    "Having reviewed data in each column, we've discovered inconsistencies in the followig columns\n",
    "- Author,\n",
    "- User Rating,\n",
    "- Year.\n",
    "\n",
    "We need to address these before we move to the analysis."
   ]
  },
  {
   "cell_type": "code",
   "execution_count": 79,
   "metadata": {
    "cell_id": "26b46aca262f4da1ba2f6d31f4f87571",
    "deepnote_cell_type": "sql",
    "deepnote_sql_source": "SELECT DISTINCT(author)\nFROM 'Amazon_50_bestsellers_with_categories_2009_2022.csv'\nORDER BY author ASC",
    "deepnote_table_loading": false,
    "deepnote_table_state": {
     "filters": [],
     "pageIndex": 30,
     "pageSize": 10,
     "sortBy": []
    },
    "deepnote_to_be_reexecuted": false,
    "deepnote_variable_name": "df_2",
    "execution_millis": 245,
    "execution_start": 1718026981205,
    "source_hash": "644d0d62",
    "sql_integration_id": "deepnote-dataframe-sql"
   },
   "outputs": [
    {
     "data": {
      "text/html": [
       "<div>\n",
       "<style scoped>\n",
       "    .dataframe tbody tr th:only-of-type {\n",
       "        vertical-align: middle;\n",
       "    }\n",
       "\n",
       "    .dataframe tbody tr th {\n",
       "        vertical-align: top;\n",
       "    }\n",
       "\n",
       "    .dataframe thead th {\n",
       "        text-align: right;\n",
       "    }\n",
       "</style>\n",
       "<table border=\"1\" class=\"dataframe\">\n",
       "  <thead>\n",
       "    <tr style=\"text-align: right;\">\n",
       "      <th></th>\n",
       "      <th>Author</th>\n",
       "    </tr>\n",
       "  </thead>\n",
       "  <tbody>\n",
       "    <tr>\n",
       "      <th>0</th>\n",
       "      <td>Abraham Verghese</td>\n",
       "    </tr>\n",
       "    <tr>\n",
       "      <th>1</th>\n",
       "      <td>Adam Gasiewski</td>\n",
       "    </tr>\n",
       "    <tr>\n",
       "      <th>2</th>\n",
       "      <td>Adam Mansbach</td>\n",
       "    </tr>\n",
       "    <tr>\n",
       "      <th>3</th>\n",
       "      <td>Adam Silvera</td>\n",
       "    </tr>\n",
       "    <tr>\n",
       "      <th>4</th>\n",
       "      <td>Adam Wallace</td>\n",
       "    </tr>\n",
       "    <tr>\n",
       "      <th>5</th>\n",
       "      <td>Adir Levy</td>\n",
       "    </tr>\n",
       "    <tr>\n",
       "      <th>6</th>\n",
       "      <td>Admiral William H. McRaven</td>\n",
       "    </tr>\n",
       "    <tr>\n",
       "      <th>7</th>\n",
       "      <td>Adult Coloring Book Designs</td>\n",
       "    </tr>\n",
       "    <tr>\n",
       "      <th>8</th>\n",
       "      <td>Alan Moore</td>\n",
       "    </tr>\n",
       "    <tr>\n",
       "      <th>9</th>\n",
       "      <td>Alex Michaelides</td>\n",
       "    </tr>\n",
       "  </tbody>\n",
       "</table>\n",
       "</div>"
      ],
      "text/plain": [
       "                        Author\n",
       "0             Abraham Verghese\n",
       "1               Adam Gasiewski\n",
       "2                Adam Mansbach\n",
       "3                 Adam Silvera\n",
       "4                 Adam Wallace\n",
       "5                    Adir Levy\n",
       "6   Admiral William H. McRaven\n",
       "7  Adult Coloring Book Designs\n",
       "8                   Alan Moore\n",
       "9             Alex Michaelides"
      ]
     },
     "execution_count": 79,
     "metadata": {},
     "output_type": "execute_result"
    }
   ],
   "source": [
    "df_2 = sqldf(\"SELECT DISTINCT(author) FROM df_1 ORDER BY author ASC\")\n",
    "df_2.head(10)"
   ]
  },
  {
   "cell_type": "markdown",
   "metadata": {
    "cell_id": "d1c980241c194198a947a9f0abceddd2",
    "deepnote_cell_type": "text-cell-p",
    "formattedRanges": []
   },
   "source": [
    "By looking at the full list of authors, we can see that some names are misspelled and others are inconsistent. "
   ]
  },
  {
   "cell_type": "code",
   "execution_count": 80,
   "metadata": {
    "cell_id": "ee9a23b22924416295902dc59a248799",
    "deepnote_cell_type": "code",
    "deepnote_to_be_reexecuted": false,
    "execution_millis": 242,
    "execution_start": 1718026981453,
    "source_hash": "2647bb2a"
   },
   "outputs": [],
   "source": [
    "df_1.loc[df_1['Author']=='Delegates of the Constitutional','Author']='Delegates of the Constitutional Convention'\n",
    "df_1.loc[df_1['Author']=='E L James','Author']='E. L. James'\n",
    "df_1.loc[df_1['Author']=='Eric Larson','Author']='Erik Larson'\n",
    "df_1.loc[df_1['Author']=='George R.R. Martin','Author']='George R. R. Martin'\n",
    "df_1.loc[df_1['Author']=='J.K. Rowling','Author']='J. K. Rowling'\n",
    "df_1.loc[df_1['Author']=='JJ Smith', 'Author']='J. J. Smith'\n",
    "df_1.loc[df_1['Author']=='M Prefontaine','Author']='M. Prefontaine'\n",
    "df_1.loc[df_1['Author']=='Ph.D., Katie Stokes, M.Ed.,','Author']='Katie Stokes, Ph.D., M.Ed.'\n",
    "df_1.loc[df_1['Author']=='The Staff of The Late Show with','Author']='The Staff of The Late Show with Stephen Colbert'"
   ]
  },
  {
   "cell_type": "markdown",
   "metadata": {
    "cell_id": "fa5b33a70b4f4c8aad37ad79533b926e",
    "deepnote_cell_type": "text-cell-p",
    "formattedRanges": []
   },
   "source": [
    "We also need to make sure that the data in the User Rating column is displayed consistently and change the datatype for the Year column from INT64 to DATETIME."
   ]
  },
  {
   "cell_type": "code",
   "execution_count": 81,
   "metadata": {
    "cell_id": "3d7aea46b7c648458520cf1dc40523f4",
    "deepnote_cell_type": "code",
    "deepnote_table_loading": false,
    "deepnote_table_state": {
     "filters": [],
     "pageIndex": 2,
     "pageSize": 10,
     "sortBy": []
    },
    "deepnote_to_be_reexecuted": false,
    "execution_millis": 198,
    "execution_start": 1718026981497,
    "source_hash": "2cca7d03"
   },
   "outputs": [],
   "source": [
    "df_1.loc[df_1['User Rating']=='4','User Rating']= 4.0"
   ]
  },
  {
   "cell_type": "code",
   "execution_count": 82,
   "metadata": {
    "cell_id": "0513274ea359461db4f08e69701f8900",
    "deepnote_cell_type": "code",
    "deepnote_table_loading": false,
    "deepnote_table_state": {
     "filters": [],
     "pageIndex": 3,
     "pageSize": 10,
     "sortBy": []
    },
    "deepnote_to_be_reexecuted": false,
    "execution_millis": 198,
    "execution_start": 1718026981498,
    "source_hash": "bb8c9887"
   },
   "outputs": [
    {
     "data": {
      "text/plain": [
       "0     2009-01-01\n",
       "1     2009-01-01\n",
       "2     2009-01-01\n",
       "3     2009-01-01\n",
       "4     2009-01-01\n",
       "         ...    \n",
       "695   2022-01-01\n",
       "696   2022-01-01\n",
       "697   2022-01-01\n",
       "698   2022-01-01\n",
       "699   2022-01-01\n",
       "Name: Year, Length: 700, dtype: datetime64[ns]"
      ]
     },
     "execution_count": 82,
     "metadata": {},
     "output_type": "execute_result"
    }
   ],
   "source": [
    "pd.to_datetime(df_1['Year'], format ='%Y')"
   ]
  },
  {
   "cell_type": "markdown",
   "metadata": {
    "cell_id": "fffe79dd4ca2475498cd7e670a306332",
    "deepnote_cell_type": "text-cell-h2",
    "formattedRanges": []
   },
   "source": [
    "### Exploratory data analysis (EDA)"
   ]
  },
  {
   "cell_type": "markdown",
   "metadata": {
    "cell_id": "fb7096583e514767a59f7e72c93b0e5b",
    "deepnote_cell_type": "text-cell-h3",
    "formattedRanges": []
   },
   "source": [
    "#### Price change over the years"
   ]
  },
  {
   "cell_type": "markdown",
   "metadata": {
    "cell_id": "7b9049de02334ae980731677d2650588",
    "deepnote_cell_type": "text-cell-p",
    "formattedRanges": []
   },
   "source": [
    "Firstly, we want to see whether the average price of Amazon bestselling books was changing over the years."
   ]
  },
  {
   "cell_type": "code",
   "execution_count": 83,
   "metadata": {
    "cell_id": "07c5e4f37c2a41f99b7b3c4d380bd6a8",
    "deepnote_cell_type": "code",
    "deepnote_to_be_reexecuted": false,
    "execution_millis": 236,
    "execution_start": 1718026981499,
    "source_hash": "b1107073"
   },
   "outputs": [
    {
     "data": {
      "application/vnd.plotly.v1+json": {
       "config": {
        "plotlyServerURL": "https://plot.ly"
       },
       "data": [
        {
         "alignmentgroup": "True",
         "hovertemplate": "Year=%{x}<br>Average Price=%{y}<extra></extra>",
         "legendgroup": "",
         "marker": {
          "color": "#9932CC",
          "pattern": {
           "shape": ""
          }
         },
         "name": "",
         "offsetgroup": "",
         "orientation": "v",
         "showlegend": false,
         "textposition": "auto",
         "type": "bar",
         "x": [
          2009,
          2010,
          2011,
          2012,
          2013,
          2014,
          2015,
          2016,
          2017,
          2018,
          2019,
          2020,
          2021,
          2022
         ],
         "xaxis": "x",
         "y": [
          15.4,
          13.48,
          15.1,
          15.3,
          14.6,
          14.64,
          10.42,
          13.18,
          11.38,
          10.52,
          10.08,
          10.46,
          10.78,
          12.46
         ],
         "yaxis": "y"
        }
       ],
       "layout": {
        "autosize": true,
        "barmode": "relative",
        "legend": {
         "tracegroupgap": 0
        },
        "template": {
         "data": {
          "bar": [
           {
            "error_x": {
             "color": "#2a3f5f"
            },
            "error_y": {
             "color": "#2a3f5f"
            },
            "marker": {
             "line": {
              "color": "#E5ECF6",
              "width": 0.5
             },
             "pattern": {
              "fillmode": "overlay",
              "size": 10,
              "solidity": 0.2
             }
            },
            "type": "bar"
           }
          ],
          "barpolar": [
           {
            "marker": {
             "line": {
              "color": "#E5ECF6",
              "width": 0.5
             },
             "pattern": {
              "fillmode": "overlay",
              "size": 10,
              "solidity": 0.2
             }
            },
            "type": "barpolar"
           }
          ],
          "carpet": [
           {
            "aaxis": {
             "endlinecolor": "#2a3f5f",
             "gridcolor": "white",
             "linecolor": "white",
             "minorgridcolor": "white",
             "startlinecolor": "#2a3f5f"
            },
            "baxis": {
             "endlinecolor": "#2a3f5f",
             "gridcolor": "white",
             "linecolor": "white",
             "minorgridcolor": "white",
             "startlinecolor": "#2a3f5f"
            },
            "type": "carpet"
           }
          ],
          "choropleth": [
           {
            "colorbar": {
             "outlinewidth": 0,
             "ticks": ""
            },
            "type": "choropleth"
           }
          ],
          "contour": [
           {
            "colorbar": {
             "outlinewidth": 0,
             "ticks": ""
            },
            "colorscale": [
             [
              0,
              "#0d0887"
             ],
             [
              0.1111111111111111,
              "#46039f"
             ],
             [
              0.2222222222222222,
              "#7201a8"
             ],
             [
              0.3333333333333333,
              "#9c179e"
             ],
             [
              0.4444444444444444,
              "#bd3786"
             ],
             [
              0.5555555555555556,
              "#d8576b"
             ],
             [
              0.6666666666666666,
              "#ed7953"
             ],
             [
              0.7777777777777778,
              "#fb9f3a"
             ],
             [
              0.8888888888888888,
              "#fdca26"
             ],
             [
              1,
              "#f0f921"
             ]
            ],
            "type": "contour"
           }
          ],
          "contourcarpet": [
           {
            "colorbar": {
             "outlinewidth": 0,
             "ticks": ""
            },
            "type": "contourcarpet"
           }
          ],
          "heatmap": [
           {
            "colorbar": {
             "outlinewidth": 0,
             "ticks": ""
            },
            "colorscale": [
             [
              0,
              "#0d0887"
             ],
             [
              0.1111111111111111,
              "#46039f"
             ],
             [
              0.2222222222222222,
              "#7201a8"
             ],
             [
              0.3333333333333333,
              "#9c179e"
             ],
             [
              0.4444444444444444,
              "#bd3786"
             ],
             [
              0.5555555555555556,
              "#d8576b"
             ],
             [
              0.6666666666666666,
              "#ed7953"
             ],
             [
              0.7777777777777778,
              "#fb9f3a"
             ],
             [
              0.8888888888888888,
              "#fdca26"
             ],
             [
              1,
              "#f0f921"
             ]
            ],
            "type": "heatmap"
           }
          ],
          "heatmapgl": [
           {
            "colorbar": {
             "outlinewidth": 0,
             "ticks": ""
            },
            "colorscale": [
             [
              0,
              "#0d0887"
             ],
             [
              0.1111111111111111,
              "#46039f"
             ],
             [
              0.2222222222222222,
              "#7201a8"
             ],
             [
              0.3333333333333333,
              "#9c179e"
             ],
             [
              0.4444444444444444,
              "#bd3786"
             ],
             [
              0.5555555555555556,
              "#d8576b"
             ],
             [
              0.6666666666666666,
              "#ed7953"
             ],
             [
              0.7777777777777778,
              "#fb9f3a"
             ],
             [
              0.8888888888888888,
              "#fdca26"
             ],
             [
              1,
              "#f0f921"
             ]
            ],
            "type": "heatmapgl"
           }
          ],
          "histogram": [
           {
            "marker": {
             "pattern": {
              "fillmode": "overlay",
              "size": 10,
              "solidity": 0.2
             }
            },
            "type": "histogram"
           }
          ],
          "histogram2d": [
           {
            "colorbar": {
             "outlinewidth": 0,
             "ticks": ""
            },
            "colorscale": [
             [
              0,
              "#0d0887"
             ],
             [
              0.1111111111111111,
              "#46039f"
             ],
             [
              0.2222222222222222,
              "#7201a8"
             ],
             [
              0.3333333333333333,
              "#9c179e"
             ],
             [
              0.4444444444444444,
              "#bd3786"
             ],
             [
              0.5555555555555556,
              "#d8576b"
             ],
             [
              0.6666666666666666,
              "#ed7953"
             ],
             [
              0.7777777777777778,
              "#fb9f3a"
             ],
             [
              0.8888888888888888,
              "#fdca26"
             ],
             [
              1,
              "#f0f921"
             ]
            ],
            "type": "histogram2d"
           }
          ],
          "histogram2dcontour": [
           {
            "colorbar": {
             "outlinewidth": 0,
             "ticks": ""
            },
            "colorscale": [
             [
              0,
              "#0d0887"
             ],
             [
              0.1111111111111111,
              "#46039f"
             ],
             [
              0.2222222222222222,
              "#7201a8"
             ],
             [
              0.3333333333333333,
              "#9c179e"
             ],
             [
              0.4444444444444444,
              "#bd3786"
             ],
             [
              0.5555555555555556,
              "#d8576b"
             ],
             [
              0.6666666666666666,
              "#ed7953"
             ],
             [
              0.7777777777777778,
              "#fb9f3a"
             ],
             [
              0.8888888888888888,
              "#fdca26"
             ],
             [
              1,
              "#f0f921"
             ]
            ],
            "type": "histogram2dcontour"
           }
          ],
          "mesh3d": [
           {
            "colorbar": {
             "outlinewidth": 0,
             "ticks": ""
            },
            "type": "mesh3d"
           }
          ],
          "parcoords": [
           {
            "line": {
             "colorbar": {
              "outlinewidth": 0,
              "ticks": ""
             }
            },
            "type": "parcoords"
           }
          ],
          "pie": [
           {
            "automargin": true,
            "type": "pie"
           }
          ],
          "scatter": [
           {
            "fillpattern": {
             "fillmode": "overlay",
             "size": 10,
             "solidity": 0.2
            },
            "type": "scatter"
           }
          ],
          "scatter3d": [
           {
            "line": {
             "colorbar": {
              "outlinewidth": 0,
              "ticks": ""
             }
            },
            "marker": {
             "colorbar": {
              "outlinewidth": 0,
              "ticks": ""
             }
            },
            "type": "scatter3d"
           }
          ],
          "scattercarpet": [
           {
            "marker": {
             "colorbar": {
              "outlinewidth": 0,
              "ticks": ""
             }
            },
            "type": "scattercarpet"
           }
          ],
          "scattergeo": [
           {
            "marker": {
             "colorbar": {
              "outlinewidth": 0,
              "ticks": ""
             }
            },
            "type": "scattergeo"
           }
          ],
          "scattergl": [
           {
            "marker": {
             "colorbar": {
              "outlinewidth": 0,
              "ticks": ""
             }
            },
            "type": "scattergl"
           }
          ],
          "scattermapbox": [
           {
            "marker": {
             "colorbar": {
              "outlinewidth": 0,
              "ticks": ""
             }
            },
            "type": "scattermapbox"
           }
          ],
          "scatterpolar": [
           {
            "marker": {
             "colorbar": {
              "outlinewidth": 0,
              "ticks": ""
             }
            },
            "type": "scatterpolar"
           }
          ],
          "scatterpolargl": [
           {
            "marker": {
             "colorbar": {
              "outlinewidth": 0,
              "ticks": ""
             }
            },
            "type": "scatterpolargl"
           }
          ],
          "scatterternary": [
           {
            "marker": {
             "colorbar": {
              "outlinewidth": 0,
              "ticks": ""
             }
            },
            "type": "scatterternary"
           }
          ],
          "surface": [
           {
            "colorbar": {
             "outlinewidth": 0,
             "ticks": ""
            },
            "colorscale": [
             [
              0,
              "#0d0887"
             ],
             [
              0.1111111111111111,
              "#46039f"
             ],
             [
              0.2222222222222222,
              "#7201a8"
             ],
             [
              0.3333333333333333,
              "#9c179e"
             ],
             [
              0.4444444444444444,
              "#bd3786"
             ],
             [
              0.5555555555555556,
              "#d8576b"
             ],
             [
              0.6666666666666666,
              "#ed7953"
             ],
             [
              0.7777777777777778,
              "#fb9f3a"
             ],
             [
              0.8888888888888888,
              "#fdca26"
             ],
             [
              1,
              "#f0f921"
             ]
            ],
            "type": "surface"
           }
          ],
          "table": [
           {
            "cells": {
             "fill": {
              "color": "#EBF0F8"
             },
             "line": {
              "color": "white"
             }
            },
            "header": {
             "fill": {
              "color": "#C8D4E3"
             },
             "line": {
              "color": "white"
             }
            },
            "type": "table"
           }
          ]
         },
         "layout": {
          "annotationdefaults": {
           "arrowcolor": "#2a3f5f",
           "arrowhead": 0,
           "arrowwidth": 1
          },
          "autotypenumbers": "strict",
          "coloraxis": {
           "colorbar": {
            "outlinewidth": 0,
            "ticks": ""
           }
          },
          "colorscale": {
           "diverging": [
            [
             0,
             "#8e0152"
            ],
            [
             0.1,
             "#c51b7d"
            ],
            [
             0.2,
             "#de77ae"
            ],
            [
             0.3,
             "#f1b6da"
            ],
            [
             0.4,
             "#fde0ef"
            ],
            [
             0.5,
             "#f7f7f7"
            ],
            [
             0.6,
             "#e6f5d0"
            ],
            [
             0.7,
             "#b8e186"
            ],
            [
             0.8,
             "#7fbc41"
            ],
            [
             0.9,
             "#4d9221"
            ],
            [
             1,
             "#276419"
            ]
           ],
           "sequential": [
            [
             0,
             "#0d0887"
            ],
            [
             0.1111111111111111,
             "#46039f"
            ],
            [
             0.2222222222222222,
             "#7201a8"
            ],
            [
             0.3333333333333333,
             "#9c179e"
            ],
            [
             0.4444444444444444,
             "#bd3786"
            ],
            [
             0.5555555555555556,
             "#d8576b"
            ],
            [
             0.6666666666666666,
             "#ed7953"
            ],
            [
             0.7777777777777778,
             "#fb9f3a"
            ],
            [
             0.8888888888888888,
             "#fdca26"
            ],
            [
             1,
             "#f0f921"
            ]
           ],
           "sequentialminus": [
            [
             0,
             "#0d0887"
            ],
            [
             0.1111111111111111,
             "#46039f"
            ],
            [
             0.2222222222222222,
             "#7201a8"
            ],
            [
             0.3333333333333333,
             "#9c179e"
            ],
            [
             0.4444444444444444,
             "#bd3786"
            ],
            [
             0.5555555555555556,
             "#d8576b"
            ],
            [
             0.6666666666666666,
             "#ed7953"
            ],
            [
             0.7777777777777778,
             "#fb9f3a"
            ],
            [
             0.8888888888888888,
             "#fdca26"
            ],
            [
             1,
             "#f0f921"
            ]
           ]
          },
          "colorway": [
           "#636efa",
           "#EF553B",
           "#00cc96",
           "#ab63fa",
           "#FFA15A",
           "#19d3f3",
           "#FF6692",
           "#B6E880",
           "#FF97FF",
           "#FECB52"
          ],
          "font": {
           "color": "#2a3f5f"
          },
          "geo": {
           "bgcolor": "white",
           "lakecolor": "white",
           "landcolor": "#E5ECF6",
           "showlakes": true,
           "showland": true,
           "subunitcolor": "white"
          },
          "hoverlabel": {
           "align": "left"
          },
          "hovermode": "closest",
          "mapbox": {
           "style": "light"
          },
          "paper_bgcolor": "white",
          "plot_bgcolor": "#E5ECF6",
          "polar": {
           "angularaxis": {
            "gridcolor": "white",
            "linecolor": "white",
            "ticks": ""
           },
           "bgcolor": "#E5ECF6",
           "radialaxis": {
            "gridcolor": "white",
            "linecolor": "white",
            "ticks": ""
           }
          },
          "scene": {
           "xaxis": {
            "backgroundcolor": "#E5ECF6",
            "gridcolor": "white",
            "gridwidth": 2,
            "linecolor": "white",
            "showbackground": true,
            "ticks": "",
            "zerolinecolor": "white"
           },
           "yaxis": {
            "backgroundcolor": "#E5ECF6",
            "gridcolor": "white",
            "gridwidth": 2,
            "linecolor": "white",
            "showbackground": true,
            "ticks": "",
            "zerolinecolor": "white"
           },
           "zaxis": {
            "backgroundcolor": "#E5ECF6",
            "gridcolor": "white",
            "gridwidth": 2,
            "linecolor": "white",
            "showbackground": true,
            "ticks": "",
            "zerolinecolor": "white"
           }
          },
          "shapedefaults": {
           "line": {
            "color": "#2a3f5f"
           }
          },
          "ternary": {
           "aaxis": {
            "gridcolor": "white",
            "linecolor": "white",
            "ticks": ""
           },
           "baxis": {
            "gridcolor": "white",
            "linecolor": "white",
            "ticks": ""
           },
           "bgcolor": "#E5ECF6",
           "caxis": {
            "gridcolor": "white",
            "linecolor": "white",
            "ticks": ""
           }
          },
          "title": {
           "x": 0.05
          },
          "xaxis": {
           "automargin": true,
           "gridcolor": "white",
           "linecolor": "white",
           "ticks": "",
           "title": {
            "standoff": 15
           },
           "zerolinecolor": "white",
           "zerolinewidth": 2
          },
          "yaxis": {
           "automargin": true,
           "gridcolor": "white",
           "linecolor": "white",
           "ticks": "",
           "title": {
            "standoff": 15
           },
           "zerolinecolor": "white",
           "zerolinewidth": 2
          }
         }
        },
        "title": {
         "text": "Average Price over the Years"
        },
        "xaxis": {
         "anchor": "y",
         "autorange": true,
         "domain": [
          0,
          1
         ],
         "range": [
          2008.5,
          2022.5
         ],
         "title": {
          "text": "Year"
         },
         "type": "linear"
        },
        "yaxis": {
         "anchor": "x",
         "autorange": true,
         "domain": [
          0,
          1
         ],
         "range": [
          0,
          16.210526315789473
         ],
         "title": {
          "text": "Average Price"
         },
         "type": "linear"
        }
       }
      },
      "image/png": "[encoded data removed]",
      "text/html": [
       "<div>                            <div id=\"4bfa752f-384f-40a3-aaa2-740baf5d8b6a\" class=\"plotly-graph-div\" style=\"height:600px; width:100%;\"></div>            <script type=\"text/javascript\">                require([\"plotly\"], function(Plotly) {                    window.PLOTLYENV=window.PLOTLYENV || {};                                    if (document.getElementById(\"4bfa752f-384f-40a3-aaa2-740baf5d8b6a\")) {                    Plotly.newPlot(                        \"4bfa752f-384f-40a3-aaa2-740baf5d8b6a\",                        [{\"alignmentgroup\":\"True\",\"hovertemplate\":\"Year=%{x}\\u003cbr\\u003eAverage Price=%{y}\\u003cextra\\u003e\\u003c\\u002fextra\\u003e\",\"legendgroup\":\"\",\"marker\":{\"color\":\"#9932CC\",\"pattern\":{\"shape\":\"\"}},\"name\":\"\",\"offsetgroup\":\"\",\"orientation\":\"v\",\"showlegend\":false,\"textposition\":\"auto\",\"x\":[2009,2010,2011,2012,2013,2014,2015,2016,2017,2018,2019,2020,2021,2022],\"xaxis\":\"x\",\"y\":[15.4,13.48,15.1,15.3,14.6,14.64,10.42,13.18,11.38,10.52,10.08,10.46,10.78,12.46],\"yaxis\":\"y\",\"type\":\"bar\"}],                        {\"template\":{\"data\":{\"histogram2dcontour\":[{\"type\":\"histogram2dcontour\",\"colorbar\":{\"outlinewidth\":0,\"ticks\":\"\"},\"colorscale\":[[0.0,\"#0d0887\"],[0.1111111111111111,\"#46039f\"],[0.2222222222222222,\"#7201a8\"],[0.3333333333333333,\"#9c179e\"],[0.4444444444444444,\"#bd3786\"],[0.5555555555555556,\"#d8576b\"],[0.6666666666666666,\"#ed7953\"],[0.7777777777777778,\"#fb9f3a\"],[0.8888888888888888,\"#fdca26\"],[1.0,\"#f0f921\"]]}],\"choropleth\":[{\"type\":\"choropleth\",\"colorbar\":{\"outlinewidth\":0,\"ticks\":\"\"}}],\"histogram2d\":[{\"type\":\"histogram2d\",\"colorbar\":{\"outlinewidth\":0,\"ticks\":\"\"},\"colorscale\":[[0.0,\"#0d0887\"],[0.1111111111111111,\"#46039f\"],[0.2222222222222222,\"#7201a8\"],[0.3333333333333333,\"#9c179e\"],[0.4444444444444444,\"#bd3786\"],[0.5555555555555556,\"#d8576b\"],[0.6666666666666666,\"#ed7953\"],[0.7777777777777778,\"#fb9f3a\"],[0.8888888888888888,\"#fdca26\"],[1.0,\"#f0f921\"]]}],\"heatmap\":[{\"type\":\"heatmap\",\"colorbar\":{\"outlinewidth\":0,\"ticks\":\"\"},\"colorscale\":[[0.0,\"#0d0887\"],[0.1111111111111111,\"#46039f\"],[0.2222222222222222,\"#7201a8\"],[0.3333333333333333,\"#9c179e\"],[0.4444444444444444,\"#bd3786\"],[0.5555555555555556,\"#d8576b\"],[0.6666666666666666,\"#ed7953\"],[0.7777777777777778,\"#fb9f3a\"],[0.8888888888888888,\"#fdca26\"],[1.0,\"#f0f921\"]]}],\"heatmapgl\":[{\"type\":\"heatmapgl\",\"colorbar\":{\"outlinewidth\":0,\"ticks\":\"\"},\"colorscale\":[[0.0,\"#0d0887\"],[0.1111111111111111,\"#46039f\"],[0.2222222222222222,\"#7201a8\"],[0.3333333333333333,\"#9c179e\"],[0.4444444444444444,\"#bd3786\"],[0.5555555555555556,\"#d8576b\"],[0.6666666666666666,\"#ed7953\"],[0.7777777777777778,\"#fb9f3a\"],[0.8888888888888888,\"#fdca26\"],[1.0,\"#f0f921\"]]}],\"contourcarpet\":[{\"type\":\"contourcarpet\",\"colorbar\":{\"outlinewidth\":0,\"ticks\":\"\"}}],\"contour\":[{\"type\":\"contour\",\"colorbar\":{\"outlinewidth\":0,\"ticks\":\"\"},\"colorscale\":[[0.0,\"#0d0887\"],[0.1111111111111111,\"#46039f\"],[0.2222222222222222,\"#7201a8\"],[0.3333333333333333,\"#9c179e\"],[0.4444444444444444,\"#bd3786\"],[0.5555555555555556,\"#d8576b\"],[0.6666666666666666,\"#ed7953\"],[0.7777777777777778,\"#fb9f3a\"],[0.8888888888888888,\"#fdca26\"],[1.0,\"#f0f921\"]]}],\"surface\":[{\"type\":\"surface\",\"colorbar\":{\"outlinewidth\":0,\"ticks\":\"\"},\"colorscale\":[[0.0,\"#0d0887\"],[0.1111111111111111,\"#46039f\"],[0.2222222222222222,\"#7201a8\"],[0.3333333333333333,\"#9c179e\"],[0.4444444444444444,\"#bd3786\"],[0.5555555555555556,\"#d8576b\"],[0.6666666666666666,\"#ed7953\"],[0.7777777777777778,\"#fb9f3a\"],[0.8888888888888888,\"#fdca26\"],[1.0,\"#f0f921\"]]}],\"mesh3d\":[{\"type\":\"mesh3d\",\"colorbar\":{\"outlinewidth\":0,\"ticks\":\"\"}}],\"scatter\":[{\"fillpattern\":{\"fillmode\":\"overlay\",\"size\":10,\"solidity\":0.2},\"type\":\"scatter\"}],\"parcoords\":[{\"type\":\"parcoords\",\"line\":{\"colorbar\":{\"outlinewidth\":0,\"ticks\":\"\"}}}],\"scatterpolargl\":[{\"type\":\"scatterpolargl\",\"marker\":{\"colorbar\":{\"outlinewidth\":0,\"ticks\":\"\"}}}],\"bar\":[{\"error_x\":{\"color\":\"#2a3f5f\"},\"error_y\":{\"color\":\"#2a3f5f\"},\"marker\":{\"line\":{\"color\":\"#E5ECF6\",\"width\":0.5},\"pattern\":{\"fillmode\":\"overlay\",\"size\":10,\"solidity\":0.2}},\"type\":\"bar\"}],\"scattergeo\":[{\"type\":\"scattergeo\",\"marker\":{\"colorbar\":{\"outlinewidth\":0,\"ticks\":\"\"}}}],\"scatterpolar\":[{\"type\":\"scatterpolar\",\"marker\":{\"colorbar\":{\"outlinewidth\":0,\"ticks\":\"\"}}}],\"histogram\":[{\"marker\":{\"pattern\":{\"fillmode\":\"overlay\",\"size\":10,\"solidity\":0.2}},\"type\":\"histogram\"}],\"scattergl\":[{\"type\":\"scattergl\",\"marker\":{\"colorbar\":{\"outlinewidth\":0,\"ticks\":\"\"}}}],\"scatter3d\":[{\"type\":\"scatter3d\",\"line\":{\"colorbar\":{\"outlinewidth\":0,\"ticks\":\"\"}},\"marker\":{\"colorbar\":{\"outlinewidth\":0,\"ticks\":\"\"}}}],\"scattermapbox\":[{\"type\":\"scattermapbox\",\"marker\":{\"colorbar\":{\"outlinewidth\":0,\"ticks\":\"\"}}}],\"scatterternary\":[{\"type\":\"scatterternary\",\"marker\":{\"colorbar\":{\"outlinewidth\":0,\"ticks\":\"\"}}}],\"scattercarpet\":[{\"type\":\"scattercarpet\",\"marker\":{\"colorbar\":{\"outlinewidth\":0,\"ticks\":\"\"}}}],\"carpet\":[{\"aaxis\":{\"endlinecolor\":\"#2a3f5f\",\"gridcolor\":\"white\",\"linecolor\":\"white\",\"minorgridcolor\":\"white\",\"startlinecolor\":\"#2a3f5f\"},\"baxis\":{\"endlinecolor\":\"#2a3f5f\",\"gridcolor\":\"white\",\"linecolor\":\"white\",\"minorgridcolor\":\"white\",\"startlinecolor\":\"#2a3f5f\"},\"type\":\"carpet\"}],\"table\":[{\"cells\":{\"fill\":{\"color\":\"#EBF0F8\"},\"line\":{\"color\":\"white\"}},\"header\":{\"fill\":{\"color\":\"#C8D4E3\"},\"line\":{\"color\":\"white\"}},\"type\":\"table\"}],\"barpolar\":[{\"marker\":{\"line\":{\"color\":\"#E5ECF6\",\"width\":0.5},\"pattern\":{\"fillmode\":\"overlay\",\"size\":10,\"solidity\":0.2}},\"type\":\"barpolar\"}],\"pie\":[{\"automargin\":true,\"type\":\"pie\"}]},\"layout\":{\"autotypenumbers\":\"strict\",\"colorway\":[\"#636efa\",\"#EF553B\",\"#00cc96\",\"#ab63fa\",\"#FFA15A\",\"#19d3f3\",\"#FF6692\",\"#B6E880\",\"#FF97FF\",\"#FECB52\"],\"font\":{\"color\":\"#2a3f5f\"},\"hovermode\":\"closest\",\"hoverlabel\":{\"align\":\"left\"},\"paper_bgcolor\":\"white\",\"plot_bgcolor\":\"#E5ECF6\",\"polar\":{\"bgcolor\":\"#E5ECF6\",\"angularaxis\":{\"gridcolor\":\"white\",\"linecolor\":\"white\",\"ticks\":\"\"},\"radialaxis\":{\"gridcolor\":\"white\",\"linecolor\":\"white\",\"ticks\":\"\"}},\"ternary\":{\"bgcolor\":\"#E5ECF6\",\"aaxis\":{\"gridcolor\":\"white\",\"linecolor\":\"white\",\"ticks\":\"\"},\"baxis\":{\"gridcolor\":\"white\",\"linecolor\":\"white\",\"ticks\":\"\"},\"caxis\":{\"gridcolor\":\"white\",\"linecolor\":\"white\",\"ticks\":\"\"}},\"coloraxis\":{\"colorbar\":{\"outlinewidth\":0,\"ticks\":\"\"}},\"colorscale\":{\"sequential\":[[0.0,\"#0d0887\"],[0.1111111111111111,\"#46039f\"],[0.2222222222222222,\"#7201a8\"],[0.3333333333333333,\"#9c179e\"],[0.4444444444444444,\"#bd3786\"],[0.5555555555555556,\"#d8576b\"],[0.6666666666666666,\"#ed7953\"],[0.7777777777777778,\"#fb9f3a\"],[0.8888888888888888,\"#fdca26\"],[1.0,\"#f0f921\"]],\"sequentialminus\":[[0.0,\"#0d0887\"],[0.1111111111111111,\"#46039f\"],[0.2222222222222222,\"#7201a8\"],[0.3333333333333333,\"#9c179e\"],[0.4444444444444444,\"#bd3786\"],[0.5555555555555556,\"#d8576b\"],[0.6666666666666666,\"#ed7953\"],[0.7777777777777778,\"#fb9f3a\"],[0.8888888888888888,\"#fdca26\"],[1.0,\"#f0f921\"]],\"diverging\":[[0,\"#8e0152\"],[0.1,\"#c51b7d\"],[0.2,\"#de77ae\"],[0.3,\"#f1b6da\"],[0.4,\"#fde0ef\"],[0.5,\"#f7f7f7\"],[0.6,\"#e6f5d0\"],[0.7,\"#b8e186\"],[0.8,\"#7fbc41\"],[0.9,\"#4d9221\"],[1,\"#276419\"]]},\"xaxis\":{\"gridcolor\":\"white\",\"linecolor\":\"white\",\"ticks\":\"\",\"title\":{\"standoff\":15},\"zerolinecolor\":\"white\",\"automargin\":true,\"zerolinewidth\":2},\"yaxis\":{\"gridcolor\":\"white\",\"linecolor\":\"white\",\"ticks\":\"\",\"title\":{\"standoff\":15},\"zerolinecolor\":\"white\",\"automargin\":true,\"zerolinewidth\":2},\"scene\":{\"xaxis\":{\"backgroundcolor\":\"#E5ECF6\",\"gridcolor\":\"white\",\"linecolor\":\"white\",\"showbackground\":true,\"ticks\":\"\",\"zerolinecolor\":\"white\",\"gridwidth\":2},\"yaxis\":{\"backgroundcolor\":\"#E5ECF6\",\"gridcolor\":\"white\",\"linecolor\":\"white\",\"showbackground\":true,\"ticks\":\"\",\"zerolinecolor\":\"white\",\"gridwidth\":2},\"zaxis\":{\"backgroundcolor\":\"#E5ECF6\",\"gridcolor\":\"white\",\"linecolor\":\"white\",\"showbackground\":true,\"ticks\":\"\",\"zerolinecolor\":\"white\",\"gridwidth\":2}},\"shapedefaults\":{\"line\":{\"color\":\"#2a3f5f\"}},\"annotationdefaults\":{\"arrowcolor\":\"#2a3f5f\",\"arrowhead\":0,\"arrowwidth\":1},\"geo\":{\"bgcolor\":\"white\",\"landcolor\":\"#E5ECF6\",\"subunitcolor\":\"white\",\"showland\":true,\"showlakes\":true,\"lakecolor\":\"white\"},\"title\":{\"x\":0.05},\"mapbox\":{\"style\":\"light\"}}},\"xaxis\":{\"anchor\":\"y\",\"domain\":[0.0,1.0],\"title\":{\"text\":\"Year\"}},\"yaxis\":{\"anchor\":\"x\",\"domain\":[0.0,1.0],\"title\":{\"text\":\"Average Price\"}},\"legend\":{\"tracegroupgap\":0},\"title\":{\"text\":\"Average Price over the Years\"},\"barmode\":\"relative\",\"height\":600},                        {\"responsive\": true}                    ).then(function(){\n",
       "                            \n",
       "var gd = document.getElementById('4bfa752f-384f-40a3-aaa2-740baf5d8b6a');\n",
       "var x = new MutationObserver(function (mutations, observer) {{\n",
       "        var display = window.getComputedStyle(gd).display;\n",
       "        if (!display || display === 'none') {{\n",
       "            console.log([gd, 'removed!']);\n",
       "            Plotly.purge(gd);\n",
       "            observer.disconnect();\n",
       "        }}\n",
       "}});\n",
       "\n",
       "// Listen for the removal of the full notebook cells\n",
       "var notebookContainer = gd.closest('#notebook-container');\n",
       "if (notebookContainer) {{\n",
       "    x.observe(notebookContainer, {childList: true});\n",
       "}}\n",
       "\n",
       "// Listen for the clearing of the current output cell\n",
       "var outputEl = gd.closest('.output');\n",
       "if (outputEl) {{\n",
       "    x.observe(outputEl, {childList: true});\n",
       "}}\n",
       "\n",
       "                        })                };                });            </script>        </div>"
      ]
     },
     "metadata": {},
     "output_type": "display_data"
    }
   ],
   "source": [
    "# Define values\n",
    "Year = df_1['Year'].unique()\n",
    "Average_Price = df_1.groupby('Year')['Price'].mean()\n",
    "\n",
    "# Bar chart\n",
    "fig = px.bar(x = Year, \n",
    "             y = Average_Price, \n",
    "             height = 600,\n",
    "             labels = {'x':'Year','y':'Average Price'}, \n",
    "             title = 'Average Price over the Years'\n",
    "            )\n",
    "\n",
    "#Custom color\n",
    "fig.update_traces(marker_color = '#9932CC')\n",
    "\n",
    "fig.show()\n",
    "\n"
   ]
  },
  {
   "cell_type": "markdown",
   "metadata": {
    "cell_id": "314e845cc19444fcb0c3179f9889f90e",
    "deepnote_cell_type": "text-cell-p",
    "formattedRanges": []
   },
   "source": [
    "According to the chart, the average price of Amazon bestsellers was gradually decreasing between 2012 and 2019, but in 2020 the trend was reversed, and the average price started to go up."
   ]
  },
  {
   "cell_type": "markdown",
   "metadata": {
    "cell_id": "4d9fcf3df5264e5eae5d28970e7f1446",
    "deepnote_cell_type": "text-cell-p",
    "formattedRanges": [
     {
      "fromCodePoint": 4,
      "marks": {
       "bold": true
      },
      "toCodePoint": 33,
      "type": "marks"
     }
    ]
   },
   "source": [
    "The **increase of the average price** is good news for publishers and authors since books prices are directly correlated with the revenue."
   ]
  },
  {
   "cell_type": "markdown",
   "metadata": {
    "cell_id": "8f9e0e5084fb434cab73ef1ad3259c4a",
    "deepnote_app_block_visible": false,
    "deepnote_cell_type": "text-cell-h3",
    "formattedRanges": [],
    "is_collapsed": false
   },
   "source": [
    "#### Genre vs User Rating"
   ]
  },
  {
   "cell_type": "markdown",
   "metadata": {
    "cell_id": "dd40a3c557974360a6bdb77860cc88ee",
    "deepnote_cell_type": "text-cell-p",
    "formattedRanges": []
   },
   "source": [
    "Secondly, let's us check what type of books had a higher User Rating in the past years."
   ]
  },
  {
   "cell_type": "code",
   "execution_count": 84,
   "metadata": {
    "cell_id": "7baecb27e6344d75a0c5d0c2ac28d0fb",
    "deepnote_cell_type": "sql",
    "deepnote_sql_source": "SELECT Genre, AVG(\"User Rating\")\nFROM df_1\nGROUP BY Genre",
    "deepnote_to_be_reexecuted": false,
    "deepnote_variable_name": "df_4",
    "execution_millis": 395,
    "execution_start": 1718026981747,
    "source_hash": "858c693b",
    "sql_integration_id": "deepnote-dataframe-sql"
   },
   "outputs": [
    {
     "data": {
      "text/html": [
       "<div>\n",
       "<style scoped>\n",
       "    .dataframe tbody tr th:only-of-type {\n",
       "        vertical-align: middle;\n",
       "    }\n",
       "\n",
       "    .dataframe tbody tr th {\n",
       "        vertical-align: top;\n",
       "    }\n",
       "\n",
       "    .dataframe thead th {\n",
       "        text-align: right;\n",
       "    }\n",
       "</style>\n",
       "<table border=\"1\" class=\"dataframe\">\n",
       "  <thead>\n",
       "    <tr style=\"text-align: right;\">\n",
       "      <th></th>\n",
       "      <th>Genre</th>\n",
       "      <th>AVG(\"User Rating\")</th>\n",
       "    </tr>\n",
       "  </thead>\n",
       "  <tbody>\n",
       "    <tr>\n",
       "      <th>0</th>\n",
       "      <td>Fiction</td>\n",
       "      <td>4.664103</td>\n",
       "    </tr>\n",
       "    <tr>\n",
       "      <th>1</th>\n",
       "      <td>Non Fiction</td>\n",
       "      <td>4.620361</td>\n",
       "    </tr>\n",
       "  </tbody>\n",
       "</table>\n",
       "</div>"
      ],
      "text/plain": [
       "         Genre  AVG(\"User Rating\")\n",
       "0      Fiction            4.664103\n",
       "1  Non Fiction            4.620361"
      ]
     },
     "execution_count": 84,
     "metadata": {},
     "output_type": "execute_result"
    }
   ],
   "source": [
    "df_3 = sqldf(\"SELECT Genre, AVG(\\\"User Rating\\\") FROM df_1 GROUP BY Genre\")\n",
    "df_3"
   ]
  },
  {
   "cell_type": "code",
   "execution_count": 85,
   "metadata": {
    "cell_id": "0032948d30074219b247b0830be846ab",
    "deepnote_cell_type": "code",
    "deepnote_to_be_reexecuted": false,
    "execution_millis": 372,
    "execution_start": 1718026981771,
    "source_hash": "637dd9d6"
   },
   "outputs": [
    {
     "data": {
      "image/png": "[encoded data removed]",
      "text/plain": [
       "<Figure size 640x480 with 1 Axes>"
      ]
     },
     "metadata": {},
     "output_type": "display_data"
    }
   ],
   "source": [
    "# Custom colors\n",
    "colors = ['#DA70D6','#9932CC',]\n",
    "\n",
    "# Bar chart\n",
    "fig = sns.barplot(\n",
    "    x = 'Genre', \n",
    "    y = 'User Rating', \n",
    "    data = df_1,\n",
    "    palette = colors,\n",
    "    order = ['Fiction','Non Fiction'],  \n",
    "    capsize = 0.05,             \n",
    "    saturation = 8,\n",
    "    errorbar = 'sd',\n",
    "    err_kws = {'color':'black','linewidth':2}, \n",
    "    hue = 'Genre',\n",
    "    dodge = False,\n",
    "    legend = False          \n",
    "    )\n",
    "\n",
    "# Title\n",
    "fig.set_title('Genre vs User Rating', fontsize = 12)\n",
    "\n",
    "# Bar labels\n",
    "for container in fig.containers:\n",
    "    fig.bar_label(container, label_type = 'center', fmt = '%.2f')\n",
    "\n",
    "plt.show()\n"
   ]
  },
  {
   "cell_type": "markdown",
   "metadata": {
    "cell_id": "c2a053d50df941eaaea914fe177a87e0",
    "deepnote_cell_type": "text-cell-p",
    "formattedRanges": [
     {
      "fromCodePoint": 20,
      "marks": {
       "bold": true
      },
      "toCodePoint": 86,
      "type": "marks"
     }
    ]
   },
   "source": [
    "Based on the chart, **the average User Rating for both genre categories is quite similar**, with Fiction books having a slightly higher rating. But since the average numbers are so close, we can't say with 100% confidence that one genre prevails over the other."
   ]
  },
  {
   "cell_type": "markdown",
   "metadata": {
    "cell_id": "c418d32139934c6daf11880cf4c5adae",
    "deepnote_app_block_visible": false,
    "deepnote_cell_type": "text-cell-h3",
    "formattedRanges": [],
    "is_collapsed": false
   },
   "source": [
    "#### Genre vs Reviews"
   ]
  },
  {
   "cell_type": "markdown",
   "metadata": {
    "cell_id": "b60ff9a0d0a44061b9c7b33c6c85086c",
    "deepnote_cell_type": "text-cell-p",
    "formattedRanges": []
   },
   "source": [
    "Now, let us check the total number of Reviews that Fiction and Non Fiction books got over the years and see if there is any difference."
   ]
  },
  {
   "cell_type": "code",
   "execution_count": 86,
   "metadata": {
    "cell_id": "0ba63fd4ef744284a46accd910bfe659",
    "deepnote_cell_type": "sql",
    "deepnote_sql_source": "SELECT Genre, SUM(Reviews), Year\nFROM df_1\nGROUP BY Genre, Year",
    "deepnote_table_loading": false,
    "deepnote_table_state": {
     "filters": [],
     "pageIndex": 2,
     "pageSize": 10,
     "sortBy": []
    },
    "deepnote_to_be_reexecuted": false,
    "deepnote_variable_name": "df_5",
    "execution_millis": 277,
    "execution_start": 1718026982028,
    "source_hash": "b9c55dc8",
    "sql_integration_id": "deepnote-dataframe-sql"
   },
   "outputs": [
    {
     "data": {
      "text/html": [
       "<div>\n",
       "<style scoped>\n",
       "    .dataframe tbody tr th:only-of-type {\n",
       "        vertical-align: middle;\n",
       "    }\n",
       "\n",
       "    .dataframe tbody tr th {\n",
       "        vertical-align: top;\n",
       "    }\n",
       "\n",
       "    .dataframe thead th {\n",
       "        text-align: right;\n",
       "    }\n",
       "</style>\n",
       "<table border=\"1\" class=\"dataframe\">\n",
       "  <thead>\n",
       "    <tr style=\"text-align: right;\">\n",
       "      <th></th>\n",
       "      <th>Genre</th>\n",
       "      <th>SUM(Reviews)</th>\n",
       "      <th>Year</th>\n",
       "    </tr>\n",
       "  </thead>\n",
       "  <tbody>\n",
       "    <tr>\n",
       "      <th>0</th>\n",
       "      <td>Fiction</td>\n",
       "      <td>156824</td>\n",
       "      <td>2009</td>\n",
       "    </tr>\n",
       "    <tr>\n",
       "      <th>1</th>\n",
       "      <td>Fiction</td>\n",
       "      <td>168185</td>\n",
       "      <td>2010</td>\n",
       "    </tr>\n",
       "    <tr>\n",
       "      <th>2</th>\n",
       "      <td>Fiction</td>\n",
       "      <td>217041</td>\n",
       "      <td>2011</td>\n",
       "    </tr>\n",
       "    <tr>\n",
       "      <th>3</th>\n",
       "      <td>Fiction</td>\n",
       "      <td>417821</td>\n",
       "      <td>2012</td>\n",
       "    </tr>\n",
       "    <tr>\n",
       "      <th>4</th>\n",
       "      <td>Fiction</td>\n",
       "      <td>479684</td>\n",
       "      <td>2013</td>\n",
       "    </tr>\n",
       "    <tr>\n",
       "      <th>5</th>\n",
       "      <td>Fiction</td>\n",
       "      <td>562103</td>\n",
       "      <td>2014</td>\n",
       "    </tr>\n",
       "    <tr>\n",
       "      <th>6</th>\n",
       "      <td>Fiction</td>\n",
       "      <td>403004</td>\n",
       "      <td>2015</td>\n",
       "    </tr>\n",
       "    <tr>\n",
       "      <th>7</th>\n",
       "      <td>Fiction</td>\n",
       "      <td>371702</td>\n",
       "      <td>2016</td>\n",
       "    </tr>\n",
       "    <tr>\n",
       "      <th>8</th>\n",
       "      <td>Fiction</td>\n",
       "      <td>350684</td>\n",
       "      <td>2017</td>\n",
       "    </tr>\n",
       "    <tr>\n",
       "      <th>9</th>\n",
       "      <td>Fiction</td>\n",
       "      <td>266919</td>\n",
       "      <td>2018</td>\n",
       "    </tr>\n",
       "    <tr>\n",
       "      <th>10</th>\n",
       "      <td>Fiction</td>\n",
       "      <td>370143</td>\n",
       "      <td>2019</td>\n",
       "    </tr>\n",
       "    <tr>\n",
       "      <th>11</th>\n",
       "      <td>Fiction</td>\n",
       "      <td>1251924</td>\n",
       "      <td>2020</td>\n",
       "    </tr>\n",
       "    <tr>\n",
       "      <th>12</th>\n",
       "      <td>Fiction</td>\n",
       "      <td>1217172</td>\n",
       "      <td>2021</td>\n",
       "    </tr>\n",
       "    <tr>\n",
       "      <th>13</th>\n",
       "      <td>Fiction</td>\n",
       "      <td>1265435</td>\n",
       "      <td>2022</td>\n",
       "    </tr>\n",
       "    <tr>\n",
       "      <th>14</th>\n",
       "      <td>Non Fiction</td>\n",
       "      <td>78682</td>\n",
       "      <td>2009</td>\n",
       "    </tr>\n",
       "    <tr>\n",
       "      <th>15</th>\n",
       "      <td>Non Fiction</td>\n",
       "      <td>105796</td>\n",
       "      <td>2010</td>\n",
       "    </tr>\n",
       "    <tr>\n",
       "      <th>16</th>\n",
       "      <td>Non Fiction</td>\n",
       "      <td>188000</td>\n",
       "      <td>2011</td>\n",
       "    </tr>\n",
       "    <tr>\n",
       "      <th>17</th>\n",
       "      <td>Non Fiction</td>\n",
       "      <td>236725</td>\n",
       "      <td>2012</td>\n",
       "    </tr>\n",
       "    <tr>\n",
       "      <th>18</th>\n",
       "      <td>Non Fiction</td>\n",
       "      <td>175223</td>\n",
       "      <td>2013</td>\n",
       "    </tr>\n",
       "    <tr>\n",
       "      <th>19</th>\n",
       "      <td>Non Fiction</td>\n",
       "      <td>230894</td>\n",
       "      <td>2014</td>\n",
       "    </tr>\n",
       "    <tr>\n",
       "      <th>20</th>\n",
       "      <td>Non Fiction</td>\n",
       "      <td>308665</td>\n",
       "      <td>2015</td>\n",
       "    </tr>\n",
       "    <tr>\n",
       "      <th>21</th>\n",
       "      <td>Non Fiction</td>\n",
       "      <td>338098</td>\n",
       "      <td>2016</td>\n",
       "    </tr>\n",
       "    <tr>\n",
       "      <th>22</th>\n",
       "      <td>Non Fiction</td>\n",
       "      <td>293736</td>\n",
       "      <td>2017</td>\n",
       "    </tr>\n",
       "    <tr>\n",
       "      <th>23</th>\n",
       "      <td>Non Fiction</td>\n",
       "      <td>429602</td>\n",
       "      <td>2018</td>\n",
       "    </tr>\n",
       "    <tr>\n",
       "      <th>24</th>\n",
       "      <td>Non Fiction</td>\n",
       "      <td>424774</td>\n",
       "      <td>2019</td>\n",
       "    </tr>\n",
       "    <tr>\n",
       "      <th>25</th>\n",
       "      <td>Non Fiction</td>\n",
       "      <td>1365573</td>\n",
       "      <td>2020</td>\n",
       "    </tr>\n",
       "    <tr>\n",
       "      <th>26</th>\n",
       "      <td>Non Fiction</td>\n",
       "      <td>1025802</td>\n",
       "      <td>2021</td>\n",
       "    </tr>\n",
       "    <tr>\n",
       "      <th>27</th>\n",
       "      <td>Non Fiction</td>\n",
       "      <td>778426</td>\n",
       "      <td>2022</td>\n",
       "    </tr>\n",
       "  </tbody>\n",
       "</table>\n",
       "</div>"
      ],
      "text/plain": [
       "          Genre  SUM(Reviews)  Year\n",
       "0       Fiction        156824  2009\n",
       "1       Fiction        168185  2010\n",
       "2       Fiction        217041  2011\n",
       "3       Fiction        417821  2012\n",
       "4       Fiction        479684  2013\n",
       "5       Fiction        562103  2014\n",
       "6       Fiction        403004  2015\n",
       "7       Fiction        371702  2016\n",
       "8       Fiction        350684  2017\n",
       "9       Fiction        266919  2018\n",
       "10      Fiction        370143  2019\n",
       "11      Fiction       1251924  2020\n",
       "12      Fiction       1217172  2021\n",
       "13      Fiction       1265435  2022\n",
       "14  Non Fiction         78682  2009\n",
       "15  Non Fiction        105796  2010\n",
       "16  Non Fiction        188000  2011\n",
       "17  Non Fiction        236725  2012\n",
       "18  Non Fiction        175223  2013\n",
       "19  Non Fiction        230894  2014\n",
       "20  Non Fiction        308665  2015\n",
       "21  Non Fiction        338098  2016\n",
       "22  Non Fiction        293736  2017\n",
       "23  Non Fiction        429602  2018\n",
       "24  Non Fiction        424774  2019\n",
       "25  Non Fiction       1365573  2020\n",
       "26  Non Fiction       1025802  2021\n",
       "27  Non Fiction        778426  2022"
      ]
     },
     "execution_count": 86,
     "metadata": {},
     "output_type": "execute_result"
    }
   ],
   "source": [
    "df_4 = sqldf(\"SELECT Genre, SUM(Reviews), Year FROM df_1 GROUP BY Genre, Year\")\n",
    "df_4"
   ]
  },
  {
   "cell_type": "code",
   "execution_count": 87,
   "metadata": {
    "cell_id": "d338699968094b41893034823396e581",
    "deepnote_cell_type": "code",
    "deepnote_to_be_reexecuted": false,
    "execution_millis": 488,
    "execution_start": 1718026982065,
    "source_hash": "ae34ff20"
   },
   "outputs": [
    {
     "data": {
      "image/png": "[encoded data removed]",
      "text/plain": [
       "<Figure size 1400x800 with 1 Axes>"
      ]
     },
     "metadata": {},
     "output_type": "display_data"
    }
   ],
   "source": [
    "from matplotlib.ticker import FuncFormatter\n",
    "\n",
    "# Sum of reviews\n",
    "df_grouped = df_1.groupby(['Year', 'Genre'], as_index = False)['Reviews'].sum()\n",
    "\n",
    "# Custom colors\n",
    "colors = ['#9932CC','#DA70D6']\n",
    "\n",
    "# Figure size\n",
    "plt.figure(figsize = (14, 8))\n",
    "\n",
    "# Bar chart\n",
    "fig = sns.barplot(\n",
    "    x = 'Year', \n",
    "    y = 'Reviews', \n",
    "    data = df_grouped,\n",
    "    palette = colors,\n",
    "    errorbar = None,\n",
    "    hue = 'Genre',\n",
    "    dodge = True,\n",
    "    legend = True          \n",
    "    )\n",
    "\n",
    "# Title\n",
    "fig.set_title('Reviews per Genre', fontsize = 12)\n",
    "\n",
    "# Custom formatter for Y-axis values\n",
    "def thousands_formatter(x, pos):\n",
    "    return f'{x * 1e-3:.0f}K'\n",
    "\n",
    "fig.yaxis.set_major_formatter(FuncFormatter(thousands_formatter))\n",
    "\n",
    "# Bar labels\n",
    "for container in fig.containers:\n",
    "    fig.bar_label(container, \n",
    "                  labels = [f'{x * 1e-3:.1f}K' for x in container.datavalues], \n",
    "                  label_type = 'edge', \n",
    "                  fmt = '%.1f',\n",
    "                  fontsize = 10)\n",
    "\n",
    "plt.show()\n"
   ]
  },
  {
   "cell_type": "markdown",
   "metadata": {
    "cell_id": "297cf752a3be462c876e09e5cf24ec6d",
    "deepnote_cell_type": "text-cell-p",
    "formattedRanges": [
     {
      "fromCodePoint": 180,
      "marks": {
       "bold": true
      },
      "toCodePoint": 316,
      "type": "marks"
     }
    ]
   },
   "source": [
    "We can see on the chart above that Fiction books were getting more Reviews between 2009 and 2017, but in 2018 the trends was reversed and lasted for the next 3 years (2018 - 2020). **In 2021, however, Fiction books took the lead again, with the gap in the number of Reviews between the genres growing further in 2022.** "
   ]
  },
  {
   "cell_type": "markdown",
   "metadata": {
    "cell_id": "71cb2cebc283416f95c1b47b495493b1",
    "deepnote_cell_type": "text-cell-p",
    "formattedRanges": [
     {
      "fromCodePoint": 23,
      "marks": {
       "bold": true
      },
      "toCodePoint": 24,
      "type": "marks"
     }
    ]
   },
   "source": [
    "According to the graph, the number of Reviews for both Fiction and Non Fiction books increased significantly during the Covid-19 pandemic, which is not surprising. Many people were staying at home during those years and probably were spending more time reading (compared to previous years) and leaving reviews on Amazon."
   ]
  },
  {
   "cell_type": "markdown",
   "metadata": {
    "cell_id": "01580d6fd25c41ccbadc4f534bd71797",
    "deepnote_cell_type": "text-cell-p",
    "formattedRanges": []
   },
   "source": [
    "Let us now check whether the number of Reviews is correlated with the number of books per genre published each year."
   ]
  },
  {
   "cell_type": "code",
   "execution_count": 88,
   "metadata": {
    "cell_id": "95929064036b43e3a29c8f8f95655e29",
    "deepnote_cell_type": "sql",
    "deepnote_sql_source": "SELECT Genre, COUNT(Name), Year\nFROM df_1\nGROUP BY Genre, Year",
    "deepnote_to_be_reexecuted": false,
    "deepnote_variable_name": "df_6",
    "execution_millis": 276,
    "execution_start": 1718026982563,
    "source_hash": "69cb89ac",
    "sql_integration_id": "deepnote-dataframe-sql"
   },
   "outputs": [
    {
     "data": {
      "text/html": [
       "<div>\n",
       "<style scoped>\n",
       "    .dataframe tbody tr th:only-of-type {\n",
       "        vertical-align: middle;\n",
       "    }\n",
       "\n",
       "    .dataframe tbody tr th {\n",
       "        vertical-align: top;\n",
       "    }\n",
       "\n",
       "    .dataframe thead th {\n",
       "        text-align: right;\n",
       "    }\n",
       "</style>\n",
       "<table border=\"1\" class=\"dataframe\">\n",
       "  <thead>\n",
       "    <tr style=\"text-align: right;\">\n",
       "      <th></th>\n",
       "      <th>Genre</th>\n",
       "      <th>COUNT(Name)</th>\n",
       "      <th>Year</th>\n",
       "    </tr>\n",
       "  </thead>\n",
       "  <tbody>\n",
       "    <tr>\n",
       "      <th>0</th>\n",
       "      <td>Fiction</td>\n",
       "      <td>24</td>\n",
       "      <td>2009</td>\n",
       "    </tr>\n",
       "    <tr>\n",
       "      <th>1</th>\n",
       "      <td>Fiction</td>\n",
       "      <td>20</td>\n",
       "      <td>2010</td>\n",
       "    </tr>\n",
       "    <tr>\n",
       "      <th>2</th>\n",
       "      <td>Fiction</td>\n",
       "      <td>21</td>\n",
       "      <td>2011</td>\n",
       "    </tr>\n",
       "    <tr>\n",
       "      <th>3</th>\n",
       "      <td>Fiction</td>\n",
       "      <td>21</td>\n",
       "      <td>2012</td>\n",
       "    </tr>\n",
       "    <tr>\n",
       "      <th>4</th>\n",
       "      <td>Fiction</td>\n",
       "      <td>24</td>\n",
       "      <td>2013</td>\n",
       "    </tr>\n",
       "    <tr>\n",
       "      <th>5</th>\n",
       "      <td>Fiction</td>\n",
       "      <td>29</td>\n",
       "      <td>2014</td>\n",
       "    </tr>\n",
       "    <tr>\n",
       "      <th>6</th>\n",
       "      <td>Fiction</td>\n",
       "      <td>17</td>\n",
       "      <td>2015</td>\n",
       "    </tr>\n",
       "    <tr>\n",
       "      <th>7</th>\n",
       "      <td>Fiction</td>\n",
       "      <td>19</td>\n",
       "      <td>2016</td>\n",
       "    </tr>\n",
       "    <tr>\n",
       "      <th>8</th>\n",
       "      <td>Fiction</td>\n",
       "      <td>24</td>\n",
       "      <td>2017</td>\n",
       "    </tr>\n",
       "    <tr>\n",
       "      <th>9</th>\n",
       "      <td>Fiction</td>\n",
       "      <td>21</td>\n",
       "      <td>2018</td>\n",
       "    </tr>\n",
       "    <tr>\n",
       "      <th>10</th>\n",
       "      <td>Fiction</td>\n",
       "      <td>20</td>\n",
       "      <td>2019</td>\n",
       "    </tr>\n",
       "    <tr>\n",
       "      <th>11</th>\n",
       "      <td>Fiction</td>\n",
       "      <td>21</td>\n",
       "      <td>2020</td>\n",
       "    </tr>\n",
       "    <tr>\n",
       "      <th>12</th>\n",
       "      <td>Fiction</td>\n",
       "      <td>25</td>\n",
       "      <td>2021</td>\n",
       "    </tr>\n",
       "    <tr>\n",
       "      <th>13</th>\n",
       "      <td>Fiction</td>\n",
       "      <td>26</td>\n",
       "      <td>2022</td>\n",
       "    </tr>\n",
       "    <tr>\n",
       "      <th>14</th>\n",
       "      <td>Non Fiction</td>\n",
       "      <td>26</td>\n",
       "      <td>2009</td>\n",
       "    </tr>\n",
       "    <tr>\n",
       "      <th>15</th>\n",
       "      <td>Non Fiction</td>\n",
       "      <td>30</td>\n",
       "      <td>2010</td>\n",
       "    </tr>\n",
       "    <tr>\n",
       "      <th>16</th>\n",
       "      <td>Non Fiction</td>\n",
       "      <td>29</td>\n",
       "      <td>2011</td>\n",
       "    </tr>\n",
       "    <tr>\n",
       "      <th>17</th>\n",
       "      <td>Non Fiction</td>\n",
       "      <td>29</td>\n",
       "      <td>2012</td>\n",
       "    </tr>\n",
       "    <tr>\n",
       "      <th>18</th>\n",
       "      <td>Non Fiction</td>\n",
       "      <td>26</td>\n",
       "      <td>2013</td>\n",
       "    </tr>\n",
       "    <tr>\n",
       "      <th>19</th>\n",
       "      <td>Non Fiction</td>\n",
       "      <td>21</td>\n",
       "      <td>2014</td>\n",
       "    </tr>\n",
       "    <tr>\n",
       "      <th>20</th>\n",
       "      <td>Non Fiction</td>\n",
       "      <td>33</td>\n",
       "      <td>2015</td>\n",
       "    </tr>\n",
       "    <tr>\n",
       "      <th>21</th>\n",
       "      <td>Non Fiction</td>\n",
       "      <td>31</td>\n",
       "      <td>2016</td>\n",
       "    </tr>\n",
       "    <tr>\n",
       "      <th>22</th>\n",
       "      <td>Non Fiction</td>\n",
       "      <td>26</td>\n",
       "      <td>2017</td>\n",
       "    </tr>\n",
       "    <tr>\n",
       "      <th>23</th>\n",
       "      <td>Non Fiction</td>\n",
       "      <td>29</td>\n",
       "      <td>2018</td>\n",
       "    </tr>\n",
       "    <tr>\n",
       "      <th>24</th>\n",
       "      <td>Non Fiction</td>\n",
       "      <td>30</td>\n",
       "      <td>2019</td>\n",
       "    </tr>\n",
       "    <tr>\n",
       "      <th>25</th>\n",
       "      <td>Non Fiction</td>\n",
       "      <td>29</td>\n",
       "      <td>2020</td>\n",
       "    </tr>\n",
       "    <tr>\n",
       "      <th>26</th>\n",
       "      <td>Non Fiction</td>\n",
       "      <td>25</td>\n",
       "      <td>2021</td>\n",
       "    </tr>\n",
       "    <tr>\n",
       "      <th>27</th>\n",
       "      <td>Non Fiction</td>\n",
       "      <td>24</td>\n",
       "      <td>2022</td>\n",
       "    </tr>\n",
       "  </tbody>\n",
       "</table>\n",
       "</div>"
      ],
      "text/plain": [
       "          Genre  COUNT(Name)  Year\n",
       "0       Fiction           24  2009\n",
       "1       Fiction           20  2010\n",
       "2       Fiction           21  2011\n",
       "3       Fiction           21  2012\n",
       "4       Fiction           24  2013\n",
       "5       Fiction           29  2014\n",
       "6       Fiction           17  2015\n",
       "7       Fiction           19  2016\n",
       "8       Fiction           24  2017\n",
       "9       Fiction           21  2018\n",
       "10      Fiction           20  2019\n",
       "11      Fiction           21  2020\n",
       "12      Fiction           25  2021\n",
       "13      Fiction           26  2022\n",
       "14  Non Fiction           26  2009\n",
       "15  Non Fiction           30  2010\n",
       "16  Non Fiction           29  2011\n",
       "17  Non Fiction           29  2012\n",
       "18  Non Fiction           26  2013\n",
       "19  Non Fiction           21  2014\n",
       "20  Non Fiction           33  2015\n",
       "21  Non Fiction           31  2016\n",
       "22  Non Fiction           26  2017\n",
       "23  Non Fiction           29  2018\n",
       "24  Non Fiction           30  2019\n",
       "25  Non Fiction           29  2020\n",
       "26  Non Fiction           25  2021\n",
       "27  Non Fiction           24  2022"
      ]
     },
     "execution_count": 88,
     "metadata": {},
     "output_type": "execute_result"
    }
   ],
   "source": [
    "df_5 = sqldf(\"SELECT Genre, COUNT(Name), Year FROM df_1 GROUP BY Genre, Year\")\n",
    "df_5"
   ]
  },
  {
   "cell_type": "code",
   "execution_count": 89,
   "metadata": {
    "cell_id": "698f0123dcae403a98273420be9029a2",
    "deepnote_cell_type": "code",
    "deepnote_to_be_reexecuted": false,
    "execution_millis": 416,
    "execution_start": 1718026982583,
    "source_hash": "ecce2d6"
   },
   "outputs": [
    {
     "data": {
      "image/png": "[encoded data removed]",
      "text/plain": [
       "<Figure size 1400x800 with 1 Axes>"
      ]
     },
     "metadata": {},
     "output_type": "display_data"
    }
   ],
   "source": [
    "from matplotlib.ticker import FuncFormatter\n",
    "\n",
    "# Number of books published\n",
    "df_grouped = df_1.groupby(['Year', 'Genre'], as_index = False)['Name'].count()\n",
    "\n",
    "# Custom colors\n",
    "colors = ['#9932CC','#DA70D6']\n",
    "\n",
    "# Figure size\n",
    "plt.figure(figsize = (14, 8))\n",
    "\n",
    "# Bar chart\n",
    "fig = sns.barplot(\n",
    "    x = 'Year', \n",
    "    y = 'Name', \n",
    "    data = df_grouped,\n",
    "    palette = colors,\n",
    "    errorbar = None,\n",
    "    hue = 'Genre',\n",
    "    dodge = True,\n",
    "    legend = True          \n",
    "    )\n",
    "\n",
    "# Title\n",
    "fig.set_title('Number of Books Published per Genre', fontsize = 12)\n",
    "\n",
    "# Bar labels\n",
    "for container in fig.containers:\n",
    "    fig.bar_label(container,\n",
    "                  label_type = 'edge', \n",
    "                  fmt = '%.0f',\n",
    "                  fontsize = 10)\n",
    "\n",
    "plt.show()\n"
   ]
  },
  {
   "cell_type": "markdown",
   "metadata": {
    "cell_id": "34fc149ecee046f08a04b14597bbb0a5",
    "deepnote_cell_type": "text-cell-p",
    "formattedRanges": []
   },
   "source": [
    "The graph above shows that the number of Non Fiction books published each year was higher in 11 out of 14 years we've analyzed. "
   ]
  },
  {
   "cell_type": "markdown",
   "metadata": {
    "cell_id": "a9478e4d0efb48d182bf43d6e0f93c71",
    "deepnote_cell_type": "text-cell-p",
    "formattedRanges": [
     {
      "fromCodePoint": 89,
      "marks": {
       "bold": true
      },
      "toCodePoint": 232,
      "type": "marks"
     }
    ]
   },
   "source": [
    "So if we combine the information from both bar charts, we can assume that over the years **Fiction books were getting more Reviews not simply because more of them were published, but probably because people actually read more of them.**"
   ]
  },
  {
   "cell_type": "markdown",
   "metadata": {
    "cell_id": "9f0629abe9e5436f93eefbff577eaa9e",
    "deepnote_app_block_visible": false,
    "deepnote_cell_type": "text-cell-h3",
    "formattedRanges": [],
    "is_collapsed": false
   },
   "source": [
    "#### Genre vs Price"
   ]
  },
  {
   "cell_type": "markdown",
   "metadata": {
    "cell_id": "815117724c1d452ea4d574bbaa671173",
    "deepnote_cell_type": "text-cell-p",
    "formattedRanges": []
   },
   "source": [
    "Now, we are going to check what is the correlation between book genres and prices."
   ]
  },
  {
   "cell_type": "code",
   "execution_count": 90,
   "metadata": {
    "cell_id": "a1257f25f80045149da106c7a714d3e8",
    "deepnote_cell_type": "sql",
    "deepnote_sql_source": "SELECT Genre, AVG(Price)\nFROM df_1\nGROUP BY Genre",
    "deepnote_to_be_reexecuted": false,
    "deepnote_variable_name": "df_3",
    "execution_millis": 292,
    "execution_start": 1718026983001,
    "source_hash": "c0a50b44",
    "sql_integration_id": "deepnote-dataframe-sql"
   },
   "outputs": [
    {
     "data": {
      "text/html": [
       "<div>\n",
       "<style scoped>\n",
       "    .dataframe tbody tr th:only-of-type {\n",
       "        vertical-align: middle;\n",
       "    }\n",
       "\n",
       "    .dataframe tbody tr th {\n",
       "        vertical-align: top;\n",
       "    }\n",
       "\n",
       "    .dataframe thead th {\n",
       "        text-align: right;\n",
       "    }\n",
       "</style>\n",
       "<table border=\"1\" class=\"dataframe\">\n",
       "  <thead>\n",
       "    <tr style=\"text-align: right;\">\n",
       "      <th></th>\n",
       "      <th>Genre</th>\n",
       "      <th>AVG(Price)</th>\n",
       "    </tr>\n",
       "  </thead>\n",
       "  <tbody>\n",
       "    <tr>\n",
       "      <th>0</th>\n",
       "      <td>Fiction</td>\n",
       "      <td>10.663462</td>\n",
       "    </tr>\n",
       "    <tr>\n",
       "      <th>1</th>\n",
       "      <td>Non Fiction</td>\n",
       "      <td>14.337629</td>\n",
       "    </tr>\n",
       "  </tbody>\n",
       "</table>\n",
       "</div>"
      ],
      "text/plain": [
       "         Genre  AVG(Price)\n",
       "0      Fiction   10.663462\n",
       "1  Non Fiction   14.337629"
      ]
     },
     "execution_count": 90,
     "metadata": {},
     "output_type": "execute_result"
    }
   ],
   "source": [
    "df_6 = sqldf(\"SELECT Genre, AVG(Price) FROM df_1 GROUP BY Genre\")\n",
    "df_6"
   ]
  },
  {
   "cell_type": "code",
   "execution_count": 91,
   "metadata": {
    "cell_id": "8879078c6c07479cac9906b2d7e0013d",
    "deepnote_cell_type": "code",
    "deepnote_to_be_reexecuted": false,
    "execution_millis": 9126,
    "execution_start": 1718026983016,
    "source_hash": "57e5f347"
   },
   "outputs": [
    {
     "data": {
      "image/png": "[encoded data removed]",
      "text/plain": [
       "<Figure size 500x500 with 1 Axes>"
      ]
     },
     "metadata": {},
     "output_type": "display_data"
    }
   ],
   "source": [
    "# Average price per genre\n",
    "average_price = df_1.groupby('Genre')['Price'].mean().reset_index()\n",
    "\n",
    "# Circlify values\n",
    "prices = average_price['Price'].tolist()\n",
    "genres = average_price['Genre'].tolist()\n",
    "\n",
    "# Circles layout\n",
    "circles = circlify.circlify(\n",
    "    average_price['Price'].to_list(), \n",
    "    show_enclosure = False, \n",
    "    target_enclosure = circlify.Circle(x=0, y=0, r=1)\n",
    ")\n",
    "\n",
    "# Sort circles and genres together based on prices\n",
    "sorted_circles_genres = sorted(zip(circles, genres, prices), key = lambda x: x[2], reverse = True)\n",
    "\n",
    "\n",
    "# Create container for the Circlify graph\n",
    "fig, ax = plt.subplots(figsize = (5,5))\n",
    "\n",
    "# Title\n",
    "ax.set_title('Genre vs Price', fontsize = 15)\n",
    "\n",
    "# Remove axes\n",
    "ax.axis('off')\n",
    "\n",
    "# Find axis boundaries\n",
    "lim = max(\n",
    "    max(\n",
    "        abs(circle.x) + circle.r,\n",
    "        abs(circle.y) + circle.r,\n",
    "    )\n",
    "    for circle, _, _ in sorted_circles_genres\n",
    ")\n",
    "plt.xlim(-lim, lim)\n",
    "plt.ylim(-lim, lim)\n",
    "\n",
    "# Custom colors\n",
    "colors = ['#9932CC', '#DA70D6']\n",
    "\n",
    "\n",
    "# Circle parameters\n",
    "for circle, genre, price, color in zip(circles, genres, prices, colors):\n",
    "    x, y, r = circle.x, circle.y, circle.r\n",
    "    ax.add_patch(plt.Circle((x, y), r, alpha = 0.7, linewidth = 1.5, facecolor = color, edgecolor = 'black'))\n",
    "    plt.annotate(f'{genre}\\n${price:.2f}', (x, y), va = 'center', ha = 'center', fontsize = 12)\n"
   ]
  },
  {
   "cell_type": "markdown",
   "metadata": {
    "cell_id": "4b7229fc4dca446aa141f65fc50d1c74",
    "deepnote_cell_type": "text-cell-p",
    "formattedRanges": [
     {
      "fromCodePoint": 16,
      "marks": {
       "bold": true
      },
      "toCodePoint": 65,
      "type": "marks"
     }
    ]
   },
   "source": [
    "We can see that **the average Price for Non Fiction books is higher** than for Fiction ones. Therefore, from the revenue standpoint, writing or publishing Non Fiction books is more beneficial."
   ]
  },
  {
   "cell_type": "markdown",
   "metadata": {
    "cell_id": "209b17e0f5da45c391a142cb405194d4",
    "deepnote_app_block_visible": false,
    "deepnote_cell_type": "text-cell-h3",
    "formattedRanges": [],
    "is_collapsed": false
   },
   "source": [
    "#### Price vs Reviews"
   ]
  },
  {
   "cell_type": "markdown",
   "metadata": {
    "cell_id": "3447dbc61b5c47448fc72f6a0daf2e52",
    "deepnote_cell_type": "text-cell-p",
    "formattedRanges": []
   },
   "source": [
    "In this section, we are going to check if more expensive books have better reviews."
   ]
  },
  {
   "cell_type": "code",
   "execution_count": 92,
   "metadata": {
    "cell_id": "47990b0c24444f38a99786fc6b602eef",
    "deepnote_cell_type": "code",
    "deepnote_to_be_reexecuted": false,
    "execution_millis": 288,
    "execution_start": 1718026992145,
    "source_hash": "7e177b47"
   },
   "outputs": [
    {
     "data": {
      "application/vnd.plotly.v1+json": {
       "config": {
        "plotlyServerURL": "https://plot.ly"
       },
       "data": [
        {
         "hovertemplate": "Price=%{x}<br>User Rating=%{y}<br>Reviews=%{marker.size}<extra></extra>",
         "legendgroup": "",
         "marker": {
          "color": "#9932CC",
          "size": [
           5013,
           798,
           9769,
           1542,
           1541,
           3837,
           37,
           3181,
           720,
           956,
           5505,
           5505,
           1365,
           1636,
           3457,
           1930,
           1320,
           3828,
           2926,
           5680,
           4519,
           10426,
           8580,
           973,
           5069,
           1583,
           1680,
           9325,
           858,
           1859,
           3207,
           803,
           7251,
           10559,
           8587,
           13871,
           4028,
           4628,
           8747,
           1655,
           19720,
           3759,
           3503,
           3801,
           3319,
           438,
           11676,
           6740,
           3829,
           9967,
           460,
           491,
           615,
           471,
           22614,
           1542,
           4866,
           1924,
           2137,
           1651,
           2525,
           1555,
           1215,
           408,
           3457,
           2752,
           1467,
           26741,
           10426,
           548,
           8580,
           1985,
           3619,
           1265,
           5069,
           1907,
           637,
           3477,
           11813,
           3536,
           3523,
           440,
           3207,
           7747,
           7251,
           10559,
           13871,
           32122,
           9289,
           4628,
           4506,
           1201,
           2186,
           1204,
           2122,
           3796,
           3319,
           2282,
           29673,
           1302,
           2052,
           12643,
           4149,
           4505,
           22614,
           1542,
           4866,
           2094,
           6346,
           5594,
           9568,
           3457,
           15779,
           4571,
           5299,
           19576,
           9342,
           1649,
           26741,
           3163,
           8580,
           1985,
           7827,
           5069,
           637,
           2314,
           4587,
           3477,
           9325,
           11813,
           4633,
           2023,
           3207,
           7747,
           13871,
           13871,
           32122,
           16949,
           9289,
           4247,
           6222,
           1201,
           3759,
           4290,
           1463,
           11034,
           5977,
           29673,
           8958,
           3341,
           1296,
           22614,
           6346,
           23631,
           20262,
           47265,
           13964,
           5594,
           57271,
           3457,
           7038,
           15779,
           19576,
           8634,
           9342,
           26741,
           8093,
           21834,
           3163,
           13616,
           8580,
           10009,
           7827,
           5069,
           3477,
           9325,
           2580,
           1789,
           9372,
           50482,
           3207,
           11616,
           11098,
           32122,
           16949,
           9289,
           4247,
           6247,
           1201,
           2876,
           10795,
           14493,
           2091,
           6377,
           11034,
           1904,
           29673,
           7497,
           17044,
           10760,
           6310,
           12159,
           1329,
           4642,
           6679,
           6812,
           27098,
           15845,
           47265,
           5594,
           4799,
           57271,
           7038,
           4148,
           3490,
           4896,
           29651,
           19576,
           4748,
           11391,
           3673,
           6990,
           6132,
           21834,
           13616,
           8580,
           10009,
           7150,
           2272,
           220,
           5069,
           23114,
           3477,
           9325,
           23148,
           8922,
           50482,
           3207,
           23308,
           33844,
           11616,
           6982,
           5396,
           1201,
           2663,
           19546,
           7034,
           26234,
           7497,
           21625,
           19735,
           36348,
           2884,
           6679,
           6540,
           27098,
           17684,
           17323,
           3642,
           57271,
           5972,
           25001,
           3490,
           7153,
           19576,
           978,
           10927,
           3673,
           6990,
           1884,
           8491,
           18613,
           1386,
           5542,
           21834,
           21930,
           8580,
           3836,
           5069,
           3477,
           35799,
           6600,
           23148,
           8081,
           23358,
           8922,
           50482,
           50482,
           33844,
           11616,
           10101,
           1201,
           19546,
           11128,
           26234,
           2586,
           29673,
           29673,
           9292,
           21625,
           2925,
           2951,
           2426,
           36348,
           15921,
           5360,
           1909,
           11113,
           10070,
           4022,
           3871,
           10922,
           2134,
           5413,
           17323,
           14038,
           14982,
           25624,
           3564,
           25001,
           2812,
           19576,
           5235,
           3673,
           6990,
           18613,
           5542,
           21834,
           6169,
           8580,
           9366,
           5069,
           25554,
           4725,
           8081,
           23358,
           8922,
           23308,
           79446,
           22641,
           39459,
           49288,
           3428,
           19546,
           7508,
           6169,
           11128,
           26234,
           1873,
           21625,
           17350,
           23848,
           2313,
           9198,
           10070,
           3729,
           10369,
           4761,
           10922,
           5118,
           10721,
           4370,
           17323,
           14038,
           5867,
           19622,
           23973,
           10052,
           13471,
           15526,
           25001,
           19576,
           8916,
           6990,
           17739,
           5542,
           5178,
           21834,
           3503,
           8580,
           5069,
           25554,
           4725,
           2774,
           23308,
           79446,
           5249,
           22641,
           7861,
           49288,
           807,
           19546,
           7508,
           8842,
           11128,
           26234,
           4585,
           13779,
           21625,
           14331,
           21424,
           19699,
           23848,
           9374,
           14344,
           10922,
           4786,
           17323,
           14038,
           8837,
           3146,
           15526,
           25001,
           16643,
           8393,
           6990,
           3014,
           10199,
           17739,
           3113,
           3192,
           21834,
           1831,
           18904,
           16990,
           8580,
           4757,
           22536,
           5069,
           25554,
           4725,
           23308,
           5836,
           5249,
           29442,
           7368,
           22641,
           9784,
           19720,
           26490,
           5487,
           19546,
           7508,
           8842,
           7932,
           11128,
           4360,
           5492,
           21625,
           14331,
           18979,
           5983,
           5153,
           61133,
           6143,
           10922,
           5062,
           7235,
           5470,
           28729,
           10721,
           6042,
           13677,
           17323,
           14038,
           22288,
           8837,
           3776,
           25001,
           7396,
           2507,
           11881,
           7550,
           25706,
           9867,
           17739,
           21834,
           10820,
           16990,
           8580,
           22536,
           7802,
           23047,
           3923,
           25554,
           13061,
           23308,
           9947,
           7368,
           5898,
           3601,
           7058,
           9784,
           10191,
           26490,
           19546,
           8842,
           30183,
           6669,
           14331,
           7665,
           61133,
           14344,
           16244,
           7955,
           7235,
           12619,
           9089,
           28729,
           14038,
           7660,
           22288,
           10141,
           8837,
           5476,
           7758,
           5272,
           9737,
           16643,
           7396,
           7062,
           5347,
           7866,
           21834,
           10820,
           16990,
           7802,
           23047,
           9382,
           25554,
           12361,
           13061,
           23308,
           13609,
           22641,
           2744,
           27536,
           26490,
           11550,
           9030,
           19546,
           8842,
           30183,
           26234,
           5956,
           6108,
           8170,
           87841,
           9413,
           14331,
           121109,
           66795,
           73216,
           118767,
           38969,
           36689,
           38318,
           30145,
           41021,
           61064,
           19558,
           27722,
           52217,
           24386,
           26660,
           29902,
           19138,
           29913,
           51188,
           63659,
           53363,
           23944,
           24352,
           79334,
           16097,
           69801,
           17639,
           20182,
           39234,
           33469,
           60501,
           62463,
           43745,
           18142,
           44642,
           93749,
           38674,
           75798,
           49087,
           102544,
           26537,
           83490,
           47260,
           68099,
           100534,
           49978,
           35772,
           20918,
           208915,
           38798,
           60381,
           29510,
           7556,
           73216,
           12259,
           38969,
           23145,
           2873,
           38319,
           30513,
           18740,
           52262,
           35580,
           52217,
           20714,
           26660,
           61283,
           29913,
           51188,
           63658,
           76135,
           69801,
           39852,
           35287,
           20182,
           16861,
           25374,
           71078,
           60501,
           11921,
           38568,
           62463,
           71252,
           44642,
           93749,
           75798,
           96810,
           14385,
           77903,
           144313,
           14575,
           60969,
           38186,
           14463,
           64073,
           47260,
           20920,
           22602,
           49978,
           34117,
           29402,
           7556,
           73215,
           38969,
           23146,
           23735,
           14327,
           6020,
           61283,
           51188,
           63658,
           76137,
           1213,
           6959,
           9361,
           2438,
           69801,
           4910,
           17592,
           1685,
           10404,
           3366,
           56049,
           71078,
           4828,
           60501,
           6657,
           38568,
           62462,
           71252,
           44642,
           93749,
           5349,
           75798,
           3098,
           77903,
           38675,
           24858,
           17988,
           144314,
           14575,
           60969,
           64073,
           47260,
           206,
           20920,
           33929,
           71826,
           27052,
           208917
          ],
          "sizemode": "area",
          "sizeref": 522.2925,
          "symbol": "circle"
         },
         "mode": "markers",
         "name": "",
         "opacity": 0.9,
         "orientation": "v",
         "showlegend": false,
         "type": "scatter",
         "x": [
          17,
          5,
          13,
          14,
          4,
          15,
          6,
          12,
          1,
          14,
          7,
          18,
          11,
          6,
          14,
          4,
          7,
          15,
          27,
          10,
          12,
          20,
          46,
          25,
          17,
          18,
          12,
          24,
          53,
          11,
          6,
          9,
          16,
          2,
          10,
          6,
          9,
          7,
          19,
          13,
          8,
          6,
          9,
          82,
          11,
          15,
          9,
          20,
          42,
          13,
          2,
          14,
          21,
          8,
          11,
          14,
          11,
          8,
          17,
          15,
          16,
          9,
          9,
          20,
          14,
          18,
          10,
          8,
          20,
          2,
          46,
          9,
          10,
          11,
          17,
          13,
          20,
          28,
          10,
          17,
          13,
          11,
          6,
          14,
          9,
          2,
          6,
          14,
          13,
          7,
          14,
          40,
          12,
          14,
          0,
          12,
          11,
          21,
          16,
          11,
          22,
          11,
          32,
          0,
          11,
          14,
          11,
          4,
          9,
          5,
          9,
          14,
          10,
          21,
          20,
          8,
          10,
          13,
          8,
          13,
          46,
          9,
          20,
          17,
          20,
          22,
          21,
          28,
          24,
          10,
          21,
          15,
          6,
          14,
          8,
          7,
          8,
          30,
          9,
          13,
          18,
          40,
          16,
          10,
          10,
          19,
          12,
          16,
          12,
          9,
          24,
          11,
          9,
          7,
          11,
          14,
          32,
          5,
          10,
          14,
          7,
          10,
          8,
          25,
          10,
          8,
          14,
          8,
          13,
          10,
          46,
          20,
          20,
          17,
          28,
          24,
          9,
          14,
          12,
          13,
          6,
          7,
          13,
          8,
          30,
          9,
          13,
          10,
          40,
          21,
          21,
          18,
          12,
          7,
          19,
          23,
          16,
          6,
          18,
          15,
          13,
          13,
          10,
          13,
          105,
          0,
          15,
          13,
          14,
          5,
          16,
          10,
          7,
          11,
          15,
          17,
          14,
          8,
          12,
          12,
          4,
          4,
          13,
          8,
          10,
          46,
          7,
          12,
          6,
          17,
          17,
          18,
          28,
          24,
          6,
          9,
          13,
          6,
          6,
          20,
          7,
          14,
          20,
          40,
          17,
          5,
          15,
          0,
          6,
          9,
          30,
          14,
          28,
          105,
          22,
          15,
          6,
          4,
          0,
          9,
          10,
          11,
          15,
          9,
          8,
          0,
          6,
          4,
          4,
          0,
          7,
          5,
          20,
          10,
          8,
          11,
          46,
          12,
          17,
          28,
          39,
          11,
          6,
          8,
          12,
          9,
          7,
          13,
          20,
          7,
          8,
          40,
          5,
          23,
          0,
          5,
          13,
          16,
          17,
          9,
          6,
          6,
          8,
          14,
          9,
          5,
          11,
          15,
          13,
          4,
          5,
          5,
          5,
          9,
          4,
          4,
          19,
          14,
          9,
          11,
          17,
          8,
          5,
          4,
          4,
          5,
          10,
          8,
          7,
          46,
          9,
          17,
          8,
          16,
          8,
          12,
          9,
          6,
          18,
          11,
          9,
          11,
          14,
          5,
          16,
          16,
          23,
          0,
          14,
          9,
          8,
          8,
          4,
          13,
          13,
          18,
          4,
          16,
          5,
          20,
          8,
          15,
          4,
          4,
          54,
          30,
          12,
          22,
          52,
          14,
          11,
          8,
          6,
          4,
          8,
          10,
          9,
          8,
          9,
          46,
          17,
          8,
          16,
          0,
          6,
          7,
          5,
          11,
          5,
          11,
          36,
          5,
          16,
          10,
          23,
          0,
          9,
          14,
          9,
          8,
          6,
          15,
          8,
          9,
          5,
          5,
          8,
          4,
          4,
          5,
          30,
          14,
          11,
          4,
          17,
          4,
          21,
          11,
          8,
          6,
          22,
          8,
          9,
          13,
          27,
          46,
          4,
          12,
          17,
          8,
          16,
          6,
          0,
          5,
          7,
          7,
          11,
          5,
          8,
          15,
          9,
          5,
          16,
          10,
          9,
          23,
          21,
          18,
          9,
          8,
          15,
          3,
          5,
          11,
          8,
          5,
          6,
          4,
          6,
          15,
          8,
          2,
          6,
          4,
          4,
          12,
          5,
          22,
          11,
          13,
          8,
          13,
          6,
          12,
          16,
          8,
          8,
          5,
          27,
          46,
          12,
          20,
          6,
          16,
          8,
          6,
          6,
          11,
          7,
          8,
          18,
          17,
          5,
          18,
          15,
          5,
          10,
          4,
          12,
          8,
          12,
          11,
          5,
          18,
          5,
          4,
          8,
          8,
          15,
          4,
          12,
          12,
          6,
          5,
          7,
          18,
          16,
          7,
          4,
          13,
          12,
          16,
          11,
          8,
          5,
          27,
          20,
          6,
          6,
          8,
          12,
          6,
          6,
          14,
          11,
          12,
          14,
          15,
          10,
          10,
          5,
          10,
          4,
          7,
          11,
          4,
          13,
          15,
          8,
          8,
          16,
          14,
          12,
          21,
          5,
          7,
          15,
          5,
          6,
          13,
          14,
          6,
          16,
          17,
          5,
          5,
          5,
          7,
          4,
          4,
          10,
          13,
          17,
          14,
          19,
          5,
          7,
          8,
          10,
          8,
          6,
          8,
          14,
          6,
          11,
          10,
          7,
          8,
          13,
          20,
          17,
          13,
          5,
          5,
          10,
          16,
          12,
          14,
          12,
          8,
          7,
          14,
          18,
          12,
          7,
          5,
          7,
          14,
          15,
          9,
          7,
          12,
          20,
          16,
          7,
          5,
          11,
          7,
          4,
          4,
          11,
          5,
          16,
          9,
          8,
          15,
          21,
          13,
          6,
          10,
          12,
          8,
          9,
          11,
          10,
          8,
          14,
          10,
          14,
          13,
          20,
          9,
          10,
          18,
          14,
          5,
          9,
          8,
          16,
          6,
          11,
          18,
          12,
          5,
          7,
          13,
          18,
          10,
          11,
          4,
          4,
          11,
          20,
          11,
          5,
          14,
          5,
          6,
          13,
          21,
          17,
          18,
          13,
          7,
          18,
          6,
          23,
          12,
          8,
          9,
          11,
          10,
          32,
          8,
          18,
          14,
          18,
          11,
          17,
          13,
          20,
          9,
          14,
          5,
          20,
          9,
          10,
          11,
          13,
          10
         ],
         "xaxis": "x",
         "y": [
          4.6,
          4.6,
          4.6,
          4.7,
          4.6,
          4.8,
          4.6,
          4.8,
          4.5,
          4.3,
          4.7,
          4.7,
          4.6,
          4.6,
          4.5,
          4.8,
          4.6,
          4.8,
          4.8,
          4.6,
          4.2,
          4.6,
          4.5,
          4.7,
          4,
          4.5,
          4.8,
          4.6,
          4.7,
          4,
          4.6,
          4.6,
          4.7,
          4.4,
          4.7,
          4.8,
          4.7,
          4.8,
          4.2,
          4.8,
          4.6,
          4.4,
          4.4,
          4.7,
          4.3,
          4.5,
          4.7,
          4.3,
          4.8,
          4.8,
          4.6,
          4.2,
          4.7,
          4.5,
          4.7,
          4.7,
          4.6,
          4.3,
          4.6,
          4.6,
          4.5,
          4.4,
          4.4,
          4.5,
          4.5,
          4.5,
          4.1,
          4.5,
          4.6,
          4.8,
          4.5,
          4.7,
          4.6,
          4.7,
          4,
          4.6,
          4.4,
          4.7,
          4.7,
          4.7,
          4.3,
          4.4,
          4.6,
          4.7,
          4.7,
          4.4,
          4.8,
          4.7,
          4.7,
          4.8,
          4.8,
          4.4,
          4.6,
          4.6,
          4.6,
          4.8,
          4.3,
          4.8,
          4.8,
          4.2,
          4.6,
          4.4,
          4.6,
          4.8,
          4.7,
          4.7,
          4.6,
          4.2,
          4.5,
          4.6,
          4.8,
          4.5,
          4.7,
          4.4,
          4.6,
          4.9,
          4.7,
          4.2,
          4.5,
          4.6,
          4.5,
          4.7,
          4.6,
          4,
          4.4,
          4.3,
          4.3,
          4.7,
          4.6,
          4.7,
          4.7,
          4.1,
          4.6,
          4.7,
          4.8,
          4.8,
          4.7,
          4.8,
          4.7,
          4.4,
          4.4,
          4.4,
          4.3,
          4.8,
          4.7,
          4.6,
          4.3,
          4.8,
          4.5,
          4.4,
          4.8,
          4.7,
          4.5,
          4.4,
          4.5,
          3.8,
          4.5,
          4.6,
          4,
          4.5,
          4.9,
          4.7,
          4.9,
          4.6,
          4.7,
          4.5,
          4.6,
          4.9,
          4.6,
          4.3,
          4.5,
          4.6,
          4.6,
          4,
          4.7,
          4.6,
          4.6,
          4.2,
          3.3,
          4.7,
          4.6,
          4.4,
          4.6,
          4.7,
          4.8,
          4.7,
          4.4,
          4.8,
          4.4,
          4.8,
          4.6,
          4.3,
          4.8,
          4.7,
          4.6,
          4.5,
          4.8,
          4.4,
          4.4,
          4.5,
          3.9,
          4.3,
          4.8,
          4.4,
          4.5,
          4.8,
          4.6,
          4.7,
          3.8,
          4.6,
          4.6,
          4,
          4.9,
          4.8,
          4.8,
          4.7,
          4.1,
          4.9,
          4.5,
          4.5,
          4.5,
          4.6,
          4.5,
          4.9,
          4.3,
          4.5,
          4.6,
          4.9,
          4.1,
          4.6,
          4,
          4.5,
          4.7,
          4.6,
          4.6,
          4.8,
          4.7,
          4.6,
          4.7,
          3.9,
          4.4,
          4.8,
          4.9,
          4.4,
          4.8,
          4.9,
          4.7,
          4.8,
          4.4,
          4.8,
          4.7,
          4.6,
          4.5,
          4.5,
          4.8,
          4.6,
          4.5,
          4.7,
          4.7,
          4,
          4.6,
          4.7,
          4.8,
          4.3,
          4.9,
          4.6,
          4.6,
          4.5,
          4.6,
          4.9,
          4.5,
          4.8,
          4.5,
          4.6,
          4.9,
          4.6,
          4.5,
          4.9,
          4,
          4.7,
          4.7,
          4.8,
          4.6,
          4.8,
          4.8,
          4.8,
          4.7,
          4.7,
          3.9,
          4.4,
          4.5,
          4.4,
          4.9,
          4.6,
          4.8,
          4.5,
          4.8,
          4.8,
          4.7,
          4.8,
          4.6,
          4.4,
          4.5,
          4.6,
          4.6,
          4.6,
          4.6,
          4.8,
          4.7,
          4.8,
          4.8,
          4.8,
          4.6,
          4.7,
          4.7,
          4.8,
          3.6,
          4.4,
          4.7,
          4.7,
          4.9,
          4.9,
          4.6,
          4.5,
          4.6,
          4.8,
          4.6,
          4.9,
          4.8,
          4.5,
          4.7,
          4,
          4.8,
          4.7,
          4.8,
          4.8,
          4.8,
          4.7,
          4.1,
          4.5,
          4.7,
          4.8,
          4.8,
          4.9,
          4.6,
          4.7,
          4.6,
          4.8,
          4.7,
          4.8,
          4.7,
          4.6,
          4.5,
          4.8,
          4.7,
          4.7,
          4.6,
          4.7,
          4.8,
          4.8,
          4.6,
          4.7,
          4.7,
          4.8,
          4.9,
          4.9,
          4,
          4.9,
          4.8,
          4.4,
          4.7,
          4.9,
          4.8,
          4.6,
          4.7,
          4.6,
          4.7,
          4.9,
          4.7,
          4.5,
          4,
          4.8,
          4.7,
          4.8,
          4.7,
          4.1,
          4.8,
          4.5,
          4.9,
          4.8,
          4.3,
          4.9,
          4.6,
          4.9,
          4.6,
          4.8,
          4.7,
          4.8,
          4.8,
          4.7,
          4.7,
          4.7,
          4.6,
          4.7,
          4.9,
          4.8,
          4.9,
          4.7,
          4.8,
          4.8,
          4.9,
          4.4,
          4.7,
          4.8,
          4.6,
          4.6,
          4.5,
          4.7,
          4.7,
          4.4,
          4.9,
          4.9,
          4.5,
          4.3,
          4.8,
          4.5,
          4.8,
          4.6,
          4,
          4.8,
          4.7,
          4.7,
          4.8,
          4.8,
          4.3,
          4.3,
          4.5,
          4.8,
          4.6,
          4.6,
          4.7,
          4.9,
          4.6,
          4.9,
          4.5,
          4.6,
          4.6,
          4.6,
          4.8,
          4.7,
          4.7,
          4.7,
          4.5,
          4.8,
          4.3,
          4.8,
          4.9,
          4.9,
          4.9,
          4.7,
          4.6,
          4.4,
          4.2,
          4.7,
          4.8,
          4.6,
          4.8,
          4.8,
          4.7,
          4.4,
          4.8,
          4.9,
          4.4,
          4.5,
          4.8,
          4.7,
          4.9,
          4.7,
          4.8,
          4.5,
          4.6,
          4.8,
          4.8,
          4.8,
          4.8,
          4.3,
          4.7,
          4.8,
          4.3,
          4.8,
          4.5,
          4.4,
          4.8,
          4.3,
          4.6,
          4.9,
          4.9,
          4.8,
          4.6,
          4.7,
          4.8,
          4.8,
          4.9,
          4.8,
          4.6,
          4.9,
          4.9,
          4.9,
          4.7,
          4.8,
          4.6,
          4.6,
          4.6,
          4.8,
          4.8,
          4.9,
          4.3,
          4.8,
          4.8,
          4.4,
          4.8,
          4.8,
          4.8,
          4.9,
          4.7,
          4.8,
          4.8,
          4.8,
          4.9,
          4.8,
          4.8,
          4.3,
          4.7,
          4.5,
          4.5,
          4.6,
          4.5,
          4.6,
          4.7,
          4.7,
          4.9,
          4.9,
          4.8,
          4.8,
          4.9,
          4.8,
          4.8,
          4.8,
          4.9,
          4.7,
          4.9,
          4.6,
          4.8,
          4.8,
          4.9,
          4.6,
          4.8,
          4.9,
          4.9,
          4.7,
          4.7,
          4.8,
          4.7,
          4.7,
          4.8,
          4.8,
          4.7,
          4.8,
          4.9,
          4.8,
          4.5,
          4.8,
          4.9,
          4.8,
          4.8,
          4.8,
          4.8,
          4.8,
          4.8,
          4.6,
          4.8,
          4.8,
          4.7,
          4.7,
          4.8,
          4.8,
          4.9,
          4.7,
          4.3,
          4.5,
          4.7,
          4.4,
          4.9,
          4.8,
          4.6,
          4.6,
          4,
          4.8,
          4.8,
          4.5,
          4.7,
          4.9,
          4.8,
          4.8,
          4.9,
          4.9,
          4.6,
          4.9,
          4.8,
          4.8,
          4.9,
          4.7,
          4.7,
          4.7,
          4.8,
          4.8,
          4.7,
          4.8,
          4.9,
          4.8,
          4.7,
          4.8,
          4.6,
          4.9,
          4.8,
          4.6,
          4.8,
          4.7,
          4.8,
          4.7,
          4.7,
          4.8,
          4.7,
          4.8,
          4.8,
          4.7,
          4.5,
          4.9,
          4.3,
          4.3,
          4.8,
          4.6,
          4.7,
          4.8,
          4.6,
          4.9,
          4.9,
          4.7,
          4.6,
          4.5,
          4.4,
          4.8,
          4.8,
          4.9,
          4.6,
          4.8,
          4.8,
          4.8,
          4.7,
          4.9,
          4.8,
          4.7,
          4.5,
          4.9,
          4.8,
          4.7,
          4.8,
          4.9,
          4.7,
          4.5,
          4.7,
          4.8,
          4.7,
          4.7,
          4.5,
          4.8,
          4.8,
          4.7,
          4.8,
          4.7,
          4.8,
          4.8,
          4.8,
          4.7,
          4.7,
          4.3,
          4.4,
          4.6,
          4.3,
          4.3,
          4.8,
          4.6,
          4.6,
          4.9,
          4.2,
          4.9,
          4.7,
          4.6,
          4.8,
          4.8
         ],
         "yaxis": "y"
        }
       ],
       "layout": {
        "autosize": true,
        "legend": {
         "itemsizing": "constant",
         "tracegroupgap": 0
        },
        "template": {
         "data": {
          "bar": [
           {
            "error_x": {
             "color": "#2a3f5f"
            },
            "error_y": {
             "color": "#2a3f5f"
            },
            "marker": {
             "line": {
              "color": "#E5ECF6",
              "width": 0.5
             },
             "pattern": {
              "fillmode": "overlay",
              "size": 10,
              "solidity": 0.2
             }
            },
            "type": "bar"
           }
          ],
          "barpolar": [
           {
            "marker": {
             "line": {
              "color": "#E5ECF6",
              "width": 0.5
             },
             "pattern": {
              "fillmode": "overlay",
              "size": 10,
              "solidity": 0.2
             }
            },
            "type": "barpolar"
           }
          ],
          "carpet": [
           {
            "aaxis": {
             "endlinecolor": "#2a3f5f",
             "gridcolor": "white",
             "linecolor": "white",
             "minorgridcolor": "white",
             "startlinecolor": "#2a3f5f"
            },
            "baxis": {
             "endlinecolor": "#2a3f5f",
             "gridcolor": "white",
             "linecolor": "white",
             "minorgridcolor": "white",
             "startlinecolor": "#2a3f5f"
            },
            "type": "carpet"
           }
          ],
          "choropleth": [
           {
            "colorbar": {
             "outlinewidth": 0,
             "ticks": ""
            },
            "type": "choropleth"
           }
          ],
          "contour": [
           {
            "colorbar": {
             "outlinewidth": 0,
             "ticks": ""
            },
            "colorscale": [
             [
              0,
              "#0d0887"
             ],
             [
              0.1111111111111111,
              "#46039f"
             ],
             [
              0.2222222222222222,
              "#7201a8"
             ],
             [
              0.3333333333333333,
              "#9c179e"
             ],
             [
              0.4444444444444444,
              "#bd3786"
             ],
             [
              0.5555555555555556,
              "#d8576b"
             ],
             [
              0.6666666666666666,
              "#ed7953"
             ],
             [
              0.7777777777777778,
              "#fb9f3a"
             ],
             [
              0.8888888888888888,
              "#fdca26"
             ],
             [
              1,
              "#f0f921"
             ]
            ],
            "type": "contour"
           }
          ],
          "contourcarpet": [
           {
            "colorbar": {
             "outlinewidth": 0,
             "ticks": ""
            },
            "type": "contourcarpet"
           }
          ],
          "heatmap": [
           {
            "colorbar": {
             "outlinewidth": 0,
             "ticks": ""
            },
            "colorscale": [
             [
              0,
              "#0d0887"
             ],
             [
              0.1111111111111111,
              "#46039f"
             ],
             [
              0.2222222222222222,
              "#7201a8"
             ],
             [
              0.3333333333333333,
              "#9c179e"
             ],
             [
              0.4444444444444444,
              "#bd3786"
             ],
             [
              0.5555555555555556,
              "#d8576b"
             ],
             [
              0.6666666666666666,
              "#ed7953"
             ],
             [
              0.7777777777777778,
              "#fb9f3a"
             ],
             [
              0.8888888888888888,
              "#fdca26"
             ],
             [
              1,
              "#f0f921"
             ]
            ],
            "type": "heatmap"
           }
          ],
          "heatmapgl": [
           {
            "colorbar": {
             "outlinewidth": 0,
             "ticks": ""
            },
            "colorscale": [
             [
              0,
              "#0d0887"
             ],
             [
              0.1111111111111111,
              "#46039f"
             ],
             [
              0.2222222222222222,
              "#7201a8"
             ],
             [
              0.3333333333333333,
              "#9c179e"
             ],
             [
              0.4444444444444444,
              "#bd3786"
             ],
             [
              0.5555555555555556,
              "#d8576b"
             ],
             [
              0.6666666666666666,
              "#ed7953"
             ],
             [
              0.7777777777777778,
              "#fb9f3a"
             ],
             [
              0.8888888888888888,
              "#fdca26"
             ],
             [
              1,
              "#f0f921"
             ]
            ],
            "type": "heatmapgl"
           }
          ],
          "histogram": [
           {
            "marker": {
             "pattern": {
              "fillmode": "overlay",
              "size": 10,
              "solidity": 0.2
             }
            },
            "type": "histogram"
           }
          ],
          "histogram2d": [
           {
            "colorbar": {
             "outlinewidth": 0,
             "ticks": ""
            },
            "colorscale": [
             [
              0,
              "#0d0887"
             ],
             [
              0.1111111111111111,
              "#46039f"
             ],
             [
              0.2222222222222222,
              "#7201a8"
             ],
             [
              0.3333333333333333,
              "#9c179e"
             ],
             [
              0.4444444444444444,
              "#bd3786"
             ],
             [
              0.5555555555555556,
              "#d8576b"
             ],
             [
              0.6666666666666666,
              "#ed7953"
             ],
             [
              0.7777777777777778,
              "#fb9f3a"
             ],
             [
              0.8888888888888888,
              "#fdca26"
             ],
             [
              1,
              "#f0f921"
             ]
            ],
            "type": "histogram2d"
           }
          ],
          "histogram2dcontour": [
           {
            "colorbar": {
             "outlinewidth": 0,
             "ticks": ""
            },
            "colorscale": [
             [
              0,
              "#0d0887"
             ],
             [
              0.1111111111111111,
              "#46039f"
             ],
             [
              0.2222222222222222,
              "#7201a8"
             ],
             [
              0.3333333333333333,
              "#9c179e"
             ],
             [
              0.4444444444444444,
              "#bd3786"
             ],
             [
              0.5555555555555556,
              "#d8576b"
             ],
             [
              0.6666666666666666,
              "#ed7953"
             ],
             [
              0.7777777777777778,
              "#fb9f3a"
             ],
             [
              0.8888888888888888,
              "#fdca26"
             ],
             [
              1,
              "#f0f921"
             ]
            ],
            "type": "histogram2dcontour"
           }
          ],
          "mesh3d": [
           {
            "colorbar": {
             "outlinewidth": 0,
             "ticks": ""
            },
            "type": "mesh3d"
           }
          ],
          "parcoords": [
           {
            "line": {
             "colorbar": {
              "outlinewidth": 0,
              "ticks": ""
             }
            },
            "type": "parcoords"
           }
          ],
          "pie": [
           {
            "automargin": true,
            "type": "pie"
           }
          ],
          "scatter": [
           {
            "fillpattern": {
             "fillmode": "overlay",
             "size": 10,
             "solidity": 0.2
            },
            "type": "scatter"
           }
          ],
          "scatter3d": [
           {
            "line": {
             "colorbar": {
              "outlinewidth": 0,
              "ticks": ""
             }
            },
            "marker": {
             "colorbar": {
              "outlinewidth": 0,
              "ticks": ""
             }
            },
            "type": "scatter3d"
           }
          ],
          "scattercarpet": [
           {
            "marker": {
             "colorbar": {
              "outlinewidth": 0,
              "ticks": ""
             }
            },
            "type": "scattercarpet"
           }
          ],
          "scattergeo": [
           {
            "marker": {
             "colorbar": {
              "outlinewidth": 0,
              "ticks": ""
             }
            },
            "type": "scattergeo"
           }
          ],
          "scattergl": [
           {
            "marker": {
             "colorbar": {
              "outlinewidth": 0,
              "ticks": ""
             }
            },
            "type": "scattergl"
           }
          ],
          "scattermapbox": [
           {
            "marker": {
             "colorbar": {
              "outlinewidth": 0,
              "ticks": ""
             }
            },
            "type": "scattermapbox"
           }
          ],
          "scatterpolar": [
           {
            "marker": {
             "colorbar": {
              "outlinewidth": 0,
              "ticks": ""
             }
            },
            "type": "scatterpolar"
           }
          ],
          "scatterpolargl": [
           {
            "marker": {
             "colorbar": {
              "outlinewidth": 0,
              "ticks": ""
             }
            },
            "type": "scatterpolargl"
           }
          ],
          "scatterternary": [
           {
            "marker": {
             "colorbar": {
              "outlinewidth": 0,
              "ticks": ""
             }
            },
            "type": "scatterternary"
           }
          ],
          "surface": [
           {
            "colorbar": {
             "outlinewidth": 0,
             "ticks": ""
            },
            "colorscale": [
             [
              0,
              "#0d0887"
             ],
             [
              0.1111111111111111,
              "#46039f"
             ],
             [
              0.2222222222222222,
              "#7201a8"
             ],
             [
              0.3333333333333333,
              "#9c179e"
             ],
             [
              0.4444444444444444,
              "#bd3786"
             ],
             [
              0.5555555555555556,
              "#d8576b"
             ],
             [
              0.6666666666666666,
              "#ed7953"
             ],
             [
              0.7777777777777778,
              "#fb9f3a"
             ],
             [
              0.8888888888888888,
              "#fdca26"
             ],
             [
              1,
              "#f0f921"
             ]
            ],
            "type": "surface"
           }
          ],
          "table": [
           {
            "cells": {
             "fill": {
              "color": "#EBF0F8"
             },
             "line": {
              "color": "white"
             }
            },
            "header": {
             "fill": {
              "color": "#C8D4E3"
             },
             "line": {
              "color": "white"
             }
            },
            "type": "table"
           }
          ]
         },
         "layout": {
          "annotationdefaults": {
           "arrowcolor": "#2a3f5f",
           "arrowhead": 0,
           "arrowwidth": 1
          },
          "autotypenumbers": "strict",
          "coloraxis": {
           "colorbar": {
            "outlinewidth": 0,
            "ticks": ""
           }
          },
          "colorscale": {
           "diverging": [
            [
             0,
             "#8e0152"
            ],
            [
             0.1,
             "#c51b7d"
            ],
            [
             0.2,
             "#de77ae"
            ],
            [
             0.3,
             "#f1b6da"
            ],
            [
             0.4,
             "#fde0ef"
            ],
            [
             0.5,
             "#f7f7f7"
            ],
            [
             0.6,
             "#e6f5d0"
            ],
            [
             0.7,
             "#b8e186"
            ],
            [
             0.8,
             "#7fbc41"
            ],
            [
             0.9,
             "#4d9221"
            ],
            [
             1,
             "#276419"
            ]
           ],
           "sequential": [
            [
             0,
             "#0d0887"
            ],
            [
             0.1111111111111111,
             "#46039f"
            ],
            [
             0.2222222222222222,
             "#7201a8"
            ],
            [
             0.3333333333333333,
             "#9c179e"
            ],
            [
             0.4444444444444444,
             "#bd3786"
            ],
            [
             0.5555555555555556,
             "#d8576b"
            ],
            [
             0.6666666666666666,
             "#ed7953"
            ],
            [
             0.7777777777777778,
             "#fb9f3a"
            ],
            [
             0.8888888888888888,
             "#fdca26"
            ],
            [
             1,
             "#f0f921"
            ]
           ],
           "sequentialminus": [
            [
             0,
             "#0d0887"
            ],
            [
             0.1111111111111111,
             "#46039f"
            ],
            [
             0.2222222222222222,
             "#7201a8"
            ],
            [
             0.3333333333333333,
             "#9c179e"
            ],
            [
             0.4444444444444444,
             "#bd3786"
            ],
            [
             0.5555555555555556,
             "#d8576b"
            ],
            [
             0.6666666666666666,
             "#ed7953"
            ],
            [
             0.7777777777777778,
             "#fb9f3a"
            ],
            [
             0.8888888888888888,
             "#fdca26"
            ],
            [
             1,
             "#f0f921"
            ]
           ]
          },
          "colorway": [
           "#636efa",
           "#EF553B",
           "#00cc96",
           "#ab63fa",
           "#FFA15A",
           "#19d3f3",
           "#FF6692",
           "#B6E880",
           "#FF97FF",
           "#FECB52"
          ],
          "font": {
           "color": "#2a3f5f"
          },
          "geo": {
           "bgcolor": "white",
           "lakecolor": "white",
           "landcolor": "#E5ECF6",
           "showlakes": true,
           "showland": true,
           "subunitcolor": "white"
          },
          "hoverlabel": {
           "align": "left"
          },
          "hovermode": "closest",
          "mapbox": {
           "style": "light"
          },
          "paper_bgcolor": "white",
          "plot_bgcolor": "#E5ECF6",
          "polar": {
           "angularaxis": {
            "gridcolor": "white",
            "linecolor": "white",
            "ticks": ""
           },
           "bgcolor": "#E5ECF6",
           "radialaxis": {
            "gridcolor": "white",
            "linecolor": "white",
            "ticks": ""
           }
          },
          "scene": {
           "xaxis": {
            "backgroundcolor": "#E5ECF6",
            "gridcolor": "white",
            "gridwidth": 2,
            "linecolor": "white",
            "showbackground": true,
            "ticks": "",
            "zerolinecolor": "white"
           },
           "yaxis": {
            "backgroundcolor": "#E5ECF6",
            "gridcolor": "white",
            "gridwidth": 2,
            "linecolor": "white",
            "showbackground": true,
            "ticks": "",
            "zerolinecolor": "white"
           },
           "zaxis": {
            "backgroundcolor": "#E5ECF6",
            "gridcolor": "white",
            "gridwidth": 2,
            "linecolor": "white",
            "showbackground": true,
            "ticks": "",
            "zerolinecolor": "white"
           }
          },
          "shapedefaults": {
           "line": {
            "color": "#2a3f5f"
           }
          },
          "ternary": {
           "aaxis": {
            "gridcolor": "white",
            "linecolor": "white",
            "ticks": ""
           },
           "baxis": {
            "gridcolor": "white",
            "linecolor": "white",
            "ticks": ""
           },
           "bgcolor": "#E5ECF6",
           "caxis": {
            "gridcolor": "white",
            "linecolor": "white",
            "ticks": ""
           }
          },
          "title": {
           "x": 0.05
          },
          "xaxis": {
           "automargin": true,
           "gridcolor": "white",
           "linecolor": "white",
           "ticks": "",
           "title": {
            "standoff": 15
           },
           "zerolinecolor": "white",
           "zerolinewidth": 2
          },
          "yaxis": {
           "automargin": true,
           "gridcolor": "white",
           "linecolor": "white",
           "ticks": "",
           "title": {
            "standoff": 15
           },
           "zerolinecolor": "white",
           "zerolinewidth": 2
          }
         }
        },
        "title": {
         "text": "Price vs Reviews"
        },
        "xaxis": {
         "anchor": "y",
         "autorange": true,
         "domain": [
          0,
          1
         ],
         "range": [
          -6.594986549372406,
          111.26895906256927
         ],
         "title": {
          "text": "Price"
         },
         "type": "linear"
        },
        "yaxis": {
         "anchor": "x",
         "autorange": true,
         "domain": [
          0,
          1
         ],
         "range": [
          3.192562480338846,
          5.04577967147579
         ],
         "title": {
          "text": "User Rating"
         },
         "type": "linear"
        }
       }
      },
      "image/png": "[encoded data removed]",
      "text/html": [
       "<div>                            <div id=\"94d6aef4-f2ba-43b2-96f0-3a3893df6f88\" class=\"plotly-graph-div\" style=\"height:600px; width:100%;\"></div>            <script type=\"text/javascript\">                require([\"plotly\"], function(Plotly) {                    window.PLOTLYENV=window.PLOTLYENV || {};                                    if (document.getElementById(\"94d6aef4-f2ba-43b2-96f0-3a3893df6f88\")) {                    Plotly.newPlot(                        \"94d6aef4-f2ba-43b2-96f0-3a3893df6f88\",                        [{\"hovertemplate\":\"Price=%{x}\\u003cbr\\u003eUser Rating=%{y}\\u003cbr\\u003eReviews=%{marker.size}\\u003cextra\\u003e\\u003c\\u002fextra\\u003e\",\"legendgroup\":\"\",\"marker\":{\"color\":\"#9932CC\",\"size\":[5013,798,9769,1542,1541,3837,37,3181,720,956,5505,5505,1365,1636,3457,1930,1320,3828,2926,5680,4519,10426,8580,973,5069,1583,1680,9325,858,1859,3207,803,7251,10559,8587,13871,4028,4628,8747,1655,19720,3759,3503,3801,3319,438,11676,6740,3829,9967,460,491,615,471,22614,1542,4866,1924,2137,1651,2525,1555,1215,408,3457,2752,1467,26741,10426,548,8580,1985,3619,1265,5069,1907,637,3477,11813,3536,3523,440,3207,7747,7251,10559,13871,32122,9289,4628,4506,1201,2186,1204,2122,3796,3319,2282,29673,1302,2052,12643,4149,4505,22614,1542,4866,2094,6346,5594,9568,3457,15779,4571,5299,19576,9342,1649,26741,3163,8580,1985,7827,5069,637,2314,4587,3477,9325,11813,4633,2023,3207,7747,13871,13871,32122,16949,9289,4247,6222,1201,3759,4290,1463,11034,5977,29673,8958,3341,1296,22614,6346,23631,20262,47265,13964,5594,57271,3457,7038,15779,19576,8634,9342,26741,8093,21834,3163,13616,8580,10009,7827,5069,3477,9325,2580,1789,9372,50482,3207,11616,11098,32122,16949,9289,4247,6247,1201,2876,10795,14493,2091,6377,11034,1904,29673,7497,17044,10760,6310,12159,1329,4642,6679,6812,27098,15845,47265,5594,4799,57271,7038,4148,3490,4896,29651,19576,4748,11391,3673,6990,6132,21834,13616,8580,10009,7150,2272,220,5069,23114,3477,9325,23148,8922,50482,3207,23308,33844,11616,6982,5396,1201,2663,19546,7034,26234,7497,21625,19735,36348,2884,6679,6540,27098,17684,17323,3642,57271,5972,25001,3490,7153,19576,978,10927,3673,6990,1884,8491,18613,1386,5542,21834,21930,8580,3836,5069,3477,35799,6600,23148,8081,23358,8922,50482,50482,33844,11616,10101,1201,19546,11128,26234,2586,29673,29673,9292,21625,2925,2951,2426,36348,15921,5360,1909,11113,10070,4022,3871,10922,2134,5413,17323,14038,14982,25624,3564,25001,2812,19576,5235,3673,6990,18613,5542,21834,6169,8580,9366,5069,25554,4725,8081,23358,8922,23308,79446,22641,39459,49288,3428,19546,7508,6169,11128,26234,1873,21625,17350,23848,2313,9198,10070,3729,10369,4761,10922,5118,10721,4370,17323,14038,5867,19622,23973,10052,13471,15526,25001,19576,8916,6990,17739,5542,5178,21834,3503,8580,5069,25554,4725,2774,23308,79446,5249,22641,7861,49288,807,19546,7508,8842,11128,26234,4585,13779,21625,14331,21424,19699,23848,9374,14344,10922,4786,17323,14038,8837,3146,15526,25001,16643,8393,6990,3014,10199,17739,3113,3192,21834,1831,18904,16990,8580,4757,22536,5069,25554,4725,23308,5836,5249,29442,7368,22641,9784,19720,26490,5487,19546,7508,8842,7932,11128,4360,5492,21625,14331,18979,5983,5153,61133,6143,10922,5062,7235,5470,28729,10721,6042,13677,17323,14038,22288,8837,3776,25001,7396,2507,11881,7550,25706,9867,17739,21834,10820,16990,8580,22536,7802,23047,3923,25554,13061,23308,9947,7368,5898,3601,7058,9784,10191,26490,19546,8842,30183,6669,14331,7665,61133,14344,16244,7955,7235,12619,9089,28729,14038,7660,22288,10141,8837,5476,7758,5272,9737,16643,7396,7062,5347,7866,21834,10820,16990,7802,23047,9382,25554,12361,13061,23308,13609,22641,2744,27536,26490,11550,9030,19546,8842,30183,26234,5956,6108,8170,87841,9413,14331,121109,66795,73216,118767,38969,36689,38318,30145,41021,61064,19558,27722,52217,24386,26660,29902,19138,29913,51188,63659,53363,23944,24352,79334,16097,69801,17639,20182,39234,33469,60501,62463,43745,18142,44642,93749,38674,75798,49087,102544,26537,83490,47260,68099,100534,49978,35772,20918,208915,38798,60381,29510,7556,73216,12259,38969,23145,2873,38319,30513,18740,52262,35580,52217,20714,26660,61283,29913,51188,63658,76135,69801,39852,35287,20182,16861,25374,71078,60501,11921,38568,62463,71252,44642,93749,75798,96810,14385,77903,144313,14575,60969,38186,14463,64073,47260,20920,22602,49978,34117,29402,7556,73215,38969,23146,23735,14327,6020,61283,51188,63658,76137,1213,6959,9361,2438,69801,4910,17592,1685,10404,3366,56049,71078,4828,60501,6657,38568,62462,71252,44642,93749,5349,75798,3098,77903,38675,24858,17988,144314,14575,60969,64073,47260,206,20920,33929,71826,27052,208917],\"sizemode\":\"area\",\"sizeref\":522.2925,\"symbol\":\"circle\"},\"mode\":\"markers\",\"name\":\"\",\"orientation\":\"v\",\"showlegend\":false,\"x\":[17,5,13,14,4,15,6,12,1,14,7,18,11,6,14,4,7,15,27,10,12,20,46,25,17,18,12,24,53,11,6,9,16,2,10,6,9,7,19,13,8,6,9,82,11,15,9,20,42,13,2,14,21,8,11,14,11,8,17,15,16,9,9,20,14,18,10,8,20,2,46,9,10,11,17,13,20,28,10,17,13,11,6,14,9,2,6,14,13,7,14,40,12,14,0,12,11,21,16,11,22,11,32,0,11,14,11,4,9,5,9,14,10,21,20,8,10,13,8,13,46,9,20,17,20,22,21,28,24,10,21,15,6,14,8,7,8,30,9,13,18,40,16,10,10,19,12,16,12,9,24,11,9,7,11,14,32,5,10,14,7,10,8,25,10,8,14,8,13,10,46,20,20,17,28,24,9,14,12,13,6,7,13,8,30,9,13,10,40,21,21,18,12,7,19,23,16,6,18,15,13,13,10,13,105,0,15,13,14,5,16,10,7,11,15,17,14,8,12,12,4,4,13,8,10,46,7,12,6,17,17,18,28,24,6,9,13,6,6,20,7,14,20,40,17,5,15,0,6,9,30,14,28,105,22,15,6,4,0,9,10,11,15,9,8,0,6,4,4,0,7,5,20,10,8,11,46,12,17,28,39,11,6,8,12,9,7,13,20,7,8,40,5,23,0,5,13,16,17,9,6,6,8,14,9,5,11,15,13,4,5,5,5,9,4,4,19,14,9,11,17,8,5,4,4,5,10,8,7,46,9,17,8,16,8,12,9,6,18,11,9,11,14,5,16,16,23,0,14,9,8,8,4,13,13,18,4,16,5,20,8,15,4,4,54,30,12,22,52,14,11,8,6,4,8,10,9,8,9,46,17,8,16,0,6,7,5,11,5,11,36,5,16,10,23,0,9,14,9,8,6,15,8,9,5,5,8,4,4,5,30,14,11,4,17,4,21,11,8,6,22,8,9,13,27,46,4,12,17,8,16,6,0,5,7,7,11,5,8,15,9,5,16,10,9,23,21,18,9,8,15,3,5,11,8,5,6,4,6,15,8,2,6,4,4,12,5,22,11,13,8,13,6,12,16,8,8,5,27,46,12,20,6,16,8,6,6,11,7,8,18,17,5,18,15,5,10,4,12,8,12,11,5,18,5,4,8,8,15,4,12,12,6,5,7,18,16,7,4,13,12,16,11,8,5,27,20,6,6,8,12,6,6,14,11,12,14,15,10,10,5,10,4,7,11,4,13,15,8,8,16,14,12,21,5,7,15,5,6,13,14,6,16,17,5,5,5,7,4,4,10,13,17,14,19,5,7,8,10,8,6,8,14,6,11,10,7,8,13,20,17,13,5,5,10,16,12,14,12,8,7,14,18,12,7,5,7,14,15,9,7,12,20,16,7,5,11,7,4,4,11,5,16,9,8,15,21,13,6,10,12,8,9,11,10,8,14,10,14,13,20,9,10,18,14,5,9,8,16,6,11,18,12,5,7,13,18,10,11,4,4,11,20,11,5,14,5,6,13,21,17,18,13,7,18,6,23,12,8,9,11,10,32,8,18,14,18,11,17,13,20,9,14,5,20,9,10,11,13,10],\"xaxis\":\"x\",\"y\":[4.6,4.6,4.6,4.7,4.6,4.8,4.6,4.8,4.5,4.3,4.7,4.7,4.6,4.6,4.5,4.8,4.6,4.8,4.8,4.6,4.2,4.6,4.5,4.7,4.0,4.5,4.8,4.6,4.7,4.0,4.6,4.6,4.7,4.4,4.7,4.8,4.7,4.8,4.2,4.8,4.6,4.4,4.4,4.7,4.3,4.5,4.7,4.3,4.8,4.8,4.6,4.2,4.7,4.5,4.7,4.7,4.6,4.3,4.6,4.6,4.5,4.4,4.4,4.5,4.5,4.5,4.1,4.5,4.6,4.8,4.5,4.7,4.6,4.7,4.0,4.6,4.4,4.7,4.7,4.7,4.3,4.4,4.6,4.7,4.7,4.4,4.8,4.7,4.7,4.8,4.8,4.4,4.6,4.6,4.6,4.8,4.3,4.8,4.8,4.2,4.6,4.4,4.6,4.8,4.7,4.7,4.6,4.2,4.5,4.6,4.8,4.5,4.7,4.4,4.6,4.9,4.7,4.2,4.5,4.6,4.5,4.7,4.6,4.0,4.4,4.3,4.3,4.7,4.6,4.7,4.7,4.1,4.6,4.7,4.8,4.8,4.7,4.8,4.7,4.4,4.4,4.4,4.3,4.8,4.7,4.6,4.3,4.8,4.5,4.4,4.8,4.7,4.5,4.4,4.5,3.8,4.5,4.6,4.0,4.5,4.9,4.7,4.9,4.6,4.7,4.5,4.6,4.9,4.6,4.3,4.5,4.6,4.6,4.0,4.7,4.6,4.6,4.2,3.3,4.7,4.6,4.4,4.6,4.7,4.8,4.7,4.4,4.8,4.4,4.8,4.6,4.3,4.8,4.7,4.6,4.5,4.8,4.4,4.4,4.5,3.9,4.3,4.8,4.4,4.5,4.8,4.6,4.7,3.8,4.6,4.6,4.0,4.9,4.8,4.8,4.7,4.1,4.9,4.5,4.5,4.5,4.6,4.5,4.9,4.3,4.5,4.6,4.9,4.1,4.6,4.0,4.5,4.7,4.6,4.6,4.8,4.7,4.6,4.7,3.9,4.4,4.8,4.9,4.4,4.8,4.9,4.7,4.8,4.4,4.8,4.7,4.6,4.5,4.5,4.8,4.6,4.5,4.7,4.7,4.0,4.6,4.7,4.8,4.3,4.9,4.6,4.6,4.5,4.6,4.9,4.5,4.8,4.5,4.6,4.9,4.6,4.5,4.9,4.0,4.7,4.7,4.8,4.6,4.8,4.8,4.8,4.7,4.7,3.9,4.4,4.5,4.4,4.9,4.6,4.8,4.5,4.8,4.8,4.7,4.8,4.6,4.4,4.5,4.6,4.6,4.6,4.6,4.8,4.7,4.8,4.8,4.8,4.6,4.7,4.7,4.8,3.6,4.4,4.7,4.7,4.9,4.9,4.6,4.5,4.6,4.8,4.6,4.9,4.8,4.5,4.7,4.0,4.8,4.7,4.8,4.8,4.8,4.7,4.1,4.5,4.7,4.8,4.8,4.9,4.6,4.7,4.6,4.8,4.7,4.8,4.7,4.6,4.5,4.8,4.7,4.7,4.6,4.7,4.8,4.8,4.6,4.7,4.7,4.8,4.9,4.9,4.0,4.9,4.8,4.4,4.7,4.9,4.8,4.6,4.7,4.6,4.7,4.9,4.7,4.5,4.0,4.8,4.7,4.8,4.7,4.1,4.8,4.5,4.9,4.8,4.3,4.9,4.6,4.9,4.6,4.8,4.7,4.8,4.8,4.7,4.7,4.7,4.6,4.7,4.9,4.8,4.9,4.7,4.8,4.8,4.9,4.4,4.7,4.8,4.6,4.6,4.5,4.7,4.7,4.4,4.9,4.9,4.5,4.3,4.8,4.5,4.8,4.6,4.0,4.8,4.7,4.7,4.8,4.8,4.3,4.3,4.5,4.8,4.6,4.6,4.7,4.9,4.6,4.9,4.5,4.6,4.6,4.6,4.8,4.7,4.7,4.7,4.5,4.8,4.3,4.8,4.9,4.9,4.9,4.7,4.6,4.4,4.2,4.7,4.8,4.6,4.8,4.8,4.7,4.4,4.8,4.9,4.4,4.5,4.8,4.7,4.9,4.7,4.8,4.5,4.6,4.8,4.8,4.8,4.8,4.3,4.7,4.8,4.3,4.8,4.5,4.4,4.8,4.3,4.6,4.9,4.9,4.8,4.6,4.7,4.8,4.8,4.9,4.8,4.6,4.9,4.9,4.9,4.7,4.8,4.6,4.6,4.6,4.8,4.8,4.9,4.3,4.8,4.8,4.4,4.8,4.8,4.8,4.9,4.7,4.8,4.8,4.8,4.9,4.8,4.8,4.3,4.7,4.5,4.5,4.6,4.5,4.6,4.7,4.7,4.9,4.9,4.8,4.8,4.9,4.8,4.8,4.8,4.9,4.7,4.9,4.6,4.8,4.8,4.9,4.6,4.8,4.9,4.9,4.7,4.7,4.8,4.7,4.7,4.8,4.8,4.7,4.8,4.9,4.8,4.5,4.8,4.9,4.8,4.8,4.8,4.8,4.8,4.8,4.6,4.8,4.8,4.7,4.7,4.8,4.8,4.9,4.7,4.3,4.5,4.7,4.4,4.9,4.8,4.6,4.6,4.0,4.8,4.8,4.5,4.7,4.9,4.8,4.8,4.9,4.9,4.6,4.9,4.8,4.8,4.9,4.7,4.7,4.7,4.8,4.8,4.7,4.8,4.9,4.8,4.7,4.8,4.6,4.9,4.8,4.6,4.8,4.7,4.8,4.7,4.7,4.8,4.7,4.8,4.8,4.7,4.5,4.9,4.3,4.3,4.8,4.6,4.7,4.8,4.6,4.9,4.9,4.7,4.6,4.5,4.4,4.8,4.8,4.9,4.6,4.8,4.8,4.8,4.7,4.9,4.8,4.7,4.5,4.9,4.8,4.7,4.8,4.9,4.7,4.5,4.7,4.8,4.7,4.7,4.5,4.8,4.8,4.7,4.8,4.7,4.8,4.8,4.8,4.7,4.7,4.3,4.4,4.6,4.3,4.3,4.8,4.6,4.6,4.9,4.2,4.9,4.7,4.6,4.8,4.8],\"yaxis\":\"y\",\"type\":\"scatter\",\"opacity\":0.9}],                        {\"template\":{\"data\":{\"histogram2dcontour\":[{\"type\":\"histogram2dcontour\",\"colorbar\":{\"outlinewidth\":0,\"ticks\":\"\"},\"colorscale\":[[0.0,\"#0d0887\"],[0.1111111111111111,\"#46039f\"],[0.2222222222222222,\"#7201a8\"],[0.3333333333333333,\"#9c179e\"],[0.4444444444444444,\"#bd3786\"],[0.5555555555555556,\"#d8576b\"],[0.6666666666666666,\"#ed7953\"],[0.7777777777777778,\"#fb9f3a\"],[0.8888888888888888,\"#fdca26\"],[1.0,\"#f0f921\"]]}],\"choropleth\":[{\"type\":\"choropleth\",\"colorbar\":{\"outlinewidth\":0,\"ticks\":\"\"}}],\"histogram2d\":[{\"type\":\"histogram2d\",\"colorbar\":{\"outlinewidth\":0,\"ticks\":\"\"},\"colorscale\":[[0.0,\"#0d0887\"],[0.1111111111111111,\"#46039f\"],[0.2222222222222222,\"#7201a8\"],[0.3333333333333333,\"#9c179e\"],[0.4444444444444444,\"#bd3786\"],[0.5555555555555556,\"#d8576b\"],[0.6666666666666666,\"#ed7953\"],[0.7777777777777778,\"#fb9f3a\"],[0.8888888888888888,\"#fdca26\"],[1.0,\"#f0f921\"]]}],\"heatmap\":[{\"type\":\"heatmap\",\"colorbar\":{\"outlinewidth\":0,\"ticks\":\"\"},\"colorscale\":[[0.0,\"#0d0887\"],[0.1111111111111111,\"#46039f\"],[0.2222222222222222,\"#7201a8\"],[0.3333333333333333,\"#9c179e\"],[0.4444444444444444,\"#bd3786\"],[0.5555555555555556,\"#d8576b\"],[0.6666666666666666,\"#ed7953\"],[0.7777777777777778,\"#fb9f3a\"],[0.8888888888888888,\"#fdca26\"],[1.0,\"#f0f921\"]]}],\"heatmapgl\":[{\"type\":\"heatmapgl\",\"colorbar\":{\"outlinewidth\":0,\"ticks\":\"\"},\"colorscale\":[[0.0,\"#0d0887\"],[0.1111111111111111,\"#46039f\"],[0.2222222222222222,\"#7201a8\"],[0.3333333333333333,\"#9c179e\"],[0.4444444444444444,\"#bd3786\"],[0.5555555555555556,\"#d8576b\"],[0.6666666666666666,\"#ed7953\"],[0.7777777777777778,\"#fb9f3a\"],[0.8888888888888888,\"#fdca26\"],[1.0,\"#f0f921\"]]}],\"contourcarpet\":[{\"type\":\"contourcarpet\",\"colorbar\":{\"outlinewidth\":0,\"ticks\":\"\"}}],\"contour\":[{\"type\":\"contour\",\"colorbar\":{\"outlinewidth\":0,\"ticks\":\"\"},\"colorscale\":[[0.0,\"#0d0887\"],[0.1111111111111111,\"#46039f\"],[0.2222222222222222,\"#7201a8\"],[0.3333333333333333,\"#9c179e\"],[0.4444444444444444,\"#bd3786\"],[0.5555555555555556,\"#d8576b\"],[0.6666666666666666,\"#ed7953\"],[0.7777777777777778,\"#fb9f3a\"],[0.8888888888888888,\"#fdca26\"],[1.0,\"#f0f921\"]]}],\"surface\":[{\"type\":\"surface\",\"colorbar\":{\"outlinewidth\":0,\"ticks\":\"\"},\"colorscale\":[[0.0,\"#0d0887\"],[0.1111111111111111,\"#46039f\"],[0.2222222222222222,\"#7201a8\"],[0.3333333333333333,\"#9c179e\"],[0.4444444444444444,\"#bd3786\"],[0.5555555555555556,\"#d8576b\"],[0.6666666666666666,\"#ed7953\"],[0.7777777777777778,\"#fb9f3a\"],[0.8888888888888888,\"#fdca26\"],[1.0,\"#f0f921\"]]}],\"mesh3d\":[{\"type\":\"mesh3d\",\"colorbar\":{\"outlinewidth\":0,\"ticks\":\"\"}}],\"scatter\":[{\"fillpattern\":{\"fillmode\":\"overlay\",\"size\":10,\"solidity\":0.2},\"type\":\"scatter\"}],\"parcoords\":[{\"type\":\"parcoords\",\"line\":{\"colorbar\":{\"outlinewidth\":0,\"ticks\":\"\"}}}],\"scatterpolargl\":[{\"type\":\"scatterpolargl\",\"marker\":{\"colorbar\":{\"outlinewidth\":0,\"ticks\":\"\"}}}],\"bar\":[{\"error_x\":{\"color\":\"#2a3f5f\"},\"error_y\":{\"color\":\"#2a3f5f\"},\"marker\":{\"line\":{\"color\":\"#E5ECF6\",\"width\":0.5},\"pattern\":{\"fillmode\":\"overlay\",\"size\":10,\"solidity\":0.2}},\"type\":\"bar\"}],\"scattergeo\":[{\"type\":\"scattergeo\",\"marker\":{\"colorbar\":{\"outlinewidth\":0,\"ticks\":\"\"}}}],\"scatterpolar\":[{\"type\":\"scatterpolar\",\"marker\":{\"colorbar\":{\"outlinewidth\":0,\"ticks\":\"\"}}}],\"histogram\":[{\"marker\":{\"pattern\":{\"fillmode\":\"overlay\",\"size\":10,\"solidity\":0.2}},\"type\":\"histogram\"}],\"scattergl\":[{\"type\":\"scattergl\",\"marker\":{\"colorbar\":{\"outlinewidth\":0,\"ticks\":\"\"}}}],\"scatter3d\":[{\"type\":\"scatter3d\",\"line\":{\"colorbar\":{\"outlinewidth\":0,\"ticks\":\"\"}},\"marker\":{\"colorbar\":{\"outlinewidth\":0,\"ticks\":\"\"}}}],\"scattermapbox\":[{\"type\":\"scattermapbox\",\"marker\":{\"colorbar\":{\"outlinewidth\":0,\"ticks\":\"\"}}}],\"scatterternary\":[{\"type\":\"scatterternary\",\"marker\":{\"colorbar\":{\"outlinewidth\":0,\"ticks\":\"\"}}}],\"scattercarpet\":[{\"type\":\"scattercarpet\",\"marker\":{\"colorbar\":{\"outlinewidth\":0,\"ticks\":\"\"}}}],\"carpet\":[{\"aaxis\":{\"endlinecolor\":\"#2a3f5f\",\"gridcolor\":\"white\",\"linecolor\":\"white\",\"minorgridcolor\":\"white\",\"startlinecolor\":\"#2a3f5f\"},\"baxis\":{\"endlinecolor\":\"#2a3f5f\",\"gridcolor\":\"white\",\"linecolor\":\"white\",\"minorgridcolor\":\"white\",\"startlinecolor\":\"#2a3f5f\"},\"type\":\"carpet\"}],\"table\":[{\"cells\":{\"fill\":{\"color\":\"#EBF0F8\"},\"line\":{\"color\":\"white\"}},\"header\":{\"fill\":{\"color\":\"#C8D4E3\"},\"line\":{\"color\":\"white\"}},\"type\":\"table\"}],\"barpolar\":[{\"marker\":{\"line\":{\"color\":\"#E5ECF6\",\"width\":0.5},\"pattern\":{\"fillmode\":\"overlay\",\"size\":10,\"solidity\":0.2}},\"type\":\"barpolar\"}],\"pie\":[{\"automargin\":true,\"type\":\"pie\"}]},\"layout\":{\"autotypenumbers\":\"strict\",\"colorway\":[\"#636efa\",\"#EF553B\",\"#00cc96\",\"#ab63fa\",\"#FFA15A\",\"#19d3f3\",\"#FF6692\",\"#B6E880\",\"#FF97FF\",\"#FECB52\"],\"font\":{\"color\":\"#2a3f5f\"},\"hovermode\":\"closest\",\"hoverlabel\":{\"align\":\"left\"},\"paper_bgcolor\":\"white\",\"plot_bgcolor\":\"#E5ECF6\",\"polar\":{\"bgcolor\":\"#E5ECF6\",\"angularaxis\":{\"gridcolor\":\"white\",\"linecolor\":\"white\",\"ticks\":\"\"},\"radialaxis\":{\"gridcolor\":\"white\",\"linecolor\":\"white\",\"ticks\":\"\"}},\"ternary\":{\"bgcolor\":\"#E5ECF6\",\"aaxis\":{\"gridcolor\":\"white\",\"linecolor\":\"white\",\"ticks\":\"\"},\"baxis\":{\"gridcolor\":\"white\",\"linecolor\":\"white\",\"ticks\":\"\"},\"caxis\":{\"gridcolor\":\"white\",\"linecolor\":\"white\",\"ticks\":\"\"}},\"coloraxis\":{\"colorbar\":{\"outlinewidth\":0,\"ticks\":\"\"}},\"colorscale\":{\"sequential\":[[0.0,\"#0d0887\"],[0.1111111111111111,\"#46039f\"],[0.2222222222222222,\"#7201a8\"],[0.3333333333333333,\"#9c179e\"],[0.4444444444444444,\"#bd3786\"],[0.5555555555555556,\"#d8576b\"],[0.6666666666666666,\"#ed7953\"],[0.7777777777777778,\"#fb9f3a\"],[0.8888888888888888,\"#fdca26\"],[1.0,\"#f0f921\"]],\"sequentialminus\":[[0.0,\"#0d0887\"],[0.1111111111111111,\"#46039f\"],[0.2222222222222222,\"#7201a8\"],[0.3333333333333333,\"#9c179e\"],[0.4444444444444444,\"#bd3786\"],[0.5555555555555556,\"#d8576b\"],[0.6666666666666666,\"#ed7953\"],[0.7777777777777778,\"#fb9f3a\"],[0.8888888888888888,\"#fdca26\"],[1.0,\"#f0f921\"]],\"diverging\":[[0,\"#8e0152\"],[0.1,\"#c51b7d\"],[0.2,\"#de77ae\"],[0.3,\"#f1b6da\"],[0.4,\"#fde0ef\"],[0.5,\"#f7f7f7\"],[0.6,\"#e6f5d0\"],[0.7,\"#b8e186\"],[0.8,\"#7fbc41\"],[0.9,\"#4d9221\"],[1,\"#276419\"]]},\"xaxis\":{\"gridcolor\":\"white\",\"linecolor\":\"white\",\"ticks\":\"\",\"title\":{\"standoff\":15},\"zerolinecolor\":\"white\",\"automargin\":true,\"zerolinewidth\":2},\"yaxis\":{\"gridcolor\":\"white\",\"linecolor\":\"white\",\"ticks\":\"\",\"title\":{\"standoff\":15},\"zerolinecolor\":\"white\",\"automargin\":true,\"zerolinewidth\":2},\"scene\":{\"xaxis\":{\"backgroundcolor\":\"#E5ECF6\",\"gridcolor\":\"white\",\"linecolor\":\"white\",\"showbackground\":true,\"ticks\":\"\",\"zerolinecolor\":\"white\",\"gridwidth\":2},\"yaxis\":{\"backgroundcolor\":\"#E5ECF6\",\"gridcolor\":\"white\",\"linecolor\":\"white\",\"showbackground\":true,\"ticks\":\"\",\"zerolinecolor\":\"white\",\"gridwidth\":2},\"zaxis\":{\"backgroundcolor\":\"#E5ECF6\",\"gridcolor\":\"white\",\"linecolor\":\"white\",\"showbackground\":true,\"ticks\":\"\",\"zerolinecolor\":\"white\",\"gridwidth\":2}},\"shapedefaults\":{\"line\":{\"color\":\"#2a3f5f\"}},\"annotationdefaults\":{\"arrowcolor\":\"#2a3f5f\",\"arrowhead\":0,\"arrowwidth\":1},\"geo\":{\"bgcolor\":\"white\",\"landcolor\":\"#E5ECF6\",\"subunitcolor\":\"white\",\"showland\":true,\"showlakes\":true,\"lakecolor\":\"white\"},\"title\":{\"x\":0.05},\"mapbox\":{\"style\":\"light\"}}},\"xaxis\":{\"anchor\":\"y\",\"domain\":[0.0,1.0],\"title\":{\"text\":\"Price\"}},\"yaxis\":{\"anchor\":\"x\",\"domain\":[0.0,1.0],\"title\":{\"text\":\"User Rating\"}},\"legend\":{\"tracegroupgap\":0,\"itemsizing\":\"constant\"},\"title\":{\"text\":\"Price vs Reviews\"},\"height\":600},                        {\"responsive\": true}                    ).then(function(){\n",
       "                            \n",
       "var gd = document.getElementById('94d6aef4-f2ba-43b2-96f0-3a3893df6f88');\n",
       "var x = new MutationObserver(function (mutations, observer) {{\n",
       "        var display = window.getComputedStyle(gd).display;\n",
       "        if (!display || display === 'none') {{\n",
       "            console.log([gd, 'removed!']);\n",
       "            Plotly.purge(gd);\n",
       "            observer.disconnect();\n",
       "        }}\n",
       "}});\n",
       "\n",
       "// Listen for the removal of the full notebook cells\n",
       "var notebookContainer = gd.closest('#notebook-container');\n",
       "if (notebookContainer) {{\n",
       "    x.observe(notebookContainer, {childList: true});\n",
       "}}\n",
       "\n",
       "// Listen for the clearing of the current output cell\n",
       "var outputEl = gd.closest('.output');\n",
       "if (outputEl) {{\n",
       "    x.observe(outputEl, {childList: true});\n",
       "}}\n",
       "\n",
       "                        })                };                });            </script>        </div>"
      ]
     },
     "metadata": {},
     "output_type": "display_data"
    }
   ],
   "source": [
    "fig = px.scatter(df_1, x = 'Price', y = 'User Rating', size = 'Reviews', title = 'Price vs Reviews', height = 600)\n",
    "fig.update_traces(marker = dict(color = '#9932CC'), opacity = 0.9)"
   ]
  },
  {
   "cell_type": "markdown",
   "metadata": {
    "cell_id": "16e62956d95745bf9c3189728658f6ef",
    "deepnote_cell_type": "text-cell-p",
    "formattedRanges": [
     {
      "fromCodePoint": 346,
      "marks": {
       "bold": true
      },
      "toCodePoint": 440,
      "type": "marks"
     }
    ]
   },
   "source": [
    "We can see on the graph above that Amazon bestselling books in the price range up to 30 dollars seem to get more reviews compared to the more expensive ones. But it doesn't mean that cheaper books have better reviews. The higher volume of reviews for \"under 30\" category may indicate the higher number of purchases, which can consequently lead to **the hypothesis that people tend to buy cheaper books on Amazon rather than more expensive ones.** "
   ]
  },
  {
   "cell_type": "markdown",
   "metadata": {
    "cell_id": "162d23b2bc7a411b8480502014d6015c",
    "deepnote_app_block_visible": false,
    "deepnote_cell_type": "text-cell-h3",
    "formattedRanges": [],
    "is_collapsed": false
   },
   "source": [
    "#### Metrics Summary"
   ]
  },
  {
   "cell_type": "markdown",
   "metadata": {
    "cell_id": "8d773b2a74b0410bb47f8fe6ce0cec7a",
    "deepnote_cell_type": "text-cell-p",
    "formattedRanges": []
   },
   "source": [
    "Now, let's take all 4 parameters (Genre, Price, Reviews and User Rating) and create a graph that allows us to see the full picture. "
   ]
  },
  {
   "cell_type": "code",
   "execution_count": 93,
   "metadata": {
    "cell_id": "7a06ca9cafdc4cc297c6af31714cb6d8",
    "deepnote_cell_type": "code",
    "deepnote_to_be_reexecuted": false,
    "execution_millis": 214,
    "execution_start": 1718026992220,
    "source_hash": "da8f7df1"
   },
   "outputs": [
    {
     "name": "stdout",
     "output_type": "stream",
     "text": [
      "         Genre      Price  User Rating  Reviews Reviews_mil\n",
      "0      Fiction  10.663462     4.664103  7498641       7.50M\n",
      "1  Non Fiction  14.337629     4.620361  5979996       5.98M\n"
     ]
    },
    {
     "data": {
      "application/vnd.plotly.v1+json": {
       "config": {
        "plotlyServerURL": "https://plot.ly"
       },
       "data": [
        {
         "hovertemplate": "Genre=Fiction<br>Price=%{x}<br>User Rating=%{y}<br>Reviews=%{marker.size}<br>Reviews_mil=%{text}<extra></extra>",
         "legendgroup": "Fiction",
         "marker": {
          "color": "#9932CC",
          "opacity": 0.8,
          "size": [
           7498641
          ],
          "sizemode": "area",
          "sizeref": 1171.66265625,
          "symbol": "circle"
         },
         "mode": "markers+text",
         "name": "Fiction",
         "orientation": "v",
         "showlegend": true,
         "text": [
          "7.50M"
         ],
         "textposition": "middle center",
         "type": "scatter",
         "x": [
          10.663461538461538
         ],
         "xaxis": "x",
         "y": [
          4.664102564102564
         ],
         "yaxis": "y"
        },
        {
         "hovertemplate": "Genre=Non Fiction<br>Price=%{x}<br>User Rating=%{y}<br>Reviews=%{marker.size}<br>Reviews_mil=%{text}<extra></extra>",
         "legendgroup": "Non Fiction",
         "marker": {
          "color": "#DA70D6",
          "opacity": 0.8,
          "size": [
           5979996
          ],
          "sizemode": "area",
          "sizeref": 1171.66265625,
          "symbol": "circle"
         },
         "mode": "markers+text",
         "name": "Non Fiction",
         "orientation": "v",
         "showlegend": true,
         "text": [
          "5.98M"
         ],
         "textposition": "middle center",
         "type": "scatter",
         "x": [
          14.337628865979381
         ],
         "xaxis": "x",
         "y": [
          4.620360824742268
         ],
         "yaxis": "y"
        }
       ],
       "layout": {
        "autosize": true,
        "legend": {
         "itemsizing": "constant",
         "title": {
          "text": "Genre"
         },
         "tracegroupgap": 0
        },
        "showlegend": true,
        "template": {
         "data": {
          "bar": [
           {
            "error_x": {
             "color": "#2a3f5f"
            },
            "error_y": {
             "color": "#2a3f5f"
            },
            "marker": {
             "line": {
              "color": "#E5ECF6",
              "width": 0.5
             },
             "pattern": {
              "fillmode": "overlay",
              "size": 10,
              "solidity": 0.2
             }
            },
            "type": "bar"
           }
          ],
          "barpolar": [
           {
            "marker": {
             "line": {
              "color": "#E5ECF6",
              "width": 0.5
             },
             "pattern": {
              "fillmode": "overlay",
              "size": 10,
              "solidity": 0.2
             }
            },
            "type": "barpolar"
           }
          ],
          "carpet": [
           {
            "aaxis": {
             "endlinecolor": "#2a3f5f",
             "gridcolor": "white",
             "linecolor": "white",
             "minorgridcolor": "white",
             "startlinecolor": "#2a3f5f"
            },
            "baxis": {
             "endlinecolor": "#2a3f5f",
             "gridcolor": "white",
             "linecolor": "white",
             "minorgridcolor": "white",
             "startlinecolor": "#2a3f5f"
            },
            "type": "carpet"
           }
          ],
          "choropleth": [
           {
            "colorbar": {
             "outlinewidth": 0,
             "ticks": ""
            },
            "type": "choropleth"
           }
          ],
          "contour": [
           {
            "colorbar": {
             "outlinewidth": 0,
             "ticks": ""
            },
            "colorscale": [
             [
              0,
              "#0d0887"
             ],
             [
              0.1111111111111111,
              "#46039f"
             ],
             [
              0.2222222222222222,
              "#7201a8"
             ],
             [
              0.3333333333333333,
              "#9c179e"
             ],
             [
              0.4444444444444444,
              "#bd3786"
             ],
             [
              0.5555555555555556,
              "#d8576b"
             ],
             [
              0.6666666666666666,
              "#ed7953"
             ],
             [
              0.7777777777777778,
              "#fb9f3a"
             ],
             [
              0.8888888888888888,
              "#fdca26"
             ],
             [
              1,
              "#f0f921"
             ]
            ],
            "type": "contour"
           }
          ],
          "contourcarpet": [
           {
            "colorbar": {
             "outlinewidth": 0,
             "ticks": ""
            },
            "type": "contourcarpet"
           }
          ],
          "heatmap": [
           {
            "colorbar": {
             "outlinewidth": 0,
             "ticks": ""
            },
            "colorscale": [
             [
              0,
              "#0d0887"
             ],
             [
              0.1111111111111111,
              "#46039f"
             ],
             [
              0.2222222222222222,
              "#7201a8"
             ],
             [
              0.3333333333333333,
              "#9c179e"
             ],
             [
              0.4444444444444444,
              "#bd3786"
             ],
             [
              0.5555555555555556,
              "#d8576b"
             ],
             [
              0.6666666666666666,
              "#ed7953"
             ],
             [
              0.7777777777777778,
              "#fb9f3a"
             ],
             [
              0.8888888888888888,
              "#fdca26"
             ],
             [
              1,
              "#f0f921"
             ]
            ],
            "type": "heatmap"
           }
          ],
          "heatmapgl": [
           {
            "colorbar": {
             "outlinewidth": 0,
             "ticks": ""
            },
            "colorscale": [
             [
              0,
              "#0d0887"
             ],
             [
              0.1111111111111111,
              "#46039f"
             ],
             [
              0.2222222222222222,
              "#7201a8"
             ],
             [
              0.3333333333333333,
              "#9c179e"
             ],
             [
              0.4444444444444444,
              "#bd3786"
             ],
             [
              0.5555555555555556,
              "#d8576b"
             ],
             [
              0.6666666666666666,
              "#ed7953"
             ],
             [
              0.7777777777777778,
              "#fb9f3a"
             ],
             [
              0.8888888888888888,
              "#fdca26"
             ],
             [
              1,
              "#f0f921"
             ]
            ],
            "type": "heatmapgl"
           }
          ],
          "histogram": [
           {
            "marker": {
             "pattern": {
              "fillmode": "overlay",
              "size": 10,
              "solidity": 0.2
             }
            },
            "type": "histogram"
           }
          ],
          "histogram2d": [
           {
            "colorbar": {
             "outlinewidth": 0,
             "ticks": ""
            },
            "colorscale": [
             [
              0,
              "#0d0887"
             ],
             [
              0.1111111111111111,
              "#46039f"
             ],
             [
              0.2222222222222222,
              "#7201a8"
             ],
             [
              0.3333333333333333,
              "#9c179e"
             ],
             [
              0.4444444444444444,
              "#bd3786"
             ],
             [
              0.5555555555555556,
              "#d8576b"
             ],
             [
              0.6666666666666666,
              "#ed7953"
             ],
             [
              0.7777777777777778,
              "#fb9f3a"
             ],
             [
              0.8888888888888888,
              "#fdca26"
             ],
             [
              1,
              "#f0f921"
             ]
            ],
            "type": "histogram2d"
           }
          ],
          "histogram2dcontour": [
           {
            "colorbar": {
             "outlinewidth": 0,
             "ticks": ""
            },
            "colorscale": [
             [
              0,
              "#0d0887"
             ],
             [
              0.1111111111111111,
              "#46039f"
             ],
             [
              0.2222222222222222,
              "#7201a8"
             ],
             [
              0.3333333333333333,
              "#9c179e"
             ],
             [
              0.4444444444444444,
              "#bd3786"
             ],
             [
              0.5555555555555556,
              "#d8576b"
             ],
             [
              0.6666666666666666,
              "#ed7953"
             ],
             [
              0.7777777777777778,
              "#fb9f3a"
             ],
             [
              0.8888888888888888,
              "#fdca26"
             ],
             [
              1,
              "#f0f921"
             ]
            ],
            "type": "histogram2dcontour"
           }
          ],
          "mesh3d": [
           {
            "colorbar": {
             "outlinewidth": 0,
             "ticks": ""
            },
            "type": "mesh3d"
           }
          ],
          "parcoords": [
           {
            "line": {
             "colorbar": {
              "outlinewidth": 0,
              "ticks": ""
             }
            },
            "type": "parcoords"
           }
          ],
          "pie": [
           {
            "automargin": true,
            "type": "pie"
           }
          ],
          "scatter": [
           {
            "fillpattern": {
             "fillmode": "overlay",
             "size": 10,
             "solidity": 0.2
            },
            "type": "scatter"
           }
          ],
          "scatter3d": [
           {
            "line": {
             "colorbar": {
              "outlinewidth": 0,
              "ticks": ""
             }
            },
            "marker": {
             "colorbar": {
              "outlinewidth": 0,
              "ticks": ""
             }
            },
            "type": "scatter3d"
           }
          ],
          "scattercarpet": [
           {
            "marker": {
             "colorbar": {
              "outlinewidth": 0,
              "ticks": ""
             }
            },
            "type": "scattercarpet"
           }
          ],
          "scattergeo": [
           {
            "marker": {
             "colorbar": {
              "outlinewidth": 0,
              "ticks": ""
             }
            },
            "type": "scattergeo"
           }
          ],
          "scattergl": [
           {
            "marker": {
             "colorbar": {
              "outlinewidth": 0,
              "ticks": ""
             }
            },
            "type": "scattergl"
           }
          ],
          "scattermapbox": [
           {
            "marker": {
             "colorbar": {
              "outlinewidth": 0,
              "ticks": ""
             }
            },
            "type": "scattermapbox"
           }
          ],
          "scatterpolar": [
           {
            "marker": {
             "colorbar": {
              "outlinewidth": 0,
              "ticks": ""
             }
            },
            "type": "scatterpolar"
           }
          ],
          "scatterpolargl": [
           {
            "marker": {
             "colorbar": {
              "outlinewidth": 0,
              "ticks": ""
             }
            },
            "type": "scatterpolargl"
           }
          ],
          "scatterternary": [
           {
            "marker": {
             "colorbar": {
              "outlinewidth": 0,
              "ticks": ""
             }
            },
            "type": "scatterternary"
           }
          ],
          "surface": [
           {
            "colorbar": {
             "outlinewidth": 0,
             "ticks": ""
            },
            "colorscale": [
             [
              0,
              "#0d0887"
             ],
             [
              0.1111111111111111,
              "#46039f"
             ],
             [
              0.2222222222222222,
              "#7201a8"
             ],
             [
              0.3333333333333333,
              "#9c179e"
             ],
             [
              0.4444444444444444,
              "#bd3786"
             ],
             [
              0.5555555555555556,
              "#d8576b"
             ],
             [
              0.6666666666666666,
              "#ed7953"
             ],
             [
              0.7777777777777778,
              "#fb9f3a"
             ],
             [
              0.8888888888888888,
              "#fdca26"
             ],
             [
              1,
              "#f0f921"
             ]
            ],
            "type": "surface"
           }
          ],
          "table": [
           {
            "cells": {
             "fill": {
              "color": "#EBF0F8"
             },
             "line": {
              "color": "white"
             }
            },
            "header": {
             "fill": {
              "color": "#C8D4E3"
             },
             "line": {
              "color": "white"
             }
            },
            "type": "table"
           }
          ]
         },
         "layout": {
          "annotationdefaults": {
           "arrowcolor": "#2a3f5f",
           "arrowhead": 0,
           "arrowwidth": 1
          },
          "autotypenumbers": "strict",
          "coloraxis": {
           "colorbar": {
            "outlinewidth": 0,
            "ticks": ""
           }
          },
          "colorscale": {
           "diverging": [
            [
             0,
             "#8e0152"
            ],
            [
             0.1,
             "#c51b7d"
            ],
            [
             0.2,
             "#de77ae"
            ],
            [
             0.3,
             "#f1b6da"
            ],
            [
             0.4,
             "#fde0ef"
            ],
            [
             0.5,
             "#f7f7f7"
            ],
            [
             0.6,
             "#e6f5d0"
            ],
            [
             0.7,
             "#b8e186"
            ],
            [
             0.8,
             "#7fbc41"
            ],
            [
             0.9,
             "#4d9221"
            ],
            [
             1,
             "#276419"
            ]
           ],
           "sequential": [
            [
             0,
             "#0d0887"
            ],
            [
             0.1111111111111111,
             "#46039f"
            ],
            [
             0.2222222222222222,
             "#7201a8"
            ],
            [
             0.3333333333333333,
             "#9c179e"
            ],
            [
             0.4444444444444444,
             "#bd3786"
            ],
            [
             0.5555555555555556,
             "#d8576b"
            ],
            [
             0.6666666666666666,
             "#ed7953"
            ],
            [
             0.7777777777777778,
             "#fb9f3a"
            ],
            [
             0.8888888888888888,
             "#fdca26"
            ],
            [
             1,
             "#f0f921"
            ]
           ],
           "sequentialminus": [
            [
             0,
             "#0d0887"
            ],
            [
             0.1111111111111111,
             "#46039f"
            ],
            [
             0.2222222222222222,
             "#7201a8"
            ],
            [
             0.3333333333333333,
             "#9c179e"
            ],
            [
             0.4444444444444444,
             "#bd3786"
            ],
            [
             0.5555555555555556,
             "#d8576b"
            ],
            [
             0.6666666666666666,
             "#ed7953"
            ],
            [
             0.7777777777777778,
             "#fb9f3a"
            ],
            [
             0.8888888888888888,
             "#fdca26"
            ],
            [
             1,
             "#f0f921"
            ]
           ]
          },
          "colorway": [
           "#636efa",
           "#EF553B",
           "#00cc96",
           "#ab63fa",
           "#FFA15A",
           "#19d3f3",
           "#FF6692",
           "#B6E880",
           "#FF97FF",
           "#FECB52"
          ],
          "font": {
           "color": "#2a3f5f"
          },
          "geo": {
           "bgcolor": "white",
           "lakecolor": "white",
           "landcolor": "#E5ECF6",
           "showlakes": true,
           "showland": true,
           "subunitcolor": "white"
          },
          "hoverlabel": {
           "align": "left"
          },
          "hovermode": "closest",
          "mapbox": {
           "style": "light"
          },
          "paper_bgcolor": "white",
          "plot_bgcolor": "#E5ECF6",
          "polar": {
           "angularaxis": {
            "gridcolor": "white",
            "linecolor": "white",
            "ticks": ""
           },
           "bgcolor": "#E5ECF6",
           "radialaxis": {
            "gridcolor": "white",
            "linecolor": "white",
            "ticks": ""
           }
          },
          "scene": {
           "xaxis": {
            "backgroundcolor": "#E5ECF6",
            "gridcolor": "white",
            "gridwidth": 2,
            "linecolor": "white",
            "showbackground": true,
            "ticks": "",
            "zerolinecolor": "white"
           },
           "yaxis": {
            "backgroundcolor": "#E5ECF6",
            "gridcolor": "white",
            "gridwidth": 2,
            "linecolor": "white",
            "showbackground": true,
            "ticks": "",
            "zerolinecolor": "white"
           },
           "zaxis": {
            "backgroundcolor": "#E5ECF6",
            "gridcolor": "white",
            "gridwidth": 2,
            "linecolor": "white",
            "showbackground": true,
            "ticks": "",
            "zerolinecolor": "white"
           }
          },
          "shapedefaults": {
           "line": {
            "color": "#2a3f5f"
           }
          },
          "ternary": {
           "aaxis": {
            "gridcolor": "white",
            "linecolor": "white",
            "ticks": ""
           },
           "baxis": {
            "gridcolor": "white",
            "linecolor": "white",
            "ticks": ""
           },
           "bgcolor": "#E5ECF6",
           "caxis": {
            "gridcolor": "white",
            "linecolor": "white",
            "ticks": ""
           }
          },
          "title": {
           "x": 0.05
          },
          "xaxis": {
           "automargin": true,
           "gridcolor": "white",
           "linecolor": "white",
           "ticks": "",
           "title": {
            "standoff": 15
           },
           "zerolinecolor": "white",
           "zerolinewidth": 2
          },
          "yaxis": {
           "automargin": true,
           "gridcolor": "white",
           "linecolor": "white",
           "ticks": "",
           "title": {
            "standoff": 15
           },
           "zerolinecolor": "white",
           "zerolinewidth": 2
          }
         }
        },
        "title": {
         "text": "Average Price, Average Rating and Sum of Review by Genre"
        },
        "xaxis": {
         "anchor": "y",
         "autorange": true,
         "domain": [
          0,
          1
         ],
         "range": [
          10.07630975252917,
          14.887701850810071
         ],
         "title": {
          "text": "Price"
         },
         "type": "linear"
        },
        "yaxis": {
         "anchor": "x",
         "autorange": true,
         "domain": [
          0,
          1
         ],
         "range": [
          4.534942563443034,
          4.758415401853771
         ],
         "title": {
          "text": "User Rating"
         },
         "type": "linear"
        }
       }
      },
      "image/png": "[encoded data removed]",
      "text/html": [
       "<div>                            <div id=\"781bd714-af2c-4e6e-9799-091cf4f1258e\" class=\"plotly-graph-div\" style=\"height:350px; width:100%;\"></div>            <script type=\"text/javascript\">                require([\"plotly\"], function(Plotly) {                    window.PLOTLYENV=window.PLOTLYENV || {};                                    if (document.getElementById(\"781bd714-af2c-4e6e-9799-091cf4f1258e\")) {                    Plotly.newPlot(                        \"781bd714-af2c-4e6e-9799-091cf4f1258e\",                        [{\"hovertemplate\":\"Genre=Fiction\\u003cbr\\u003ePrice=%{x}\\u003cbr\\u003eUser Rating=%{y}\\u003cbr\\u003eReviews=%{marker.size}\\u003cbr\\u003eReviews_mil=%{text}\\u003cextra\\u003e\\u003c\\u002fextra\\u003e\",\"legendgroup\":\"Fiction\",\"marker\":{\"color\":\"#9932CC\",\"opacity\":0.8,\"size\":[7498641],\"sizemode\":\"area\",\"sizeref\":1171.66265625,\"symbol\":\"circle\"},\"mode\":\"markers+text\",\"name\":\"Fiction\",\"orientation\":\"v\",\"showlegend\":true,\"text\":[\"7.50M\"],\"x\":[10.663461538461538],\"xaxis\":\"x\",\"y\":[4.664102564102564],\"yaxis\":\"y\",\"type\":\"scatter\",\"textposition\":\"middle center\"},{\"hovertemplate\":\"Genre=Non Fiction\\u003cbr\\u003ePrice=%{x}\\u003cbr\\u003eUser Rating=%{y}\\u003cbr\\u003eReviews=%{marker.size}\\u003cbr\\u003eReviews_mil=%{text}\\u003cextra\\u003e\\u003c\\u002fextra\\u003e\",\"legendgroup\":\"Non Fiction\",\"marker\":{\"color\":\"#DA70D6\",\"opacity\":0.8,\"size\":[5979996],\"sizemode\":\"area\",\"sizeref\":1171.66265625,\"symbol\":\"circle\"},\"mode\":\"markers+text\",\"name\":\"Non Fiction\",\"orientation\":\"v\",\"showlegend\":true,\"text\":[\"5.98M\"],\"x\":[14.337628865979381],\"xaxis\":\"x\",\"y\":[4.620360824742268],\"yaxis\":\"y\",\"type\":\"scatter\",\"textposition\":\"middle center\"}],                        {\"template\":{\"data\":{\"histogram2dcontour\":[{\"type\":\"histogram2dcontour\",\"colorbar\":{\"outlinewidth\":0,\"ticks\":\"\"},\"colorscale\":[[0.0,\"#0d0887\"],[0.1111111111111111,\"#46039f\"],[0.2222222222222222,\"#7201a8\"],[0.3333333333333333,\"#9c179e\"],[0.4444444444444444,\"#bd3786\"],[0.5555555555555556,\"#d8576b\"],[0.6666666666666666,\"#ed7953\"],[0.7777777777777778,\"#fb9f3a\"],[0.8888888888888888,\"#fdca26\"],[1.0,\"#f0f921\"]]}],\"choropleth\":[{\"type\":\"choropleth\",\"colorbar\":{\"outlinewidth\":0,\"ticks\":\"\"}}],\"histogram2d\":[{\"type\":\"histogram2d\",\"colorbar\":{\"outlinewidth\":0,\"ticks\":\"\"},\"colorscale\":[[0.0,\"#0d0887\"],[0.1111111111111111,\"#46039f\"],[0.2222222222222222,\"#7201a8\"],[0.3333333333333333,\"#9c179e\"],[0.4444444444444444,\"#bd3786\"],[0.5555555555555556,\"#d8576b\"],[0.6666666666666666,\"#ed7953\"],[0.7777777777777778,\"#fb9f3a\"],[0.8888888888888888,\"#fdca26\"],[1.0,\"#f0f921\"]]}],\"heatmap\":[{\"type\":\"heatmap\",\"colorbar\":{\"outlinewidth\":0,\"ticks\":\"\"},\"colorscale\":[[0.0,\"#0d0887\"],[0.1111111111111111,\"#46039f\"],[0.2222222222222222,\"#7201a8\"],[0.3333333333333333,\"#9c179e\"],[0.4444444444444444,\"#bd3786\"],[0.5555555555555556,\"#d8576b\"],[0.6666666666666666,\"#ed7953\"],[0.7777777777777778,\"#fb9f3a\"],[0.8888888888888888,\"#fdca26\"],[1.0,\"#f0f921\"]]}],\"heatmapgl\":[{\"type\":\"heatmapgl\",\"colorbar\":{\"outlinewidth\":0,\"ticks\":\"\"},\"colorscale\":[[0.0,\"#0d0887\"],[0.1111111111111111,\"#46039f\"],[0.2222222222222222,\"#7201a8\"],[0.3333333333333333,\"#9c179e\"],[0.4444444444444444,\"#bd3786\"],[0.5555555555555556,\"#d8576b\"],[0.6666666666666666,\"#ed7953\"],[0.7777777777777778,\"#fb9f3a\"],[0.8888888888888888,\"#fdca26\"],[1.0,\"#f0f921\"]]}],\"contourcarpet\":[{\"type\":\"contourcarpet\",\"colorbar\":{\"outlinewidth\":0,\"ticks\":\"\"}}],\"contour\":[{\"type\":\"contour\",\"colorbar\":{\"outlinewidth\":0,\"ticks\":\"\"},\"colorscale\":[[0.0,\"#0d0887\"],[0.1111111111111111,\"#46039f\"],[0.2222222222222222,\"#7201a8\"],[0.3333333333333333,\"#9c179e\"],[0.4444444444444444,\"#bd3786\"],[0.5555555555555556,\"#d8576b\"],[0.6666666666666666,\"#ed7953\"],[0.7777777777777778,\"#fb9f3a\"],[0.8888888888888888,\"#fdca26\"],[1.0,\"#f0f921\"]]}],\"surface\":[{\"type\":\"surface\",\"colorbar\":{\"outlinewidth\":0,\"ticks\":\"\"},\"colorscale\":[[0.0,\"#0d0887\"],[0.1111111111111111,\"#46039f\"],[0.2222222222222222,\"#7201a8\"],[0.3333333333333333,\"#9c179e\"],[0.4444444444444444,\"#bd3786\"],[0.5555555555555556,\"#d8576b\"],[0.6666666666666666,\"#ed7953\"],[0.7777777777777778,\"#fb9f3a\"],[0.8888888888888888,\"#fdca26\"],[1.0,\"#f0f921\"]]}],\"mesh3d\":[{\"type\":\"mesh3d\",\"colorbar\":{\"outlinewidth\":0,\"ticks\":\"\"}}],\"scatter\":[{\"fillpattern\":{\"fillmode\":\"overlay\",\"size\":10,\"solidity\":0.2},\"type\":\"scatter\"}],\"parcoords\":[{\"type\":\"parcoords\",\"line\":{\"colorbar\":{\"outlinewidth\":0,\"ticks\":\"\"}}}],\"scatterpolargl\":[{\"type\":\"scatterpolargl\",\"marker\":{\"colorbar\":{\"outlinewidth\":0,\"ticks\":\"\"}}}],\"bar\":[{\"error_x\":{\"color\":\"#2a3f5f\"},\"error_y\":{\"color\":\"#2a3f5f\"},\"marker\":{\"line\":{\"color\":\"#E5ECF6\",\"width\":0.5},\"pattern\":{\"fillmode\":\"overlay\",\"size\":10,\"solidity\":0.2}},\"type\":\"bar\"}],\"scattergeo\":[{\"type\":\"scattergeo\",\"marker\":{\"colorbar\":{\"outlinewidth\":0,\"ticks\":\"\"}}}],\"scatterpolar\":[{\"type\":\"scatterpolar\",\"marker\":{\"colorbar\":{\"outlinewidth\":0,\"ticks\":\"\"}}}],\"histogram\":[{\"marker\":{\"pattern\":{\"fillmode\":\"overlay\",\"size\":10,\"solidity\":0.2}},\"type\":\"histogram\"}],\"scattergl\":[{\"type\":\"scattergl\",\"marker\":{\"colorbar\":{\"outlinewidth\":0,\"ticks\":\"\"}}}],\"scatter3d\":[{\"type\":\"scatter3d\",\"line\":{\"colorbar\":{\"outlinewidth\":0,\"ticks\":\"\"}},\"marker\":{\"colorbar\":{\"outlinewidth\":0,\"ticks\":\"\"}}}],\"scattermapbox\":[{\"type\":\"scattermapbox\",\"marker\":{\"colorbar\":{\"outlinewidth\":0,\"ticks\":\"\"}}}],\"scatterternary\":[{\"type\":\"scatterternary\",\"marker\":{\"colorbar\":{\"outlinewidth\":0,\"ticks\":\"\"}}}],\"scattercarpet\":[{\"type\":\"scattercarpet\",\"marker\":{\"colorbar\":{\"outlinewidth\":0,\"ticks\":\"\"}}}],\"carpet\":[{\"aaxis\":{\"endlinecolor\":\"#2a3f5f\",\"gridcolor\":\"white\",\"linecolor\":\"white\",\"minorgridcolor\":\"white\",\"startlinecolor\":\"#2a3f5f\"},\"baxis\":{\"endlinecolor\":\"#2a3f5f\",\"gridcolor\":\"white\",\"linecolor\":\"white\",\"minorgridcolor\":\"white\",\"startlinecolor\":\"#2a3f5f\"},\"type\":\"carpet\"}],\"table\":[{\"cells\":{\"fill\":{\"color\":\"#EBF0F8\"},\"line\":{\"color\":\"white\"}},\"header\":{\"fill\":{\"color\":\"#C8D4E3\"},\"line\":{\"color\":\"white\"}},\"type\":\"table\"}],\"barpolar\":[{\"marker\":{\"line\":{\"color\":\"#E5ECF6\",\"width\":0.5},\"pattern\":{\"fillmode\":\"overlay\",\"size\":10,\"solidity\":0.2}},\"type\":\"barpolar\"}],\"pie\":[{\"automargin\":true,\"type\":\"pie\"}]},\"layout\":{\"autotypenumbers\":\"strict\",\"colorway\":[\"#636efa\",\"#EF553B\",\"#00cc96\",\"#ab63fa\",\"#FFA15A\",\"#19d3f3\",\"#FF6692\",\"#B6E880\",\"#FF97FF\",\"#FECB52\"],\"font\":{\"color\":\"#2a3f5f\"},\"hovermode\":\"closest\",\"hoverlabel\":{\"align\":\"left\"},\"paper_bgcolor\":\"white\",\"plot_bgcolor\":\"#E5ECF6\",\"polar\":{\"bgcolor\":\"#E5ECF6\",\"angularaxis\":{\"gridcolor\":\"white\",\"linecolor\":\"white\",\"ticks\":\"\"},\"radialaxis\":{\"gridcolor\":\"white\",\"linecolor\":\"white\",\"ticks\":\"\"}},\"ternary\":{\"bgcolor\":\"#E5ECF6\",\"aaxis\":{\"gridcolor\":\"white\",\"linecolor\":\"white\",\"ticks\":\"\"},\"baxis\":{\"gridcolor\":\"white\",\"linecolor\":\"white\",\"ticks\":\"\"},\"caxis\":{\"gridcolor\":\"white\",\"linecolor\":\"white\",\"ticks\":\"\"}},\"coloraxis\":{\"colorbar\":{\"outlinewidth\":0,\"ticks\":\"\"}},\"colorscale\":{\"sequential\":[[0.0,\"#0d0887\"],[0.1111111111111111,\"#46039f\"],[0.2222222222222222,\"#7201a8\"],[0.3333333333333333,\"#9c179e\"],[0.4444444444444444,\"#bd3786\"],[0.5555555555555556,\"#d8576b\"],[0.6666666666666666,\"#ed7953\"],[0.7777777777777778,\"#fb9f3a\"],[0.8888888888888888,\"#fdca26\"],[1.0,\"#f0f921\"]],\"sequentialminus\":[[0.0,\"#0d0887\"],[0.1111111111111111,\"#46039f\"],[0.2222222222222222,\"#7201a8\"],[0.3333333333333333,\"#9c179e\"],[0.4444444444444444,\"#bd3786\"],[0.5555555555555556,\"#d8576b\"],[0.6666666666666666,\"#ed7953\"],[0.7777777777777778,\"#fb9f3a\"],[0.8888888888888888,\"#fdca26\"],[1.0,\"#f0f921\"]],\"diverging\":[[0,\"#8e0152\"],[0.1,\"#c51b7d\"],[0.2,\"#de77ae\"],[0.3,\"#f1b6da\"],[0.4,\"#fde0ef\"],[0.5,\"#f7f7f7\"],[0.6,\"#e6f5d0\"],[0.7,\"#b8e186\"],[0.8,\"#7fbc41\"],[0.9,\"#4d9221\"],[1,\"#276419\"]]},\"xaxis\":{\"gridcolor\":\"white\",\"linecolor\":\"white\",\"ticks\":\"\",\"title\":{\"standoff\":15},\"zerolinecolor\":\"white\",\"automargin\":true,\"zerolinewidth\":2},\"yaxis\":{\"gridcolor\":\"white\",\"linecolor\":\"white\",\"ticks\":\"\",\"title\":{\"standoff\":15},\"zerolinecolor\":\"white\",\"automargin\":true,\"zerolinewidth\":2},\"scene\":{\"xaxis\":{\"backgroundcolor\":\"#E5ECF6\",\"gridcolor\":\"white\",\"linecolor\":\"white\",\"showbackground\":true,\"ticks\":\"\",\"zerolinecolor\":\"white\",\"gridwidth\":2},\"yaxis\":{\"backgroundcolor\":\"#E5ECF6\",\"gridcolor\":\"white\",\"linecolor\":\"white\",\"showbackground\":true,\"ticks\":\"\",\"zerolinecolor\":\"white\",\"gridwidth\":2},\"zaxis\":{\"backgroundcolor\":\"#E5ECF6\",\"gridcolor\":\"white\",\"linecolor\":\"white\",\"showbackground\":true,\"ticks\":\"\",\"zerolinecolor\":\"white\",\"gridwidth\":2}},\"shapedefaults\":{\"line\":{\"color\":\"#2a3f5f\"}},\"annotationdefaults\":{\"arrowcolor\":\"#2a3f5f\",\"arrowhead\":0,\"arrowwidth\":1},\"geo\":{\"bgcolor\":\"white\",\"landcolor\":\"#E5ECF6\",\"subunitcolor\":\"white\",\"showland\":true,\"showlakes\":true,\"lakecolor\":\"white\"},\"title\":{\"x\":0.05},\"mapbox\":{\"style\":\"light\"}}},\"xaxis\":{\"anchor\":\"y\",\"domain\":[0.0,1.0],\"title\":{\"text\":\"Price\"}},\"yaxis\":{\"anchor\":\"x\",\"domain\":[0.0,1.0],\"title\":{\"text\":\"User Rating\"}},\"legend\":{\"title\":{\"text\":\"Genre\"},\"tracegroupgap\":0,\"itemsizing\":\"constant\"},\"title\":{\"text\":\"Average Price, Average Rating and Sum of Review by Genre\"},\"height\":350,\"showlegend\":true},                        {\"responsive\": true}                    ).then(function(){\n",
       "                            \n",
       "var gd = document.getElementById('781bd714-af2c-4e6e-9799-091cf4f1258e');\n",
       "var x = new MutationObserver(function (mutations, observer) {{\n",
       "        var display = window.getComputedStyle(gd).display;\n",
       "        if (!display || display === 'none') {{\n",
       "            console.log([gd, 'removed!']);\n",
       "            Plotly.purge(gd);\n",
       "            observer.disconnect();\n",
       "        }}\n",
       "}});\n",
       "\n",
       "// Listen for the removal of the full notebook cells\n",
       "var notebookContainer = gd.closest('#notebook-container');\n",
       "if (notebookContainer) {{\n",
       "    x.observe(notebookContainer, {childList: true});\n",
       "}}\n",
       "\n",
       "// Listen for the clearing of the current output cell\n",
       "var outputEl = gd.closest('.output');\n",
       "if (outputEl) {{\n",
       "    x.observe(outputEl, {childList: true});\n",
       "}}\n",
       "\n",
       "                        })                };                });            </script>        </div>"
      ]
     },
     "metadata": {},
     "output_type": "display_data"
    }
   ],
   "source": [
    "# Average price & rating grouped by genre\n",
    "average_df = df_1.groupby('Genre').agg({\n",
    "    'Price': 'mean',\n",
    "    'User Rating': 'mean',\n",
    "    'Reviews': 'sum'\n",
    "}).reset_index()\n",
    "\n",
    "# Custom formatting for labels\n",
    "average_df['Reviews_mil'] = (average_df['Reviews'] / 1e6).map(lambda x: f'{x:.2f}M')\n",
    "\n",
    "print(average_df)\n",
    "\n",
    "# Custom colors\n",
    "colors = {'Fiction':'#9932CC', 'Non Fiction':'#DA70D6'}\n",
    "\n",
    "# Scatter plot\n",
    "fig = px.scatter(average_df, \n",
    "                x = 'Price', \n",
    "                y = 'User Rating', \n",
    "                height = 350, \n",
    "                color = 'Genre',\n",
    "                text = 'Reviews_mil',\n",
    "                opacity = 0.8,\n",
    "                size = 'Reviews', \n",
    "                size_max = 80,\n",
    "                title = 'Average Price, Average Rating and Sum of Review by Genre',\n",
    "                color_discrete_map = colors\n",
    "                )\n",
    "\n",
    "fig.update_traces(textposition = 'middle center')\n",
    "fig.layout.update(showlegend = True)\n",
    "\n",
    "fig.show()"
   ]
  },
  {
   "cell_type": "markdown",
   "metadata": {
    "cell_id": "f6c3a8b47c4644ef99ce601b1ab6203f",
    "deepnote_cell_type": "text-cell-p",
    "formattedRanges": [
     {
      "fromCodePoint": 51,
      "marks": {
       "bold": true
      },
      "toCodePoint": 64,
      "type": "marks"
     }
    ]
   },
   "source": [
    "By looking at the plot above, we can conclude that **Fiction books**"
   ]
  },
  {
   "cell_type": "markdown",
   "metadata": {
    "cell_id": "b1c5917d3db74579ac2e528b85f91a99",
    "deepnote_cell_type": "text-cell-bullet",
    "formattedRanges": []
   },
   "source": [
    "- have slightly higher User Rating"
   ]
  },
  {
   "cell_type": "markdown",
   "metadata": {
    "cell_id": "351fe3939214460482ae55b655dccb55",
    "deepnote_cell_type": "text-cell-bullet",
    "formattedRanges": []
   },
   "source": [
    "- are cheaper"
   ]
  },
  {
   "cell_type": "markdown",
   "metadata": {
    "cell_id": "cf886ef68d8c465c8f731e0848417b25",
    "deepnote_cell_type": "text-cell-bullet",
    "formattedRanges": []
   },
   "source": [
    "- have more Reviews on Amazon"
   ]
  },
  {
   "cell_type": "markdown",
   "metadata": {
    "cell_id": "674cb65ee6a740e2b9a326f49936f84e",
    "deepnote_app_block_visible": false,
    "deepnote_cell_type": "text-cell-h3",
    "formattedRanges": [],
    "is_collapsed": false
   },
   "source": [
    "#### Book title length"
   ]
  },
  {
   "cell_type": "markdown",
   "metadata": {
    "cell_id": "95173376e4c343c3bbef731074a5d7a7",
    "deepnote_cell_type": "text-cell-p",
    "formattedRanges": []
   },
   "source": [
    "A title plays a very important role and can \"make it or break it\" for the author and/or publisher. Let us find out what is the average length of a book title in our dataset."
   ]
  },
  {
   "cell_type": "code",
   "execution_count": 94,
   "metadata": {
    "cell_id": "3e0b0492c3854a42a7cfdbb6cf9a0c06",
    "deepnote_cell_type": "code",
    "deepnote_to_be_reexecuted": false,
    "execution_millis": 339,
    "execution_start": 1718026992316,
    "source_hash": "4362a3f8"
   },
   "outputs": [
    {
     "name": "stdout",
     "output_type": "stream",
     "text": [
      "The average length of a book title is 8.3 words.\n"
     ]
    }
   ],
   "source": [
    "# Count the number of words in a title\n",
    "def count_words(name):\n",
    "    return len(name.split())\n",
    "\n",
    "df_1['title_length'] = df_1['Name'].apply(count_words)\n",
    "\n",
    "# Calculate the average length\n",
    "average_length = df_1['title_length'].mean()\n",
    "\n",
    "print(f\"The average length of a book title is {average_length:.1f} words.\")"
   ]
  },
  {
   "cell_type": "markdown",
   "metadata": {
    "cell_id": "5901656488324e5e8f0e8651c12ba98d",
    "deepnote_cell_type": "text-cell-p",
    "formattedRanges": [
     {
      "fromCodePoint": 107,
      "marks": {
       "bold": true
      },
      "toCodePoint": 203,
      "type": "marks"
     }
    ]
   },
   "source": [
    "Since many titles in the dataset include subtitles, book series and volume information, we can assume that **8.3 words is an average length not for a title itself but for a title with additional parameters.** And perhaps, this is what authors and publishers should keep in mind. A short title may not give a reader enough information to get interested in a book, but adding a subtitle or mentioning a book series can draw attention and increase chances for a book of being purchased. "
   ]
  },
  {
   "cell_type": "markdown",
   "metadata": {
    "cell_id": "bc23983f27644668b462a87a245c673e",
    "deepnote_cell_type": "text-cell-h2",
    "formattedRanges": []
   },
   "source": [
    "### A Catchy Title: Cluster analysis of book titles "
   ]
  },
  {
   "cell_type": "markdown",
   "metadata": {
    "cell_id": "a185574d965d4d3596a29ab428af9dfe",
    "deepnote_cell_type": "text-cell-p",
    "formattedRanges": []
   },
   "source": [
    "In this section, we are going to discover the most frequently used words in the titles of the books from our dataset by using data clusters."
   ]
  },
  {
   "cell_type": "markdown",
   "metadata": {
    "cell_id": "c0e44019f2c74cd1939cdf9cfa85467b",
    "deepnote_cell_type": "text-cell-p",
    "formattedRanges": []
   },
   "source": [
    "In our case, we are clustering text data, therefore, the first step for us will be converting text into numbers. For this project, we are going to use the TF-IDF method and K-means."
   ]
  },
  {
   "cell_type": "code",
   "execution_count": 95,
   "metadata": {
    "cell_id": "4fae9f02b11749a5aba572f35c2bf22b",
    "deepnote_cell_type": "code",
    "deepnote_to_be_reexecuted": false,
    "execution_millis": 595,
    "execution_start": 1718026992317,
    "source_hash": "642743a9"
   },
   "outputs": [
    {
     "data": {
      "text/html": [
       "<div>\n",
       "<style scoped>\n",
       "    .dataframe tbody tr th:only-of-type {\n",
       "        vertical-align: middle;\n",
       "    }\n",
       "\n",
       "    .dataframe tbody tr th {\n",
       "        vertical-align: top;\n",
       "    }\n",
       "\n",
       "    .dataframe thead th {\n",
       "        text-align: right;\n",
       "    }\n",
       "</style>\n",
       "<table border=\"1\" class=\"dataframe\">\n",
       "  <thead>\n",
       "    <tr style=\"text-align: right;\">\n",
       "      <th></th>\n",
       "      <th>000</th>\n",
       "      <th>000 awesome</th>\n",
       "      <th>10</th>\n",
       "      <th>10 20</th>\n",
       "      <th>10 alphabet</th>\n",
       "      <th>10 board</th>\n",
       "      <th>10 creator</th>\n",
       "      <th>10 day</th>\n",
       "      <th>10 pictures</th>\n",
       "      <th>100</th>\n",
       "      <th>...</th>\n",
       "      <th>year leap</th>\n",
       "      <th>york</th>\n",
       "      <th>york stories</th>\n",
       "      <th>zelda</th>\n",
       "      <th>zelda hyrule</th>\n",
       "      <th>zone</th>\n",
       "      <th>zone big</th>\n",
       "      <th>zoo</th>\n",
       "      <th>zoo animals</th>\n",
       "      <th>zoo lift</th>\n",
       "    </tr>\n",
       "  </thead>\n",
       "  <tbody>\n",
       "    <tr>\n",
       "      <th>0</th>\n",
       "      <td>0.0</td>\n",
       "      <td>0.0</td>\n",
       "      <td>0.0</td>\n",
       "      <td>0.0</td>\n",
       "      <td>0.0</td>\n",
       "      <td>0.0</td>\n",
       "      <td>0.0</td>\n",
       "      <td>0.0</td>\n",
       "      <td>0.0</td>\n",
       "      <td>0.0</td>\n",
       "      <td>...</td>\n",
       "      <td>0.0</td>\n",
       "      <td>0.0</td>\n",
       "      <td>0.0</td>\n",
       "      <td>0.0</td>\n",
       "      <td>0.0</td>\n",
       "      <td>0.0</td>\n",
       "      <td>0.0</td>\n",
       "      <td>0.0</td>\n",
       "      <td>0.0</td>\n",
       "      <td>0.0</td>\n",
       "    </tr>\n",
       "    <tr>\n",
       "      <th>1</th>\n",
       "      <td>0.0</td>\n",
       "      <td>0.0</td>\n",
       "      <td>0.0</td>\n",
       "      <td>0.0</td>\n",
       "      <td>0.0</td>\n",
       "      <td>0.0</td>\n",
       "      <td>0.0</td>\n",
       "      <td>0.0</td>\n",
       "      <td>0.0</td>\n",
       "      <td>0.0</td>\n",
       "      <td>...</td>\n",
       "      <td>0.0</td>\n",
       "      <td>0.0</td>\n",
       "      <td>0.0</td>\n",
       "      <td>0.0</td>\n",
       "      <td>0.0</td>\n",
       "      <td>0.0</td>\n",
       "      <td>0.0</td>\n",
       "      <td>0.0</td>\n",
       "      <td>0.0</td>\n",
       "      <td>0.0</td>\n",
       "    </tr>\n",
       "    <tr>\n",
       "      <th>2</th>\n",
       "      <td>0.0</td>\n",
       "      <td>0.0</td>\n",
       "      <td>0.0</td>\n",
       "      <td>0.0</td>\n",
       "      <td>0.0</td>\n",
       "      <td>0.0</td>\n",
       "      <td>0.0</td>\n",
       "      <td>0.0</td>\n",
       "      <td>0.0</td>\n",
       "      <td>0.0</td>\n",
       "      <td>...</td>\n",
       "      <td>0.0</td>\n",
       "      <td>0.0</td>\n",
       "      <td>0.0</td>\n",
       "      <td>0.0</td>\n",
       "      <td>0.0</td>\n",
       "      <td>0.0</td>\n",
       "      <td>0.0</td>\n",
       "      <td>0.0</td>\n",
       "      <td>0.0</td>\n",
       "      <td>0.0</td>\n",
       "    </tr>\n",
       "    <tr>\n",
       "      <th>3</th>\n",
       "      <td>0.0</td>\n",
       "      <td>0.0</td>\n",
       "      <td>0.0</td>\n",
       "      <td>0.0</td>\n",
       "      <td>0.0</td>\n",
       "      <td>0.0</td>\n",
       "      <td>0.0</td>\n",
       "      <td>0.0</td>\n",
       "      <td>0.0</td>\n",
       "      <td>0.0</td>\n",
       "      <td>...</td>\n",
       "      <td>0.0</td>\n",
       "      <td>0.0</td>\n",
       "      <td>0.0</td>\n",
       "      <td>0.0</td>\n",
       "      <td>0.0</td>\n",
       "      <td>0.0</td>\n",
       "      <td>0.0</td>\n",
       "      <td>0.0</td>\n",
       "      <td>0.0</td>\n",
       "      <td>0.0</td>\n",
       "    </tr>\n",
       "    <tr>\n",
       "      <th>4</th>\n",
       "      <td>0.0</td>\n",
       "      <td>0.0</td>\n",
       "      <td>0.0</td>\n",
       "      <td>0.0</td>\n",
       "      <td>0.0</td>\n",
       "      <td>0.0</td>\n",
       "      <td>0.0</td>\n",
       "      <td>0.0</td>\n",
       "      <td>0.0</td>\n",
       "      <td>0.0</td>\n",
       "      <td>...</td>\n",
       "      <td>0.0</td>\n",
       "      <td>0.0</td>\n",
       "      <td>0.0</td>\n",
       "      <td>0.0</td>\n",
       "      <td>0.0</td>\n",
       "      <td>0.0</td>\n",
       "      <td>0.0</td>\n",
       "      <td>0.0</td>\n",
       "      <td>0.0</td>\n",
       "      <td>0.0</td>\n",
       "    </tr>\n",
       "    <tr>\n",
       "      <th>...</th>\n",
       "      <td>...</td>\n",
       "      <td>...</td>\n",
       "      <td>...</td>\n",
       "      <td>...</td>\n",
       "      <td>...</td>\n",
       "      <td>...</td>\n",
       "      <td>...</td>\n",
       "      <td>...</td>\n",
       "      <td>...</td>\n",
       "      <td>...</td>\n",
       "      <td>...</td>\n",
       "      <td>...</td>\n",
       "      <td>...</td>\n",
       "      <td>...</td>\n",
       "      <td>...</td>\n",
       "      <td>...</td>\n",
       "      <td>...</td>\n",
       "      <td>...</td>\n",
       "      <td>...</td>\n",
       "      <td>...</td>\n",
       "      <td>...</td>\n",
       "    </tr>\n",
       "    <tr>\n",
       "      <th>695</th>\n",
       "      <td>0.0</td>\n",
       "      <td>0.0</td>\n",
       "      <td>0.0</td>\n",
       "      <td>0.0</td>\n",
       "      <td>0.0</td>\n",
       "      <td>0.0</td>\n",
       "      <td>0.0</td>\n",
       "      <td>0.0</td>\n",
       "      <td>0.0</td>\n",
       "      <td>0.0</td>\n",
       "      <td>...</td>\n",
       "      <td>0.0</td>\n",
       "      <td>0.0</td>\n",
       "      <td>0.0</td>\n",
       "      <td>0.0</td>\n",
       "      <td>0.0</td>\n",
       "      <td>0.0</td>\n",
       "      <td>0.0</td>\n",
       "      <td>0.0</td>\n",
       "      <td>0.0</td>\n",
       "      <td>0.0</td>\n",
       "    </tr>\n",
       "    <tr>\n",
       "      <th>696</th>\n",
       "      <td>0.0</td>\n",
       "      <td>0.0</td>\n",
       "      <td>0.0</td>\n",
       "      <td>0.0</td>\n",
       "      <td>0.0</td>\n",
       "      <td>0.0</td>\n",
       "      <td>0.0</td>\n",
       "      <td>0.0</td>\n",
       "      <td>0.0</td>\n",
       "      <td>0.0</td>\n",
       "      <td>...</td>\n",
       "      <td>0.0</td>\n",
       "      <td>0.0</td>\n",
       "      <td>0.0</td>\n",
       "      <td>0.0</td>\n",
       "      <td>0.0</td>\n",
       "      <td>0.0</td>\n",
       "      <td>0.0</td>\n",
       "      <td>0.0</td>\n",
       "      <td>0.0</td>\n",
       "      <td>0.0</td>\n",
       "    </tr>\n",
       "    <tr>\n",
       "      <th>697</th>\n",
       "      <td>0.0</td>\n",
       "      <td>0.0</td>\n",
       "      <td>0.0</td>\n",
       "      <td>0.0</td>\n",
       "      <td>0.0</td>\n",
       "      <td>0.0</td>\n",
       "      <td>0.0</td>\n",
       "      <td>0.0</td>\n",
       "      <td>0.0</td>\n",
       "      <td>0.0</td>\n",
       "      <td>...</td>\n",
       "      <td>0.0</td>\n",
       "      <td>0.0</td>\n",
       "      <td>0.0</td>\n",
       "      <td>0.0</td>\n",
       "      <td>0.0</td>\n",
       "      <td>0.0</td>\n",
       "      <td>0.0</td>\n",
       "      <td>0.0</td>\n",
       "      <td>0.0</td>\n",
       "      <td>0.0</td>\n",
       "    </tr>\n",
       "    <tr>\n",
       "      <th>698</th>\n",
       "      <td>0.0</td>\n",
       "      <td>0.0</td>\n",
       "      <td>0.0</td>\n",
       "      <td>0.0</td>\n",
       "      <td>0.0</td>\n",
       "      <td>0.0</td>\n",
       "      <td>0.0</td>\n",
       "      <td>0.0</td>\n",
       "      <td>0.0</td>\n",
       "      <td>0.0</td>\n",
       "      <td>...</td>\n",
       "      <td>0.0</td>\n",
       "      <td>0.0</td>\n",
       "      <td>0.0</td>\n",
       "      <td>0.0</td>\n",
       "      <td>0.0</td>\n",
       "      <td>0.0</td>\n",
       "      <td>0.0</td>\n",
       "      <td>0.0</td>\n",
       "      <td>0.0</td>\n",
       "      <td>0.0</td>\n",
       "    </tr>\n",
       "    <tr>\n",
       "      <th>699</th>\n",
       "      <td>0.0</td>\n",
       "      <td>0.0</td>\n",
       "      <td>0.0</td>\n",
       "      <td>0.0</td>\n",
       "      <td>0.0</td>\n",
       "      <td>0.0</td>\n",
       "      <td>0.0</td>\n",
       "      <td>0.0</td>\n",
       "      <td>0.0</td>\n",
       "      <td>0.0</td>\n",
       "      <td>...</td>\n",
       "      <td>0.0</td>\n",
       "      <td>0.0</td>\n",
       "      <td>0.0</td>\n",
       "      <td>0.0</td>\n",
       "      <td>0.0</td>\n",
       "      <td>0.0</td>\n",
       "      <td>0.0</td>\n",
       "      <td>0.0</td>\n",
       "      <td>0.0</td>\n",
       "      <td>0.0</td>\n",
       "    </tr>\n",
       "  </tbody>\n",
       "</table>\n",
       "<p>700 rows × 2949 columns</p>\n",
       "</div>"
      ],
      "text/plain": [
       "     000  000 awesome   10  10 20  10 alphabet  10 board  10 creator  10 day  \\\n",
       "0    0.0          0.0  0.0    0.0          0.0       0.0         0.0     0.0   \n",
       "1    0.0          0.0  0.0    0.0          0.0       0.0         0.0     0.0   \n",
       "2    0.0          0.0  0.0    0.0          0.0       0.0         0.0     0.0   \n",
       "3    0.0          0.0  0.0    0.0          0.0       0.0         0.0     0.0   \n",
       "4    0.0          0.0  0.0    0.0          0.0       0.0         0.0     0.0   \n",
       "..   ...          ...  ...    ...          ...       ...         ...     ...   \n",
       "695  0.0          0.0  0.0    0.0          0.0       0.0         0.0     0.0   \n",
       "696  0.0          0.0  0.0    0.0          0.0       0.0         0.0     0.0   \n",
       "697  0.0          0.0  0.0    0.0          0.0       0.0         0.0     0.0   \n",
       "698  0.0          0.0  0.0    0.0          0.0       0.0         0.0     0.0   \n",
       "699  0.0          0.0  0.0    0.0          0.0       0.0         0.0     0.0   \n",
       "\n",
       "     10 pictures  100  ...  year leap  york  york stories  zelda  \\\n",
       "0            0.0  0.0  ...        0.0   0.0           0.0    0.0   \n",
       "1            0.0  0.0  ...        0.0   0.0           0.0    0.0   \n",
       "2            0.0  0.0  ...        0.0   0.0           0.0    0.0   \n",
       "3            0.0  0.0  ...        0.0   0.0           0.0    0.0   \n",
       "4            0.0  0.0  ...        0.0   0.0           0.0    0.0   \n",
       "..           ...  ...  ...        ...   ...           ...    ...   \n",
       "695          0.0  0.0  ...        0.0   0.0           0.0    0.0   \n",
       "696          0.0  0.0  ...        0.0   0.0           0.0    0.0   \n",
       "697          0.0  0.0  ...        0.0   0.0           0.0    0.0   \n",
       "698          0.0  0.0  ...        0.0   0.0           0.0    0.0   \n",
       "699          0.0  0.0  ...        0.0   0.0           0.0    0.0   \n",
       "\n",
       "     zelda hyrule  zone  zone big  zoo  zoo animals  zoo lift  \n",
       "0             0.0   0.0       0.0  0.0          0.0       0.0  \n",
       "1             0.0   0.0       0.0  0.0          0.0       0.0  \n",
       "2             0.0   0.0       0.0  0.0          0.0       0.0  \n",
       "3             0.0   0.0       0.0  0.0          0.0       0.0  \n",
       "4             0.0   0.0       0.0  0.0          0.0       0.0  \n",
       "..            ...   ...       ...  ...          ...       ...  \n",
       "695           0.0   0.0       0.0  0.0          0.0       0.0  \n",
       "696           0.0   0.0       0.0  0.0          0.0       0.0  \n",
       "697           0.0   0.0       0.0  0.0          0.0       0.0  \n",
       "698           0.0   0.0       0.0  0.0          0.0       0.0  \n",
       "699           0.0   0.0       0.0  0.0          0.0       0.0  \n",
       "\n",
       "[700 rows x 2949 columns]"
      ]
     },
     "execution_count": 95,
     "metadata": {},
     "output_type": "execute_result"
    }
   ],
   "source": [
    "from sklearn.feature_extraction.text import TfidfVectorizer\n",
    "vectorizer = TfidfVectorizer(stop_words='english', ngram_range = (1,2))\n",
    "\n",
    "X = vectorizer.fit_transform(df_1['Name'])\n",
    "\n",
    "pd.DataFrame(X.toarray(), columns = vectorizer.get_feature_names_out())"
   ]
  },
  {
   "cell_type": "markdown",
   "metadata": {
    "cell_id": "c3767b2505254a658c6b0548c76d7147",
    "deepnote_cell_type": "text-cell-p",
    "formattedRanges": []
   },
   "source": [
    "Now, we are going to implement K-means. For K-means, we need to know the number of clusters, but in our case, it is not possible. Therefore, we are going to experiment with the range. We'll assume that the minimum number of clusters is 2 and the maximum number is 9."
   ]
  },
  {
   "cell_type": "code",
   "execution_count": 96,
   "metadata": {
    "cell_id": "aba58f2edf6a4fab8254375f0b5f9dc2",
    "deepnote_cell_type": "code",
    "deepnote_to_be_reexecuted": false,
    "execution_millis": 1041,
    "execution_start": 1718026992928,
    "source_hash": "8f806fda"
   },
   "outputs": [
    {
     "data": {
      "image/png": "[encoded data removed]",
      "text/plain": [
       "<Figure size 640x480 with 1 Axes>"
      ]
     },
     "metadata": {},
     "output_type": "display_data"
    }
   ],
   "source": [
    "from sklearn.cluster import KMeans\n",
    "sum_of_squared_distances = []\n",
    "\n",
    "# K-means clustering\n",
    "K = range(2,9)\n",
    "for k in K:\n",
    "   km = KMeans(n_clusters = k, max_iter = 600, n_init = 10)\n",
    "   km.fit(X)\n",
    "   sum_of_squared_distances.append(km.inertia_)\n",
    "\n",
    "plt.plot(K, sum_of_squared_distances, 'bx-')\n",
    "plt.xlabel('Number of clusters')\n",
    "plt.ylabel('Sum of squared distances')\n",
    "plt.title('Elbow Method For Optimal k')\n",
    "plt.show()"
   ]
  },
  {
   "cell_type": "markdown",
   "metadata": {
    "cell_id": "4b66c04bf30c481fa6ee7b92969a95ee",
    "deepnote_cell_type": "text-cell-p",
    "formattedRanges": []
   },
   "source": [
    "We can see that the more clusters we have, the smaller the square distance is. Around Clusters 6 and 7, the sum of squared distance starts declining, so we'll take 6 to be the optimal number of clusters for our dataset."
   ]
  },
  {
   "cell_type": "markdown",
   "metadata": {
    "cell_id": "335c250e044b4f7cb8a39c590b7241d8",
    "deepnote_cell_type": "text-cell-p",
    "formattedRanges": []
   },
   "source": [
    "Next, we are going to get our clusters and prediction labels out of the model."
   ]
  },
  {
   "cell_type": "code",
   "execution_count": 97,
   "metadata": {
    "cell_id": "7798fb4f76f5414d85eea30cb9c202c3",
    "deepnote_cell_type": "code",
    "deepnote_to_be_reexecuted": false,
    "execution_millis": 271,
    "execution_start": 1718026993979,
    "source_hash": "f0a17b40"
   },
   "outputs": [
    {
     "name": "stdout",
     "output_type": "stream",
     "text": [
      "                                                 title  cluster\n",
      "379        The Deep End (Diary of a Wimpy Kid Book 15)        0\n",
      "22   Publication Manual of the American Psychologic...        0\n",
      "425            My Little Golden Book About Betty White        0\n",
      "276                                  Leonardo da Vinci        0\n",
      "120               What to Expect When You're Expecting        0\n",
      "..                                                 ...      ...\n",
      "399  My First Library : Boxset of 10 Board Books fo...        5\n",
      "185                Diary of a Wimpy Kid: The Long Haul        5\n",
      "65                       Mockingjay (The Hunger Games)        5\n",
      "13                       Going Rogue: An American Life        5\n",
      "387                                               1984        5\n",
      "\n",
      "[441 rows x 2 columns]\n"
     ]
    }
   ],
   "source": [
    "# Get clusters\n",
    "true_k = 6\n",
    "model = KMeans(n_clusters = true_k, init = 'k-means++', max_iter = 600, n_init = 10)\n",
    "model.fit(X)\n",
    "\n",
    "# Get prediction labels\n",
    "labels = model.labels_\n",
    "book_cl = pd.DataFrame(list(zip(df_1['Name'].unique(), labels)),columns = ['title','cluster'])\n",
    "print(book_cl.sort_values(by = ['cluster']))"
   ]
  },
  {
   "cell_type": "markdown",
   "metadata": {
    "cell_id": "7d3ac495ac43485b9a902382050ce2ac",
    "deepnote_cell_type": "text-cell-p",
    "formattedRanges": []
   },
   "source": [
    "Now that we've got our clusters, let us find out what are the top 15 most frequently words per cluster."
   ]
  },
  {
   "cell_type": "code",
   "execution_count": 98,
   "metadata": {
    "cell_id": "b332ed74b07d426b98d86cbcdc996452",
    "deepnote_cell_type": "code",
    "deepnote_to_be_reexecuted": false,
    "execution_millis": 2077,
    "execution_start": 1718026994045,
    "source_hash": "8b5e00d1"
   },
   "outputs": [
    {
     "name": "stdout",
     "output_type": "stream",
     "text": [
      "Cluster 0:\n",
      "  book: 3\n",
      "  change: 2\n",
      "  dog: 2\n",
      "  man: 2\n",
      "  publication: 1\n",
      "  manual: 1\n",
      "  american: 1\n",
      "  psychological: 1\n",
      "  association: 1\n",
      "  th: 1\n",
      "  edition: 1\n",
      "  switch: 1\n",
      "  thing: 1\n",
      "  hard: 1\n",
      "  expect: 1\n",
      "Cluster 1:\n",
      "  kid: 3\n",
      "  difficult: 2\n",
      "  riddle: 2\n",
      "  smart: 2\n",
      "  love: 2\n",
      "  book: 2\n",
      "  life: 2\n",
      "  rush: 1\n",
      "  revere: 1\n",
      "  brave: 1\n",
      "  pilgrim: 1\n",
      "  timetravel: 1\n",
      "  adventure: 1\n",
      "  exceptional: 1\n",
      "  american: 1\n",
      "Cluster 2:\n",
      "  book: 20\n",
      "  dog: 7\n",
      "  novel: 6\n",
      "  man: 6\n",
      "  kid: 5\n",
      "  diary: 4\n",
      "  wimpy: 4\n",
      "  twilight: 3\n",
      "  last: 3\n",
      "  hero: 3\n",
      "  memoir: 3\n",
      "  creator: 3\n",
      "  captain: 3\n",
      "  underpants: 3\n",
      "  lettering: 3\n",
      "Cluster 3:\n",
      "  book: 55\n",
      "  novel: 29\n",
      "  kid: 20\n",
      "  coloring: 17\n",
      "  love: 14\n",
      "  edition: 13\n",
      "  fifty: 13\n",
      "  shade: 13\n",
      "  man: 12\n",
      "  cookbook: 12\n",
      "  harry: 12\n",
      "  potter: 12\n",
      "  guide: 11\n",
      "  little: 11\n",
      "  series: 11\n",
      "Cluster 4:\n",
      "  craving: 1\n",
      "  recipe: 1\n",
      "  food: 1\n",
      "  want: 1\n",
      "  eat: 1\n",
      "  cookbook: 1\n",
      "  tool: 1\n",
      "  titan: 1\n",
      "  tactic: 1\n",
      "  routine: 1\n",
      "  habit: 1\n",
      "  billionaire: 1\n",
      "  icon: 1\n",
      "  worldclass: 1\n",
      "  performer: 1\n",
      "Cluster 5:\n",
      "  story: 2\n",
      "  killing: 2\n",
      "  america: 2\n",
      "  series: 2\n",
      "  book: 2\n",
      "  kid: 2\n",
      "  strange: 2\n",
      "  planet: 2\n",
      "  love: 2\n",
      "  going: 1\n",
      "  rogue: 1\n",
      "  american: 1\n",
      "  life: 1\n",
      "  mockingjay: 1\n",
      "  hunger: 1\n"
     ]
    }
   ],
   "source": [
    "from collections import Counter\n",
    "import re\n",
    "import nltk\n",
    "from nltk.corpus import stopwords\n",
    "from nltk.tokenize import word_tokenize\n",
    "from nltk.stem import WordNetLemmatizer\n",
    "\n",
    "# Function to preprocess titles\n",
    "def preprocess_title(title):\n",
    "    title = title.lower()  # Convert to lowercase\n",
    "    title = re.sub(r'[^a-z\\s]', '', title)  # Remove punctuation\n",
    "    tokens = word_tokenize(title)  # Tokenize\n",
    "    stop_words = set(stopwords.words('english'))  # Get English stop words\n",
    "    tokens = [word for word in tokens if word not in stop_words]  # Remove stop words\n",
    "    lemmatizer = WordNetLemmatizer()\n",
    "    tokens = [lemmatizer.lemmatize(word) for word in tokens]  # Lemmatize\n",
    "    return tokens\n",
    "\n",
    "# Apply preprocessing to titles\n",
    "book_cl['processed_title'] = book_cl['title'].apply(preprocess_title)\n",
    "\n",
    "# Count word frequencies per cluster\n",
    "cluster_word_counts = {}\n",
    "\n",
    "for k in range(book_cl['cluster'].nunique()):\n",
    "    cluster_titles = book_cl[book_cl['cluster'] == k]['processed_title']\n",
    "    all_words = [word for title in cluster_titles for word in title]\n",
    "    word_count = Counter(all_words)\n",
    "    cluster_word_counts[k] = word_count\n",
    "\n",
    "# Get top words per cluster and print them\n",
    "top_words_per_cluster = {}\n",
    "for k, word_count in cluster_word_counts.items():\n",
    "    top_words = word_count.most_common(15)  # Get top 15 words\n",
    "    top_words_per_cluster[k] = top_words\n",
    "    print(f\"Cluster {k}:\")\n",
    "    for word, count in top_words:\n",
    "        print(f\"  {word}: {count}\")"
   ]
  },
  {
   "cell_type": "markdown",
   "metadata": {
    "cell_id": "0db5422c511e44578042e929e1b50a1b",
    "deepnote_cell_type": "text-cell-p",
    "formattedRanges": []
   },
   "source": [
    "We now know what are the most frequently used words in each cluster. Now, let's change the visual representation of our findings and created word clouds from our clusters. "
   ]
  },
  {
   "cell_type": "code",
   "execution_count": 99,
   "metadata": {
    "cell_id": "3680f96484d14559a7f0f18242c16aa6",
    "deepnote_cell_type": "code",
    "deepnote_to_be_reexecuted": false,
    "execution_millis": 4450,
    "execution_start": 1718026996132,
    "source_hash": "ac3959b2"
   },
   "outputs": [
    {
     "data": {
      "image/png": "[encoded data removed]",
      "text/plain": [
       "<Figure size 640x480 with 6 Axes>"
      ]
     },
     "metadata": {},
     "output_type": "display_data"
    }
   ],
   "source": [
    "from wordcloud import WordCloud\n",
    "\n",
    "for k in range(true_k):\n",
    "   text = book_cl[book_cl.cluster == k]['title'].str.cat(sep=' ')\n",
    "   wordcloud = WordCloud(max_font_size=50, max_words=15, background_color=\"white\").generate(text)\n",
    "\n",
    "   plt.subplot(3, 2, k+1).set_title(\"Cluster \" + str(k)) \n",
    "   plt.plot()\n",
    "   plt.imshow(wordcloud, interpolation=\"bilinear\")\n",
    "   plt.axis(\"off\")\n",
    "\n",
    "plt.show()"
   ]
  },
  {
   "cell_type": "markdown",
   "metadata": {
    "cell_id": "952203f9d4944601b5317e7a240db504",
    "deepnote_cell_type": "text-cell-h2",
    "formattedRanges": []
   },
   "source": [
    "### Conclusion"
   ]
  },
  {
   "cell_type": "markdown",
   "metadata": {
    "cell_id": "9acecbd731d94c6490f5971d472ca80f",
    "deepnote_cell_type": "text-cell-p",
    "formattedRanges": []
   },
   "source": [
    "Based on our analysis of Amazon bestselling books data between 2009 and 2022, we can come up with the following recommendations for authors and publishers"
   ]
  },
  {
   "cell_type": "markdown",
   "metadata": {
    "cell_id": "e89936c8ac0a44e0b9a59566c6e210dd",
    "deepnote_cell_type": "text-cell-bullet",
    "formattedRanges": [
     {
      "fromCodePoint": 0,
      "marks": {
       "bold": true
      },
      "toCodePoint": 69,
      "type": "marks"
     }
    ]
   },
   "source": [
    "- **Genre seems to have of a little significance when it comes to ratings** of Fiction and Non Fictions books. Average user ratings for both genres differ slightly, with Fiction books average being 0.04 points higher."
   ]
  },
  {
   "cell_type": "markdown",
   "metadata": {
    "cell_id": "40000aafe0324d22a1ea9535338b39ed",
    "deepnote_cell_type": "text-cell-bullet",
    "formattedRanges": [
     {
      "fromCodePoint": 12,
      "marks": {
       "bold": true
      },
      "toCodePoint": 94,
      "type": "marks"
     }
    ]
   },
   "source": [
    "- Even though **the average price of Amazon bestsellers have been increasing between 2020 and 2022**, customers may still not be willing to pay a lot of money for their books, so for a publisher and/or a self-publishing author it may be beneficial to focus on more affordable options like e-books or paperbacks."
   ]
  },
  {
   "cell_type": "markdown",
   "metadata": {
    "cell_id": "90483229ae8b4f07a5d0f76bae551f0e",
    "deepnote_cell_type": "text-cell-bullet",
    "formattedRanges": [
     {
      "fromCodePoint": 0,
      "marks": {
       "bold": true
      },
      "toCodePoint": 68,
      "type": "marks"
     }
    ]
   },
   "source": [
    "- **The average price for Non Fiction books is approximately 25% higher** than for Fiction ones, so from the revenue perspective, it can make more sense to write and/or publish books in this genre category. "
   ]
  },
  {
   "cell_type": "markdown",
   "metadata": {
    "cell_id": "da6b1373db524c02b464b5b51a031f41",
    "deepnote_cell_type": "text-cell-bullet",
    "formattedRanges": [
     {
      "fromCodePoint": 16,
      "marks": {
       "bold": true
      },
      "toCodePoint": 61,
      "type": "marks"
     }
    ]
   },
   "source": [
    "- Over the years, **Fiction books have been getting more reviews** which may indicate their persistent popularity among readers. Reviews make products more visible and help them get picked up by algorithms, which serve as a self-promoting mechanism that costs nothing for an author and/or a publisher."
   ]
  },
  {
   "cell_type": "markdown",
   "metadata": {
    "cell_id": "7f2dc39bf8a54d599ea2058879333716",
    "deepnote_cell_type": "text-cell-bullet",
    "formattedRanges": [
     {
      "fromCodePoint": 94,
      "marks": {
       "bold": true
      },
      "toCodePoint": 134,
      "type": "marks"
     }
    ]
   },
   "source": [
    "- When it comes to choosing a catchy name for the next potential bestseller, we can assume that **a title containing additional parameters** (like subtitle or mention of a book series) may be beneficial. When it comes book sub-genres, a cookbook or a kids' book may be a good candidate for the next Non Fiction Amazon bestseller. As for Fiction, it is a little harder to predict, but we can assume that thrillers and love stories will continue to be in demand."
   ]
  }
 ],
 "metadata": {
  "deepnote_execution_queue": [],
  "deepnote_notebook_id": "d858a5d5acda4d87ac74892065650de4",
  "deepnote_persisted_session": {
   "createdAt": "2024-06-10T13:42:38.885Z"
  },
  "kernelspec": {
   "display_name": "base",
   "language": "python",
   "name": "python3"
  },
  "language_info": {
   "codemirror_mode": {
    "name": "ipython",
    "version": 3
   },
   "file_extension": ".py",
   "mimetype": "text/x-python",
   "name": "python",
   "nbconvert_exporter": "python",
   "pygments_lexer": "ipython3",
   "version": "3.12.4"
  }
 },
 "nbformat": 4,
 "nbformat_minor": 4
}
